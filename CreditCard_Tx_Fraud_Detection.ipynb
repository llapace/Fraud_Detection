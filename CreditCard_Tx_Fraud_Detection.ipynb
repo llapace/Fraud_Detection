{
 "cells": [
  {
   "cell_type": "markdown",
   "metadata": {},
   "source": [
    "Smote technique to optimize imbalanced data set\n",
    "\n",
    "· Baseline classification model – logistic regression & K-nearest\n",
    "\n",
    "· XG-Boost model – tune parameters via grid search\n",
    "\n",
    "· Lean into imbalance data set thing and anomaly detection\n",
    "\n",
    "Anomaly detection ideas:\n",
    "\n",
    "- Auto encoder\n",
    "- DB scan\n",
    "\n",
    "\n",
    "· Maybe correlate time feature"
   ]
  },
  {
   "cell_type": "code",
<<<<<<< Updated upstream
   "execution_count": 86,
=======
   "execution_count": 1,
>>>>>>> Stashed changes
   "metadata": {},
   "outputs": [],
   "source": [
    "# pip install opendatasets\n",
    "\n",
    "import opendatasets as od\n",
    "import os\n",
    "import pandas as pd\n",
    "import numpy as np\n",
    "import matplotlib.pyplot as plt\n",
    "import seaborn as sns\n",
    "from sklearn.model_selection import GridSearchCV, train_test_split\n",
    "\n",
    "# %matplotlib\n",
    "pd.set_option('display.max_columns', None)"
   ]
  },
  {
   "cell_type": "markdown",
   "metadata": {},
   "source": [
    "### Load Data \n",
    "\n",
    "- retreived from kaggle portal\n",
    "- File too large to store in github"
   ]
  },
  {
   "cell_type": "code",
<<<<<<< Updated upstream
   "execution_count": 87,
=======
   "execution_count": 2,
>>>>>>> Stashed changes
   "metadata": {},
   "outputs": [
    {
     "name": "stdout",
     "output_type": "stream",
     "text": [
<<<<<<< Updated upstream
      "Skipping, found downloaded files in \"./creditcardfraud\" (use force=True to force download)\n"
=======
      "Please provide your Kaggle credentials to download this dataset. Learn more: http://bit.ly/kaggle-creds\n",
      "Your Kaggle username:Your Kaggle Key:Dataset URL: https://www.kaggle.com/datasets/mlg-ulb/creditcardfraud\n",
      "Downloading creditcardfraud.zip to ./creditcardfraud\n"
     ]
    },
    {
     "name": "stderr",
     "output_type": "stream",
     "text": [
      "100%|██████████| 66.0M/66.0M [00:01<00:00, 52.6MB/s]\n"
     ]
    },
    {
     "name": "stdout",
     "output_type": "stream",
     "text": [
      "\n"
>>>>>>> Stashed changes
     ]
    }
   ],
   "source": [
    "dataset_url=\"https://www.kaggle.com/datasets/mlg-ulb/creditcardfraud/data\"\n",
    "\n",
    "od.download(dataset_url)"
   ]
  },
  {
   "cell_type": "code",
<<<<<<< Updated upstream
   "execution_count": 88,
=======
   "execution_count": 3,
>>>>>>> Stashed changes
   "metadata": {},
   "outputs": [
    {
     "data": {
      "text/plain": [
       "['creditcard.csv']"
      ]
     },
<<<<<<< Updated upstream
     "execution_count": 88,
=======
     "execution_count": 3,
>>>>>>> Stashed changes
     "metadata": {},
     "output_type": "execute_result"
    }
   ],
   "source": [
    "data_dir = \"creditcardfraud\"\n",
    "\n",
    "os.listdir(data_dir)"
   ]
  },
  {
   "cell_type": "code",
<<<<<<< Updated upstream
   "execution_count": 123,
=======
   "execution_count": 4,
>>>>>>> Stashed changes
   "metadata": {},
   "outputs": [
    {
     "data": {
      "text/html": [
       "<div>\n",
       "<style scoped>\n",
       "    .dataframe tbody tr th:only-of-type {\n",
       "        vertical-align: middle;\n",
       "    }\n",
       "\n",
       "    .dataframe tbody tr th {\n",
       "        vertical-align: top;\n",
       "    }\n",
       "\n",
       "    .dataframe thead th {\n",
       "        text-align: right;\n",
       "    }\n",
       "</style>\n",
       "<table border=\"1\" class=\"dataframe\">\n",
       "  <thead>\n",
       "    <tr style=\"text-align: right;\">\n",
       "      <th></th>\n",
       "      <th>Time</th>\n",
       "      <th>V1</th>\n",
       "      <th>V2</th>\n",
       "      <th>V3</th>\n",
       "      <th>V4</th>\n",
       "      <th>V5</th>\n",
       "      <th>V6</th>\n",
       "      <th>V7</th>\n",
       "      <th>V8</th>\n",
       "      <th>V9</th>\n",
       "      <th>V10</th>\n",
       "      <th>V11</th>\n",
       "      <th>V12</th>\n",
       "      <th>V13</th>\n",
       "      <th>V14</th>\n",
       "      <th>V15</th>\n",
       "      <th>V16</th>\n",
       "      <th>V17</th>\n",
       "      <th>V18</th>\n",
       "      <th>V19</th>\n",
       "      <th>V20</th>\n",
       "      <th>V21</th>\n",
       "      <th>V22</th>\n",
       "      <th>V23</th>\n",
       "      <th>V24</th>\n",
       "      <th>V25</th>\n",
       "      <th>V26</th>\n",
       "      <th>V27</th>\n",
       "      <th>V28</th>\n",
       "      <th>Amount</th>\n",
       "      <th>Class</th>\n",
       "    </tr>\n",
       "  </thead>\n",
       "  <tbody>\n",
       "    <tr>\n",
       "      <th>0</th>\n",
       "      <td>0.0</td>\n",
       "      <td>-1.359807</td>\n",
       "      <td>-0.072781</td>\n",
       "      <td>2.536347</td>\n",
       "      <td>1.378155</td>\n",
       "      <td>-0.338321</td>\n",
       "      <td>0.462388</td>\n",
       "      <td>0.239599</td>\n",
       "      <td>0.098698</td>\n",
       "      <td>0.363787</td>\n",
       "      <td>0.090794</td>\n",
       "      <td>-0.551600</td>\n",
       "      <td>-0.617801</td>\n",
       "      <td>-0.991390</td>\n",
       "      <td>-0.311169</td>\n",
       "      <td>1.468177</td>\n",
       "      <td>-0.470401</td>\n",
       "      <td>0.207971</td>\n",
       "      <td>0.025791</td>\n",
       "      <td>0.403993</td>\n",
       "      <td>0.251412</td>\n",
       "      <td>-0.018307</td>\n",
       "      <td>0.277838</td>\n",
       "      <td>-0.110474</td>\n",
       "      <td>0.066928</td>\n",
       "      <td>0.128539</td>\n",
       "      <td>-0.189115</td>\n",
       "      <td>0.133558</td>\n",
       "      <td>-0.021053</td>\n",
       "      <td>149.62</td>\n",
       "      <td>0</td>\n",
       "    </tr>\n",
       "    <tr>\n",
       "      <th>1</th>\n",
       "      <td>0.0</td>\n",
       "      <td>1.191857</td>\n",
       "      <td>0.266151</td>\n",
       "      <td>0.166480</td>\n",
       "      <td>0.448154</td>\n",
       "      <td>0.060018</td>\n",
       "      <td>-0.082361</td>\n",
       "      <td>-0.078803</td>\n",
       "      <td>0.085102</td>\n",
       "      <td>-0.255425</td>\n",
       "      <td>-0.166974</td>\n",
       "      <td>1.612727</td>\n",
       "      <td>1.065235</td>\n",
       "      <td>0.489095</td>\n",
       "      <td>-0.143772</td>\n",
       "      <td>0.635558</td>\n",
       "      <td>0.463917</td>\n",
       "      <td>-0.114805</td>\n",
       "      <td>-0.183361</td>\n",
       "      <td>-0.145783</td>\n",
       "      <td>-0.069083</td>\n",
       "      <td>-0.225775</td>\n",
       "      <td>-0.638672</td>\n",
       "      <td>0.101288</td>\n",
       "      <td>-0.339846</td>\n",
       "      <td>0.167170</td>\n",
       "      <td>0.125895</td>\n",
       "      <td>-0.008983</td>\n",
       "      <td>0.014724</td>\n",
       "      <td>2.69</td>\n",
       "      <td>0</td>\n",
       "    </tr>\n",
       "    <tr>\n",
       "      <th>2</th>\n",
       "      <td>1.0</td>\n",
       "      <td>-1.358354</td>\n",
       "      <td>-1.340163</td>\n",
       "      <td>1.773209</td>\n",
       "      <td>0.379780</td>\n",
       "      <td>-0.503198</td>\n",
       "      <td>1.800499</td>\n",
       "      <td>0.791461</td>\n",
       "      <td>0.247676</td>\n",
       "      <td>-1.514654</td>\n",
       "      <td>0.207643</td>\n",
       "      <td>0.624501</td>\n",
       "      <td>0.066084</td>\n",
       "      <td>0.717293</td>\n",
       "      <td>-0.165946</td>\n",
       "      <td>2.345865</td>\n",
       "      <td>-2.890083</td>\n",
       "      <td>1.109969</td>\n",
       "      <td>-0.121359</td>\n",
       "      <td>-2.261857</td>\n",
       "      <td>0.524980</td>\n",
       "      <td>0.247998</td>\n",
       "      <td>0.771679</td>\n",
       "      <td>0.909412</td>\n",
       "      <td>-0.689281</td>\n",
       "      <td>-0.327642</td>\n",
       "      <td>-0.139097</td>\n",
       "      <td>-0.055353</td>\n",
       "      <td>-0.059752</td>\n",
       "      <td>378.66</td>\n",
       "      <td>0</td>\n",
       "    </tr>\n",
       "    <tr>\n",
       "      <th>3</th>\n",
       "      <td>1.0</td>\n",
       "      <td>-0.966272</td>\n",
       "      <td>-0.185226</td>\n",
       "      <td>1.792993</td>\n",
       "      <td>-0.863291</td>\n",
       "      <td>-0.010309</td>\n",
       "      <td>1.247203</td>\n",
       "      <td>0.237609</td>\n",
       "      <td>0.377436</td>\n",
       "      <td>-1.387024</td>\n",
       "      <td>-0.054952</td>\n",
       "      <td>-0.226487</td>\n",
       "      <td>0.178228</td>\n",
       "      <td>0.507757</td>\n",
       "      <td>-0.287924</td>\n",
       "      <td>-0.631418</td>\n",
       "      <td>-1.059647</td>\n",
       "      <td>-0.684093</td>\n",
       "      <td>1.965775</td>\n",
       "      <td>-1.232622</td>\n",
       "      <td>-0.208038</td>\n",
       "      <td>-0.108300</td>\n",
       "      <td>0.005274</td>\n",
       "      <td>-0.190321</td>\n",
       "      <td>-1.175575</td>\n",
       "      <td>0.647376</td>\n",
       "      <td>-0.221929</td>\n",
       "      <td>0.062723</td>\n",
       "      <td>0.061458</td>\n",
       "      <td>123.50</td>\n",
       "      <td>0</td>\n",
       "    </tr>\n",
       "    <tr>\n",
       "      <th>4</th>\n",
       "      <td>2.0</td>\n",
       "      <td>-1.158233</td>\n",
       "      <td>0.877737</td>\n",
       "      <td>1.548718</td>\n",
       "      <td>0.403034</td>\n",
       "      <td>-0.407193</td>\n",
       "      <td>0.095921</td>\n",
       "      <td>0.592941</td>\n",
       "      <td>-0.270533</td>\n",
       "      <td>0.817739</td>\n",
       "      <td>0.753074</td>\n",
       "      <td>-0.822843</td>\n",
       "      <td>0.538196</td>\n",
       "      <td>1.345852</td>\n",
       "      <td>-1.119670</td>\n",
       "      <td>0.175121</td>\n",
       "      <td>-0.451449</td>\n",
       "      <td>-0.237033</td>\n",
       "      <td>-0.038195</td>\n",
       "      <td>0.803487</td>\n",
       "      <td>0.408542</td>\n",
       "      <td>-0.009431</td>\n",
       "      <td>0.798278</td>\n",
       "      <td>-0.137458</td>\n",
       "      <td>0.141267</td>\n",
       "      <td>-0.206010</td>\n",
       "      <td>0.502292</td>\n",
       "      <td>0.219422</td>\n",
       "      <td>0.215153</td>\n",
       "      <td>69.99</td>\n",
       "      <td>0</td>\n",
       "    </tr>\n",
       "  </tbody>\n",
       "</table>\n",
       "</div>"
      ],
      "text/plain": [
       "   Time        V1        V2        V3        V4        V5        V6        V7  \\\n",
       "0   0.0 -1.359807 -0.072781  2.536347  1.378155 -0.338321  0.462388  0.239599   \n",
       "1   0.0  1.191857  0.266151  0.166480  0.448154  0.060018 -0.082361 -0.078803   \n",
       "2   1.0 -1.358354 -1.340163  1.773209  0.379780 -0.503198  1.800499  0.791461   \n",
       "3   1.0 -0.966272 -0.185226  1.792993 -0.863291 -0.010309  1.247203  0.237609   \n",
       "4   2.0 -1.158233  0.877737  1.548718  0.403034 -0.407193  0.095921  0.592941   \n",
       "\n",
       "         V8        V9       V10       V11       V12       V13       V14  \\\n",
       "0  0.098698  0.363787  0.090794 -0.551600 -0.617801 -0.991390 -0.311169   \n",
       "1  0.085102 -0.255425 -0.166974  1.612727  1.065235  0.489095 -0.143772   \n",
       "2  0.247676 -1.514654  0.207643  0.624501  0.066084  0.717293 -0.165946   \n",
       "3  0.377436 -1.387024 -0.054952 -0.226487  0.178228  0.507757 -0.287924   \n",
       "4 -0.270533  0.817739  0.753074 -0.822843  0.538196  1.345852 -1.119670   \n",
       "\n",
       "        V15       V16       V17       V18       V19       V20       V21  \\\n",
       "0  1.468177 -0.470401  0.207971  0.025791  0.403993  0.251412 -0.018307   \n",
       "1  0.635558  0.463917 -0.114805 -0.183361 -0.145783 -0.069083 -0.225775   \n",
       "2  2.345865 -2.890083  1.109969 -0.121359 -2.261857  0.524980  0.247998   \n",
       "3 -0.631418 -1.059647 -0.684093  1.965775 -1.232622 -0.208038 -0.108300   \n",
       "4  0.175121 -0.451449 -0.237033 -0.038195  0.803487  0.408542 -0.009431   \n",
       "\n",
       "        V22       V23       V24       V25       V26       V27       V28  \\\n",
       "0  0.277838 -0.110474  0.066928  0.128539 -0.189115  0.133558 -0.021053   \n",
       "1 -0.638672  0.101288 -0.339846  0.167170  0.125895 -0.008983  0.014724   \n",
       "2  0.771679  0.909412 -0.689281 -0.327642 -0.139097 -0.055353 -0.059752   \n",
       "3  0.005274 -0.190321 -1.175575  0.647376 -0.221929  0.062723  0.061458   \n",
       "4  0.798278 -0.137458  0.141267 -0.206010  0.502292  0.219422  0.215153   \n",
       "\n",
       "   Amount  Class  \n",
       "0  149.62      0  \n",
       "1    2.69      0  \n",
       "2  378.66      0  \n",
       "3  123.50      0  \n",
       "4   69.99      0  "
      ]
     },
<<<<<<< Updated upstream
     "execution_count": 123,
=======
     "execution_count": 4,
>>>>>>> Stashed changes
     "metadata": {},
     "output_type": "execute_result"
    }
   ],
   "source": [
    "creditcard=data_dir + \"/creditcard.csv\"\n",
    "data = pd.read_csv(creditcard)\n",
    "\n",
    "data.head()"
   ]
  },
  {
   "cell_type": "code",
<<<<<<< Updated upstream
   "execution_count": 90,
=======
   "execution_count": 5,
>>>>>>> Stashed changes
   "metadata": {},
   "outputs": [
    {
     "name": "stdout",
     "output_type": "stream",
     "text": [
      "<class 'pandas.core.frame.DataFrame'>\n",
      "RangeIndex: 284807 entries, 0 to 284806\n",
      "Data columns (total 31 columns):\n",
      " #   Column  Non-Null Count   Dtype  \n",
      "---  ------  --------------   -----  \n",
      " 0   Time    284807 non-null  float64\n",
      " 1   V1      284807 non-null  float64\n",
      " 2   V2      284807 non-null  float64\n",
      " 3   V3      284807 non-null  float64\n",
      " 4   V4      284807 non-null  float64\n",
      " 5   V5      284807 non-null  float64\n",
      " 6   V6      284807 non-null  float64\n",
      " 7   V7      284807 non-null  float64\n",
      " 8   V8      284807 non-null  float64\n",
      " 9   V9      284807 non-null  float64\n",
      " 10  V10     284807 non-null  float64\n",
      " 11  V11     284807 non-null  float64\n",
      " 12  V12     284807 non-null  float64\n",
      " 13  V13     284807 non-null  float64\n",
      " 14  V14     284807 non-null  float64\n",
      " 15  V15     284807 non-null  float64\n",
      " 16  V16     284807 non-null  float64\n",
      " 17  V17     284807 non-null  float64\n",
      " 18  V18     284807 non-null  float64\n",
      " 19  V19     284807 non-null  float64\n",
      " 20  V20     284807 non-null  float64\n",
      " 21  V21     284807 non-null  float64\n",
      " 22  V22     284807 non-null  float64\n",
      " 23  V23     284807 non-null  float64\n",
      " 24  V24     284807 non-null  float64\n",
      " 25  V25     284807 non-null  float64\n",
      " 26  V26     284807 non-null  float64\n",
      " 27  V27     284807 non-null  float64\n",
      " 28  V28     284807 non-null  float64\n",
      " 29  Amount  284807 non-null  float64\n",
      " 30  Class   284807 non-null  int64  \n",
      "dtypes: float64(30), int64(1)\n",
      "memory usage: 67.4 MB\n"
     ]
    }
   ],
   "source": [
    "data.info()"
   ]
  },
  {
   "cell_type": "code",
<<<<<<< Updated upstream
   "execution_count": 91,
=======
   "execution_count": 6,
>>>>>>> Stashed changes
   "metadata": {},
   "outputs": [
    {
     "data": {
      "text/plain": [
       "0    284315\n",
       "1       492\n",
       "Name: Class, dtype: int64"
      ]
     },
<<<<<<< Updated upstream
     "execution_count": 91,
=======
     "execution_count": 6,
>>>>>>> Stashed changes
     "metadata": {},
     "output_type": "execute_result"
    }
   ],
   "source": [
    "data['Class'].value_counts()"
   ]
  },
  {
   "cell_type": "code",
   "execution_count": 92,
   "metadata": {},
   "outputs": [
    {
     "data": {
      "text/plain": [
       "0.002"
      ]
     },
     "execution_count": 92,
     "metadata": {},
     "output_type": "execute_result"
    }
   ],
   "source": [
    "prop = 492/ 284315\n",
    "round(prop, 3)"
   ]
  },
  {
   "cell_type": "code",
   "execution_count": 93,
   "metadata": {},
   "outputs": [
    {
     "data": {
      "image/png": "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",
      "text/plain": [
       "<Figure size 640x480 with 1 Axes>"
      ]
     },
     "metadata": {},
     "output_type": "display_data"
    }
   ],
   "source": [
    "#data imbalance\n",
    "sns.histplot(data['Class'])\n",
    "plt.yscale('log')\n",
    "plt.show()\n"
   ]
  },
  {
   "cell_type": "code",
   "execution_count": 94,
   "metadata": {},
   "outputs": [
    {
     "data": {
      "text/plain": [
       "Class\n",
       "0    25102462.04\n",
       "1       60127.97\n",
       "Name: Amount, dtype: float64"
      ]
     },
     "execution_count": 94,
     "metadata": {},
     "output_type": "execute_result"
    }
   ],
   "source": [
    "data.groupby('Class')['Amount'].sum()"
   ]
  },
  {
   "cell_type": "code",
<<<<<<< Updated upstream
   "execution_count": 95,
=======
   "execution_count": 9,
>>>>>>> Stashed changes
   "metadata": {},
   "outputs": [
    {
     "data": {
      "text/plain": [
       "<Axes: xlabel='Amount', ylabel='Class'>"
      ]
     },
<<<<<<< Updated upstream
     "execution_count": 95,
=======
     "execution_count": 9,
>>>>>>> Stashed changes
     "metadata": {},
     "output_type": "execute_result"
    },
    {
     "data": {
      "image/png": "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",
      "text/plain": [
       "<Figure size 640x480 with 1 Axes>"
      ]
     },
     "metadata": {},
     "output_type": "display_data"
    }
   ],
   "source": [
    "amountClass = data[[\"Amount\", \"Class\"]]\n",
    "sns.scatterplot(amountClass, x = \"Amount\", y= \"Class\")"
   ]
  },
  {
   "cell_type": "code",
   "execution_count": 25,
   "metadata": {},
   "outputs": [
    {
     "data": {
      "text/plain": [
       "2125.87"
      ]
     },
     "execution_count": 25,
     "metadata": {},
     "output_type": "execute_result"
    }
   ],
   "source": [
    "amountClass[amountClass.Class==1].Amount.max()"
   ]
  },
  {
   "cell_type": "code",
   "execution_count": 26,
   "metadata": {},
   "outputs": [
    {
     "data": {
      "text/plain": [
       "0         149.62\n",
       "1           2.69\n",
       "2         378.66\n",
       "3         123.50\n",
       "4          69.99\n",
       "           ...  \n",
       "284802      0.77\n",
       "284803     24.79\n",
       "284804     67.88\n",
       "284805     10.00\n",
       "284806    217.00\n",
       "Name: Amount, Length: 284315, dtype: float64"
      ]
     },
     "execution_count": 26,
     "metadata": {},
     "output_type": "execute_result"
    }
   ],
   "source": [
    "amountClass[amountClass.Class==0].Amount"
   ]
  },
  {
   "cell_type": "code",
   "execution_count": 28,
   "metadata": {},
   "outputs": [
    {
     "data": {
      "image/png": "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",
      "text/plain": [
       "<Figure size 640x480 with 1 Axes>"
      ]
     },
     "metadata": {},
     "output_type": "display_data"
    }
   ],
   "source": [
    "bins = np.linspace(0,np.log10(25000),20)\n",
    "plt.hist(np.log10(amountClass[amountClass.Class==1].Amount), bins=bins, density=True, alpha=0.5)\n",
    "plt.hist(np.log10(amountClass[amountClass.Class==0].Amount), bins=bins, density=True, alpha=0.5)\n",
    "plt.show()"
   ]
  },
  {
   "cell_type": "markdown",
   "metadata": {},
   "source": [
    "Bringing Amount and Time into the same scale as the rest of the column as not in give a single feature dominance over the other. "
   ]
  },
  {
   "cell_type": "markdown",
   "metadata": {},
   "source": [
    "May want to use log normalization"
   ]
  },
  {
   "cell_type": "code",
   "execution_count": 96,
   "metadata": {},
   "outputs": [
    {
     "data": {
      "text/html": [
       "<div>\n",
       "<style scoped>\n",
       "    .dataframe tbody tr th:only-of-type {\n",
       "        vertical-align: middle;\n",
       "    }\n",
       "\n",
       "    .dataframe tbody tr th {\n",
       "        vertical-align: top;\n",
       "    }\n",
       "\n",
       "    .dataframe thead th {\n",
       "        text-align: right;\n",
       "    }\n",
       "</style>\n",
       "<table border=\"1\" class=\"dataframe\">\n",
       "  <thead>\n",
       "    <tr style=\"text-align: right;\">\n",
       "      <th></th>\n",
       "      <th>scaled_Time</th>\n",
       "      <th>V1</th>\n",
       "      <th>V2</th>\n",
       "      <th>V3</th>\n",
       "      <th>V4</th>\n",
       "      <th>V5</th>\n",
       "      <th>V6</th>\n",
       "      <th>V7</th>\n",
       "      <th>V8</th>\n",
       "      <th>V9</th>\n",
       "      <th>V10</th>\n",
       "      <th>V11</th>\n",
       "      <th>V12</th>\n",
       "      <th>V13</th>\n",
       "      <th>V14</th>\n",
       "      <th>V15</th>\n",
       "      <th>V16</th>\n",
       "      <th>V17</th>\n",
       "      <th>V18</th>\n",
       "      <th>V19</th>\n",
       "      <th>V20</th>\n",
       "      <th>V21</th>\n",
       "      <th>V22</th>\n",
       "      <th>V23</th>\n",
       "      <th>V24</th>\n",
       "      <th>V25</th>\n",
       "      <th>V26</th>\n",
       "      <th>V27</th>\n",
       "      <th>V28</th>\n",
       "      <th>scaled_Amount</th>\n",
       "      <th>Class</th>\n",
       "    </tr>\n",
       "  </thead>\n",
       "  <tbody>\n",
       "    <tr>\n",
       "      <th>0</th>\n",
       "      <td>-0.994983</td>\n",
       "      <td>-1.359807</td>\n",
       "      <td>-0.072781</td>\n",
       "      <td>2.536347</td>\n",
       "      <td>1.378155</td>\n",
       "      <td>-0.338321</td>\n",
       "      <td>0.462388</td>\n",
       "      <td>0.239599</td>\n",
       "      <td>0.098698</td>\n",
       "      <td>0.363787</td>\n",
       "      <td>0.090794</td>\n",
       "      <td>-0.551600</td>\n",
       "      <td>-0.617801</td>\n",
       "      <td>-0.991390</td>\n",
       "      <td>-0.311169</td>\n",
       "      <td>1.468177</td>\n",
       "      <td>-0.470401</td>\n",
       "      <td>0.207971</td>\n",
       "      <td>0.025791</td>\n",
       "      <td>0.403993</td>\n",
       "      <td>0.251412</td>\n",
       "      <td>-0.018307</td>\n",
       "      <td>0.277838</td>\n",
       "      <td>-0.110474</td>\n",
       "      <td>0.066928</td>\n",
       "      <td>0.128539</td>\n",
       "      <td>-0.189115</td>\n",
       "      <td>0.133558</td>\n",
       "      <td>-0.021053</td>\n",
       "      <td>1.783274</td>\n",
       "      <td>0</td>\n",
       "    </tr>\n",
       "    <tr>\n",
       "      <th>1</th>\n",
       "      <td>-0.994983</td>\n",
       "      <td>1.191857</td>\n",
       "      <td>0.266151</td>\n",
       "      <td>0.166480</td>\n",
       "      <td>0.448154</td>\n",
       "      <td>0.060018</td>\n",
       "      <td>-0.082361</td>\n",
       "      <td>-0.078803</td>\n",
       "      <td>0.085102</td>\n",
       "      <td>-0.255425</td>\n",
       "      <td>-0.166974</td>\n",
       "      <td>1.612727</td>\n",
       "      <td>1.065235</td>\n",
       "      <td>0.489095</td>\n",
       "      <td>-0.143772</td>\n",
       "      <td>0.635558</td>\n",
       "      <td>0.463917</td>\n",
       "      <td>-0.114805</td>\n",
       "      <td>-0.183361</td>\n",
       "      <td>-0.145783</td>\n",
       "      <td>-0.069083</td>\n",
       "      <td>-0.225775</td>\n",
       "      <td>-0.638672</td>\n",
       "      <td>0.101288</td>\n",
       "      <td>-0.339846</td>\n",
       "      <td>0.167170</td>\n",
       "      <td>0.125895</td>\n",
       "      <td>-0.008983</td>\n",
       "      <td>0.014724</td>\n",
       "      <td>-0.269825</td>\n",
       "      <td>0</td>\n",
       "    </tr>\n",
       "    <tr>\n",
       "      <th>2</th>\n",
       "      <td>-0.994972</td>\n",
       "      <td>-1.358354</td>\n",
       "      <td>-1.340163</td>\n",
       "      <td>1.773209</td>\n",
       "      <td>0.379780</td>\n",
       "      <td>-0.503198</td>\n",
       "      <td>1.800499</td>\n",
       "      <td>0.791461</td>\n",
       "      <td>0.247676</td>\n",
       "      <td>-1.514654</td>\n",
       "      <td>0.207643</td>\n",
       "      <td>0.624501</td>\n",
       "      <td>0.066084</td>\n",
       "      <td>0.717293</td>\n",
       "      <td>-0.165946</td>\n",
       "      <td>2.345865</td>\n",
       "      <td>-2.890083</td>\n",
       "      <td>1.109969</td>\n",
       "      <td>-0.121359</td>\n",
       "      <td>-2.261857</td>\n",
       "      <td>0.524980</td>\n",
       "      <td>0.247998</td>\n",
       "      <td>0.771679</td>\n",
       "      <td>0.909412</td>\n",
       "      <td>-0.689281</td>\n",
       "      <td>-0.327642</td>\n",
       "      <td>-0.139097</td>\n",
       "      <td>-0.055353</td>\n",
       "      <td>-0.059752</td>\n",
       "      <td>4.983721</td>\n",
       "      <td>0</td>\n",
       "    </tr>\n",
       "    <tr>\n",
       "      <th>3</th>\n",
       "      <td>-0.994972</td>\n",
       "      <td>-0.966272</td>\n",
       "      <td>-0.185226</td>\n",
       "      <td>1.792993</td>\n",
       "      <td>-0.863291</td>\n",
       "      <td>-0.010309</td>\n",
       "      <td>1.247203</td>\n",
       "      <td>0.237609</td>\n",
       "      <td>0.377436</td>\n",
       "      <td>-1.387024</td>\n",
       "      <td>-0.054952</td>\n",
       "      <td>-0.226487</td>\n",
       "      <td>0.178228</td>\n",
       "      <td>0.507757</td>\n",
       "      <td>-0.287924</td>\n",
       "      <td>-0.631418</td>\n",
       "      <td>-1.059647</td>\n",
       "      <td>-0.684093</td>\n",
       "      <td>1.965775</td>\n",
       "      <td>-1.232622</td>\n",
       "      <td>-0.208038</td>\n",
       "      <td>-0.108300</td>\n",
       "      <td>0.005274</td>\n",
       "      <td>-0.190321</td>\n",
       "      <td>-1.175575</td>\n",
       "      <td>0.647376</td>\n",
       "      <td>-0.221929</td>\n",
       "      <td>0.062723</td>\n",
       "      <td>0.061458</td>\n",
       "      <td>1.418291</td>\n",
       "      <td>0</td>\n",
       "    </tr>\n",
       "    <tr>\n",
       "      <th>4</th>\n",
       "      <td>-0.994960</td>\n",
       "      <td>-1.158233</td>\n",
       "      <td>0.877737</td>\n",
       "      <td>1.548718</td>\n",
       "      <td>0.403034</td>\n",
       "      <td>-0.407193</td>\n",
       "      <td>0.095921</td>\n",
       "      <td>0.592941</td>\n",
       "      <td>-0.270533</td>\n",
       "      <td>0.817739</td>\n",
       "      <td>0.753074</td>\n",
       "      <td>-0.822843</td>\n",
       "      <td>0.538196</td>\n",
       "      <td>1.345852</td>\n",
       "      <td>-1.119670</td>\n",
       "      <td>0.175121</td>\n",
       "      <td>-0.451449</td>\n",
       "      <td>-0.237033</td>\n",
       "      <td>-0.038195</td>\n",
       "      <td>0.803487</td>\n",
       "      <td>0.408542</td>\n",
       "      <td>-0.009431</td>\n",
       "      <td>0.798278</td>\n",
       "      <td>-0.137458</td>\n",
       "      <td>0.141267</td>\n",
       "      <td>-0.206010</td>\n",
       "      <td>0.502292</td>\n",
       "      <td>0.219422</td>\n",
       "      <td>0.215153</td>\n",
       "      <td>0.670579</td>\n",
       "      <td>0</td>\n",
       "    </tr>\n",
       "  </tbody>\n",
       "</table>\n",
       "</div>"
      ],
      "text/plain": [
       "   scaled_Time        V1        V2        V3        V4        V5        V6  \\\n",
       "0    -0.994983 -1.359807 -0.072781  2.536347  1.378155 -0.338321  0.462388   \n",
       "1    -0.994983  1.191857  0.266151  0.166480  0.448154  0.060018 -0.082361   \n",
       "2    -0.994972 -1.358354 -1.340163  1.773209  0.379780 -0.503198  1.800499   \n",
       "3    -0.994972 -0.966272 -0.185226  1.792993 -0.863291 -0.010309  1.247203   \n",
       "4    -0.994960 -1.158233  0.877737  1.548718  0.403034 -0.407193  0.095921   \n",
       "\n",
       "         V7        V8        V9       V10       V11       V12       V13  \\\n",
       "0  0.239599  0.098698  0.363787  0.090794 -0.551600 -0.617801 -0.991390   \n",
       "1 -0.078803  0.085102 -0.255425 -0.166974  1.612727  1.065235  0.489095   \n",
       "2  0.791461  0.247676 -1.514654  0.207643  0.624501  0.066084  0.717293   \n",
       "3  0.237609  0.377436 -1.387024 -0.054952 -0.226487  0.178228  0.507757   \n",
       "4  0.592941 -0.270533  0.817739  0.753074 -0.822843  0.538196  1.345852   \n",
       "\n",
       "        V14       V15       V16       V17       V18       V19       V20  \\\n",
       "0 -0.311169  1.468177 -0.470401  0.207971  0.025791  0.403993  0.251412   \n",
       "1 -0.143772  0.635558  0.463917 -0.114805 -0.183361 -0.145783 -0.069083   \n",
       "2 -0.165946  2.345865 -2.890083  1.109969 -0.121359 -2.261857  0.524980   \n",
       "3 -0.287924 -0.631418 -1.059647 -0.684093  1.965775 -1.232622 -0.208038   \n",
       "4 -1.119670  0.175121 -0.451449 -0.237033 -0.038195  0.803487  0.408542   \n",
       "\n",
       "        V21       V22       V23       V24       V25       V26       V27  \\\n",
       "0 -0.018307  0.277838 -0.110474  0.066928  0.128539 -0.189115  0.133558   \n",
       "1 -0.225775 -0.638672  0.101288 -0.339846  0.167170  0.125895 -0.008983   \n",
       "2  0.247998  0.771679  0.909412 -0.689281 -0.327642 -0.139097 -0.055353   \n",
       "3 -0.108300  0.005274 -0.190321 -1.175575  0.647376 -0.221929  0.062723   \n",
       "4 -0.009431  0.798278 -0.137458  0.141267 -0.206010  0.502292  0.219422   \n",
       "\n",
       "        V28  scaled_Amount  Class  \n",
       "0 -0.021053       1.783274      0  \n",
       "1  0.014724      -0.269825      0  \n",
       "2 -0.059752       4.983721      0  \n",
       "3  0.061458       1.418291      0  \n",
       "4  0.215153       0.670579      0  "
      ]
     },
     "execution_count": 96,
     "metadata": {},
     "output_type": "execute_result"
    }
   ],
   "source": [
    "from sklearn.preprocessing import RobustScaler\n",
    "\n",
    "rob_scaler = RobustScaler()\n",
    "features_to_scale = ['Amount', 'Time']\n",
    "\n",
    "data[features_to_scale] = rob_scaler.fit_transform(data[features_to_scale])\n",
    "data.rename(columns={feature: f'scaled_{feature}' for feature in features_to_scale}, inplace=True)\n",
    "data.head()"
   ]
  },
  {
   "cell_type": "code",
<<<<<<< Updated upstream
   "execution_count": 97,
=======
   "execution_count": 37,
   "metadata": {},
   "outputs": [
    {
     "data": {
      "image/png": "iVBORw0KGgoAAAANSUhEUgAAAicAAAGdCAYAAADJ6dNTAAAAOXRFWHRTb2Z0d2FyZQBNYXRwbG90bGliIHZlcnNpb24zLjcuMSwgaHR0cHM6Ly9tYXRwbG90bGliLm9yZy/bCgiHAAAACXBIWXMAAA9hAAAPYQGoP6dpAAAcBElEQVR4nO3df2xVd/348dcdSHEG6rpqR7O2oHHGylZcSyZkKJhYvU40Qw3GBFkCRkKNYrOYIeommXYaQ2rCBYP+gf5hJP6Df4yE9A8dRDRCA2YZGkcstmawBlQKLBYt9/vHJ2vslx/jwoX7Pj2PR3ITz7mHd1/ketcn5557b6FcLpcDACARd9V6AACA/yVOAICkiBMAICniBABIijgBAJIiTgCApIgTACAp4gQASMrMWg9QqcuXL8crr7wSc+bMiUKhUOtxAIAbUC6X4/z589Hc3Bx33XX9cyOZi5NXXnklWlpaaj0GAHATRkZG4v7777/uMZmJk1KpFKVSKf773/9GxP/95ebOnVvjqQCAGzE2NhYtLS0xZ86cNzy2kLXv1hkbG4v6+vo4d+6cOAGAjKjk97cLYgGApIgTACAp4gQASIo4AQCSIk4AgKSIEwAgKeIEAEiKOAEAkiJOAICkiBMAICniBABISmbipFQqRXt7eyxevLjWowAAt5Ev/gMAbrtKfn/PvEMzwRTzn3q+1iNU7ORzj9V6BIBcyMzLOgBAPogTACAp4gQASIo4AQCSIk4AgKSIEwAgKeIEAEiKOAEAkiJOAICkiBMAICniBABIijgBAJJSkziZOXNmLFq0KBYtWhTr16+vxQgAQKJq8q3Eb33rW+PYsWO1+NEAQOK8rAMAJKXiODlw4ECsXLkympubo1AoxN69e684ZseOHbFgwYKYPXt2dHZ2xsGDB6fcPzY2Fp2dnfHoo4/GCy+8cNPDAwDTT8VxcvHixejo6Ijt27df9f49e/bEpk2bYsuWLXH06NFYtmxZFIvFGB4enjzm5MmTMTg4GD/60Y/i85//fIyNjd383wAAmFYqjpNisRjPPvtsrFq16qr3b9u2LdatWxfr16+P97znPdHf3x8tLS2xc+fOyWOam5sjImLhwoXR3t4ef/nLX67588bHx2NsbGzKDQCYvqp6zcmlS5dicHAwuru7p+zv7u6OQ4cORUTEP//5zxgfH4+IiL///e9x/PjxeMc73nHNNfv6+qK+vn7y1tLSUs2RAYDEVDVOzpw5ExMTE9HU1DRlf1NTU5w+fToiIv70pz9FV1dXdHR0xMc//vH44Q9/GA0NDddcc/PmzXHu3LnJ28jISDVHBgASc1veSlwoFKZsl8vlyX1Lly6NF1988YbXqquri7q6uqrOBwCkq6pnThobG2PGjBmTZ0leNzo6esXZFACAq6lqnMyaNSs6OztjYGBgyv6BgYFYunTpLa1dKpWivb09Fi9efEvrAABpq/hlnQsXLsSJEycmt4eGhuLYsWPR0NAQra2t0dvbG2vWrImurq5YsmRJ7Nq1K4aHh2PDhg23NGhPT0/09PTE2NhY1NfX39JaAEC6Ko6TI0eOxIoVKya3e3t7IyJi7dq1sXv37li9enWcPXs2tm7dGqdOnYqFCxfGvn37oq2trXpTAwDTVsVxsnz58iiXy9c9ZuPGjbFx48abHupqSqVSlEqlmJiYqOq6AEBaMvPdOj09PXH8+PE4fPhwrUcBAG6jzMQJAJAP4gQASEpm4sRbiQEgHzITJ645AYB8yEycAAD5IE4AgKSIEwAgKZmJExfEAkA+ZCZOXBALAPmQmTgBAPJBnAAASREnAEBSxAkAkJSZtR7gRpVKpSiVSjExMVHrUZIz/6nnaz0CAFRNZs6ceLcOAORDZuIEAMgHcQIAJEWcAABJycwFsVBrWbzw+ORzj9V6BICKOXMCACQlM3Hii/8AIB8yEyfeSgwA+ZCZOAEA8kGcAABJEScAQFLECQCQFHECACRFnAAASREnAEBSMhMnPoQNAPIhM3HiQ9gAIB8yEycAQD6IEwAgKeIEAEiKOAEAkiJOAICkiBMAICniBABIijgBAJIiTgCApIgTACAp4gQASEpm4sQX/wFAPmQmTnzxHwDkQ2biBADIB3ECACRFnAAASREnAEBSxAkAkBRxAgAkRZwAAEkRJwBAUsQJAJAUcQIAJEWcAABJEScAQFLECQCQlJrFyWuvvRZtbW3x5JNP1moEACBBNYuT73znO/HII4/U6scDAImqSZy8/PLL8ec//zk+9rGP1eLHAwAJqzhODhw4ECtXrozm5uYoFAqxd+/eK47ZsWNHLFiwIGbPnh2dnZ1x8ODBKfc/+eST0dfXd9NDAwDTV8VxcvHixejo6Ijt27df9f49e/bEpk2bYsuWLXH06NFYtmxZFIvFGB4ejoiIX/3qV/HAAw/EAw88cGuTAwDT0sxK/0CxWIxisXjN+7dt2xbr1q2L9evXR0REf39/7N+/P3bu3Bl9fX3x+9//Pn7xi1/EL3/5y7hw4UL85z//iblz58a3vvWtq643Pj4e4+Pjk9tjY2OVjgwAZEhVrzm5dOlSDA4ORnd395T93d3dcejQoYiI6Ovri5GRkTh58mT84Ac/iC984QvXDJPXj6+vr5+8tbS0VHNkACAxVY2TM2fOxMTERDQ1NU3Z39TUFKdPn76pNTdv3hznzp2bvI2MjFRjVAAgURW/rHMjCoXClO1yuXzFvoiIJ5544g3Xqquri7q6umqNBgAkrqpnThobG2PGjBlXnCUZHR294mwKAMDVVDVOZs2aFZ2dnTEwMDBl/8DAQCxduvSW1i6VStHe3h6LFy++pXUAgLRV/LLOhQsX4sSJE5PbQ0NDcezYsWhoaIjW1tbo7e2NNWvWRFdXVyxZsiR27doVw8PDsWHDhlsatKenJ3p6emJsbCzq6+tvaS0AIF0Vx8mRI0dixYoVk9u9vb0REbF27drYvXt3rF69Os6ePRtbt26NU6dOxcKFC2Pfvn3R1tZWvakBgGmr4jhZvnx5lMvl6x6zcePG2Lhx400PdTWlUilKpVJMTExUdV0AIC01++K/SvX09MTx48fj8OHDtR4FALiNbstbiYE0zH/q+VqPULGTzz1W6xGAGsvMmRMAIB/ECQCQlMzEic85AYB8yEycuCAWAPIhM3ECAOSDOAEAkpKZOHHNCQDkQ2bixDUnAJAPmYkTACAfxAkAkBRxAgAkRZwAAEnJTJx4tw4A5ENm4sS7dQAgHzITJwBAPogTACAp4gQASIo4AQCSIk4AgKRkJk68lRgA8iEzceKtxACQD5mJEwAgH8QJAJAUcQIAJEWcAABJEScAQFLECQCQFHECACQlM3HiQ9gAIB8yEyc+hA0A8iEzcQIA5IM4AQCSIk4AgKSIEwAgKeIEAEiKOAEAkiJOAICkiBMAICniBABIijgBAJIiTgCApGQmTnzxHwDkQ2bixBf/AUA+ZCZOAIB8ECcAQFLECQCQFHECACRFnAAASREnAEBSZtZ6gNTMf+r5Wo8AALnmzAkAkBRxAgAkRZwAAEkRJwBAUsQJAJAUcQIAJEWcAABJueNxcv78+Vi8eHEsWrQoHnzwwfjxj398p0cAABJ2xz+E7e67744XXngh7r777njttddi4cKFsWrVqrj33nvv9CgAQILu+JmTGTNmxN133x0REf/+979jYmIiyuXynR4DAEhUxXFy4MCBWLlyZTQ3N0ehUIi9e/deccyOHTtiwYIFMXv27Ojs7IyDBw9Ouf9f//pXdHR0xP333x9f+9rXorGx8ab/AgDA9FJxnFy8eDE6Ojpi+/btV71/z549sWnTptiyZUscPXo0li1bFsViMYaHhyePeetb3xp//OMfY2hoKH7+85/Hq6++evN/AwBgWqk4TorFYjz77LOxatWqq96/bdu2WLduXaxfvz7e8573RH9/f7S0tMTOnTuvOLapqSkeeuihOHDgwDV/3vj4eIyNjU25AQDTV1WvObl06VIMDg5Gd3f3lP3d3d1x6NChiIh49dVXJwNjbGwsDhw4EO9+97uvuWZfX1/U19dP3lpaWqo5MgCQmKrGyZkzZ2JiYiKampqm7G9qaorTp09HRMTf//73+MAHPhAdHR3x6KOPxpe+9KV46KGHrrnm5s2b49y5c5O3kZGRao4MACTmtryVuFAoTNkul8uT+zo7O+PYsWM3vFZdXV3U1dVVczwAIGFVPXPS2NgYM2bMmDxL8rrR0dErzqZUqlQqRXt7eyxevPiW1gEA0lbVOJk1a1Z0dnbGwMDAlP0DAwOxdOnSW1q7p6cnjh8/HocPH76ldQCAtFX8ss6FCxfixIkTk9tDQ0Nx7NixaGhoiNbW1ujt7Y01a9ZEV1dXLFmyJHbt2hXDw8OxYcOGqg4OAExPFcfJkSNHYsWKFZPbvb29ERGxdu3a2L17d6xevTrOnj0bW7dujVOnTsXChQtj37590dbWdkuDlkqlKJVKMTExcUvrAABpK5Qz9tnxY2NjUV9fH+fOnYu5c+dWff35Tz1f9TWBG3fyucdqPQJwG1Ty+/uOf7cOAMD1iBMAICniBABISmbixOecAEA+ZCZOfM4JAORDZuIEAMgHcQIAJEWcAABJyUycuCAWAPIhM3HiglgAyIfMxAkAkA/iBABIijgBAJKSmThxQSwA5ENm4sQFsQCQD5mJEwAgH8QJAJAUcQIAJEWcAABJEScAQFIyEyfeSgwA+ZCZOPFWYgDIh8zECQCQD+IEAEiKOAEAkiJOAICkiBMAICkzaz0AwP+a/9TztR6hYiefe6zWI8C04swJAJCUzMSJD2EDgHzITJz4EDYAyIfMxAkAkA/iBABIijgBAJIiTgCApIgTACAp4gQASIo4AQCSIk4AgKSIEwAgKeIEAEiKOAEAkpKZOPHFfwCQD5mJE1/8BwD5kJk4AQDyQZwAAEkRJwBAUsQJAJAUcQIAJEWcAABJEScAQFLECQCQFHECACRFnAAASREnAEBSxAkAkBRxAgAkRZwAAEm543EyMjISy5cvj/b29njooYfil7/85Z0eAQBI2Mw7/gNnzoz+/v5YtGhRjI6OxsMPPxwf+9jH4i1vecudHgUASNAdj5N58+bFvHnzIiLi7W9/ezQ0NMQ//vEPcQIARMRNvKxz4MCBWLlyZTQ3N0ehUIi9e/deccyOHTtiwYIFMXv27Ojs7IyDBw9eda0jR47E5cuXo6WlpeLBAYDpqeI4uXjxYnR0dMT27duvev+ePXti06ZNsWXLljh69GgsW7YsisViDA8PTznu7Nmz8fnPfz527dp1c5MDANNSxS/rFIvFKBaL17x/27ZtsW7duli/fn1ERPT398f+/ftj586d0dfXFxER4+Pj8fjjj8fmzZtj6dKl1/154+PjMT4+Prk9NjZW6cgAQIZU9d06ly5disHBweju7p6yv7u7Ow4dOhQREeVyOZ544on40Ic+FGvWrHnDNfv6+qK+vn7y5iUgAJjeqhonZ86ciYmJiWhqapqyv6mpKU6fPh0REb/97W9jz549sXfv3li0aFEsWrQoXnzxxWuuuXnz5jh37tzkbWRkpJojAwCJuS3v1ikUClO2y+Xy5L5HH300Ll++fMNr1dXVRV1dXVXnAwDSVdUzJ42NjTFjxozJsySvGx0dveJsSqVKpVK0t7fH4sWLb2kdACBtVY2TWbNmRWdnZwwMDEzZPzAw8IYXvr6Rnp6eOH78eBw+fPiW1gEA0lbxyzoXLlyIEydOTG4PDQ3FsWPHoqGhIVpbW6O3tzfWrFkTXV1dsWTJkti1a1cMDw/Hhg0bqjo4QCrmP/V8rUeo2MnnHqv1CHBNFcfJkSNHYsWKFZPbvb29ERGxdu3a2L17d6xevTrOnj0bW7dujVOnTsXChQtj37590dbWVr2pAYBpq+I4Wb58eZTL5eses3Hjxti4ceNND3U1pVIpSqVSTExMVHVdACAtd/xbiW+Wa04AIB8yEycAQD6IEwAgKZmJE59zAgD5kJk4cc0JAORDZuIEAMgHcQIAJEWcAABJyUycuCAWAPIhM3HiglgAyIfMxAkAkA/iBABIijgBAJKSmThxQSwA5ENm4sQFsQCQD5mJEwAgH8QJAJCUmbUeAIA7b/5Tz9d6hIqdfO6xWo/AHeLMCQCQFHECACQlM3HircQAkA+ZiRNvJQaAfMhMnAAA+SBOAICkiBMAICniBABIijgBAJIiTgCApIgTACApmYkTH8IGAPmQmTjxIWwAkA+ZiRMAIB/ECQCQFHECACRFnAAASREnAEBSxAkAkBRxAgAkRZwAAEkRJwBAUsQJAJAUcQIAJCUzceKL/wAgHzITJ774DwDyITNxAgDkgzgBAJIiTgCApIgTACAp4gQASIo4AQCSIk4AgKSIEwAgKeIEAEiKOAEAkiJOAICkiBMAICniBABIijgBAJJSkzh5/PHH45577olPf/rTtfjxAEDCahInX/7yl+NnP/tZLX40AJC4msTJihUrYs6cObX40QBA4iqOkwMHDsTKlSujubk5CoVC7N2794pjduzYEQsWLIjZs2dHZ2dnHDx4sBqzAgA5UHGcXLx4MTo6OmL79u1XvX/Pnj2xadOm2LJlSxw9ejSWLVsWxWIxhoeHb3lYAGD6m1npHygWi1EsFq95/7Zt22LdunWxfv36iIjo7++P/fv3x86dO6Ovr6/iAcfHx2N8fHxye2xsrOI1AIDsqOo1J5cuXYrBwcHo7u6esr+7uzsOHTp0U2v29fVFfX395K2lpaUaowIAiapqnJw5cyYmJiaiqalpyv6mpqY4ffr05PZHPvKR+MxnPhP79u2L+++/Pw4fPnzNNTdv3hznzp2bvI2MjFRzZAAgMRW/rHMjCoXClO1yuTxl3/79+294rbq6uqirq6vabABA2qp65qSxsTFmzJgx5SxJRMTo6OgVZ1MqVSqVor29PRYvXnxL6wAAaatqnMyaNSs6OztjYGBgyv6BgYFYunTpLa3d09MTx48fv+5LQABA9lX8ss6FCxfixIkTk9tDQ0Nx7NixaGhoiNbW1ujt7Y01a9ZEV1dXLFmyJHbt2hXDw8OxYcOGqg4OAExPFcfJkSNHYsWKFZPbvb29ERGxdu3a2L17d6xevTrOnj0bW7dujVOnTsXChQtj37590dbWVr2pAYBpq+I4Wb58eZTL5eses3Hjxti4ceNND3U1pVIpSqVSTExMVHVdACAtNflunZvhmhMAyIfMxAkAkA/iBABISmbixOecAEA+ZCZOXHMCAPmQmTgBAPJBnAAASREnAEBSMhMnLogFgHzITJy4IBYA8iEzcQIA5IM4AQCSIk4AgKRkJk5cEAsA+ZCZOHFBLADkQ2biBADIB3ECACRFnAAASREnAEBSxAkAkJSZtR7gRpVKpSiVSjExMVHrUQCogflPPV/rEXLj5HOP1fTnZ+bMibcSA0A+ZCZOAIB8ECcAQFLECQCQFHECACRFnAAASREnAEBSxAkAkJTMxEmpVIr29vZYvHhxrUcBAG6jzMSJD2EDgHzITJwAAPkgTgCApIgTACAp4gQASIo4AQCSMrPWA1SqXC5HRMTY2NhtWf/y+Gu3ZV0AyIrb8Tv29TVf/z1+PZmLk/Pnz0dEREtLS40nAYDpqb7/9q19/vz5qK+vv+4xhfKNJExCLl++HK+88krMmTMnCoVCrceJsbGxaGlpiZGRkZg7d26tx8k9j0daPB5p8XikJW+PR7lcjvPnz0dzc3Pcddf1ryrJ3JmTu+66K+6///5aj3GFuXPn5uL/XFnh8UiLxyMtHo+05OnxeKMzJq9zQSwAkBRxAgAkRZzcorq6unj66aejrq6u1qMQHo/UeDzS4vFIi8fj2jJ3QSwAML05cwIAJEWcAABJEScAQFLECQCQFHFSZfPnz49CoTDl9tRTT9V6rNzYsWNHLFiwIGbPnh2dnZ1x8ODBWo+US88888wVz4P77ruv1mPlxoEDB2LlypXR3NwchUIh9u7dO+X+crkczzzzTDQ3N8eb3/zmWL58ebz00ku1GTYH3ujxeOKJJ654vrz//e+vzbCJECe3wdatW+PUqVOTt2984xu1HikX9uzZE5s2bYotW7bE0aNHY9myZVEsFmN4eLjWo+XSe9/73inPgxdffLHWI+XGxYsXo6OjI7Zv337V+7///e/Htm3bYvv27XH48OG477774sMf/vDkd5dRXW/0eEREfPSjH53yfNm3b98dnDA9mfv4+iyYM2eOfyXWwLZt22LdunWxfv36iIjo7++P/fv3x86dO6Ovr6/G0+XPzJkzPQ9qpFgsRrFYvOp95XI5+vv7Y8uWLbFq1aqIiPjpT38aTU1N8fOf/zy++MUv3slRc+F6j8fr6urqPF/+hzMnt8H3vve9uPfee2PRokXxne98Jy5dulTrkaa9S5cuxeDgYHR3d0/Z393dHYcOHarRVPn28ssvR3NzcyxYsCA++9nPxl//+tdaj0REDA0NxenTp6c8V+rq6uKDH/yg50oN/eY3v4m3v/3t8cADD8QXvvCFGB0drfVINeXMSZV95StfiYcffjjuueee+MMf/hCbN2+OoaGh+MlPflLr0aa1M2fOxMTERDQ1NU3Z39TUFKdPn67RVPn1yCOPxM9+9rN44IEH4tVXX41nn302li5dGi+99FLce++9tR4v115/PlztufK3v/2tFiPlXrFYjM985jPR1tYWQ0ND8c1vfjM+9KEPxeDgYG4/PVac3IBnnnkmvv3tb1/3mMOHD0dXV1d89atfndz30EMPxT333BOf/vSnJ8+mcHsVCoUp2+Vy+Yp93H7/ewr7wQcfjCVLlsQ73/nO+OlPfxq9vb01nIzXea6kY/Xq1ZP/e+HChdHV1RVtbW3x/PPPT770ljfi5AZ86Utfis9+9rPXPWb+/PlX3f/6FdcnTpwQJ7dRY2NjzJgx44qzJKOjo1f8C5E77y1veUs8+OCD8fLLL9d6lNx7/bqG06dPx7x58yb3e66kY968edHW1pbr54s4uQGNjY3R2Nh4U3/26NGjERFT/iNA9c2aNSs6OztjYGAgHn/88cn9AwMD8clPfrKGkxERMT4+Hn/6059i2bJltR4l9xYsWBD33XdfDAwMxPve976I+L9rtl544YX43ve+V+PpiIg4e/ZsjIyM5Pr3hjipot/97nfx+9//PlasWBH19fVx+PDh+OpXvxqf+MQnorW1tdbjTXu9vb2xZs2a6OrqiiVLlsSuXbtieHg4NmzYUOvRcufJJ5+MlStXRmtra4yOjsazzz4bY2NjsXbt2lqPlgsXLlyIEydOTG4PDQ3FsWPHoqGhIVpbW2PTpk3x3e9+N971rnfFu971rvjud78bd999d3zuc5+r4dTT1/Uej4aGhnjmmWfiU5/6VMybNy9OnjwZX//616OxsXHKP7Ryp0zVDA4Olh955JFyfX19efbs2eV3v/vd5aeffrp88eLFWo+WG6VSqdzW1laeNWtW+eGHHy6/8MILtR4pl1avXl2eN29e+U1velO5ubm5vGrVqvJLL71U67Fy49e//nU5Iq64rV27tlwul8uXL18uP/300+X77ruvXFdXV/7ABz5QfvHFF2s79DR2vcfjtddeK3d3d5ff9ra3ld/0pjeVW1tby2vXri0PDw/XeuyaKpTL5XKtwggA4P/nc04AgKSIEwAgKeIEAEiKOAEAkiJOAICkiBMAICniBABIijgBAJIiTgCApIgTACAp4gQASIo4AQCS8v8AfpuEtIASLx4AAAAASUVORK5CYII=",
      "text/plain": [
       "<Figure size 640x480 with 1 Axes>"
      ]
     },
     "metadata": {},
     "output_type": "display_data"
    }
   ],
   "source": [
    "plt.hist(data.V4)\n",
    "plt.yscale('log')"
   ]
  },
  {
   "cell_type": "code",
   "execution_count": 12,
>>>>>>> Stashed changes
   "metadata": {},
   "outputs": [],
   "source": [
    "# in our case we may want to have detecting fraud as TP for confusion Matrix, this will allow that to happen\n",
    "# data[\"Class\"] = data[\"Class\"].apply(lambda x: 1 if x == 0 else 0)"
   ]
  },
  {
   "cell_type": "code",
<<<<<<< Updated upstream
   "execution_count": 98,
=======
   "execution_count": 38,
>>>>>>> Stashed changes
   "metadata": {},
   "outputs": [],
   "source": [
    "X = data.drop('Class', axis=1)\n",
    "y = data['Class']\n",
    "X_train, X_test, y_train, y_test = train_test_split(X, y, test_size=0.2, random_state=42)"
   ]
  },
  {
   "cell_type": "code",
<<<<<<< Updated upstream
   "execution_count": 99,
=======
   "execution_count": 39,
>>>>>>> Stashed changes
   "metadata": {},
   "outputs": [
    {
     "name": "stdout",
     "output_type": "stream",
     "text": [
      "X_train shape: (227845, 30)\n",
      "y_train shape: (227845,)\n",
      "X_train type: <class 'pandas.core.frame.DataFrame'>\n",
      "y_train type: <class 'pandas.core.series.Series'>\n"
     ]
    }
   ],
   "source": [
    "print(\"X_train shape:\", X_train.shape)\n",
    "print(\"y_train shape:\", y_train.shape)\n",
    "print(\"X_train type:\", type(X_train))\n",
    "print(\"y_train type:\", type(y_train))"
   ]
  },
  {
   "cell_type": "markdown",
   "metadata": {},
   "source": [
    "# Confusion Matrix Overview\n",
    "\n",
    "TP  FP \n",
    "\n",
    "FN  TN\n",
    "\n",
    "*TP:* Transaction is truly fraud\n",
    "\n",
    "*FP:* Transcation flagged as fraud when it actually wasn't\n",
    "\n",
    "*TN:* Transaction was not flagged for fraud and it is not a fradulent transaction\n",
    "\n",
    "*FN:* Transaction was not flagged for fraud but it is fraulent"
   ]
  },
  {
   "cell_type": "markdown",
   "metadata": {},
   "source": [
    "# Supervised Learning Model"
   ]
  },
  {
   "cell_type": "markdown",
   "metadata": {},
   "source": [
    "## Logistic Regression"
   ]
  },
  {
   "cell_type": "code",
<<<<<<< Updated upstream
   "execution_count": 100,
=======
   "execution_count": 40,
>>>>>>> Stashed changes
   "metadata": {},
   "outputs": [],
   "source": [
    "from sklearn.linear_model import LogisticRegression\n",
    "from sklearn.metrics import classification_report, confusion_matrix"
   ]
  },
  {
   "cell_type": "code",
<<<<<<< Updated upstream
   "execution_count": 101,
=======
   "execution_count": 41,
>>>>>>> Stashed changes
   "metadata": {},
   "outputs": [],
   "source": [
    "def report(y_test, mod):\n",
    "    # Evaluate performance using classification report\n",
    "    print(classification_report(y_test, mod))\n",
    "\n",
    "    # Evaluate performance using confusion matrix\n",
    "    print(confusion_matrix(y_test, mod))\n",
    "\n",
    "    "
   ]
  },
  {
   "cell_type": "code",
<<<<<<< Updated upstream
   "execution_count": 102,
=======
   "execution_count": 42,
>>>>>>> Stashed changes
   "metadata": {},
   "outputs": [
    {
     "data": {
      "text/html": [
       "<style>#sk-container-id-3 {\n",
       "  /* Definition of color scheme common for light and dark mode */\n",
       "  --sklearn-color-text: black;\n",
       "  --sklearn-color-line: gray;\n",
       "  /* Definition of color scheme for unfitted estimators */\n",
       "  --sklearn-color-unfitted-level-0: #fff5e6;\n",
       "  --sklearn-color-unfitted-level-1: #f6e4d2;\n",
       "  --sklearn-color-unfitted-level-2: #ffe0b3;\n",
       "  --sklearn-color-unfitted-level-3: chocolate;\n",
       "  /* Definition of color scheme for fitted estimators */\n",
       "  --sklearn-color-fitted-level-0: #f0f8ff;\n",
       "  --sklearn-color-fitted-level-1: #d4ebff;\n",
       "  --sklearn-color-fitted-level-2: #b3dbfd;\n",
       "  --sklearn-color-fitted-level-3: cornflowerblue;\n",
       "\n",
       "  /* Specific color for light theme */\n",
       "  --sklearn-color-text-on-default-background: var(--sg-text-color, var(--theme-code-foreground, var(--jp-content-font-color1, black)));\n",
       "  --sklearn-color-background: var(--sg-background-color, var(--theme-background, var(--jp-layout-color0, white)));\n",
       "  --sklearn-color-border-box: var(--sg-text-color, var(--theme-code-foreground, var(--jp-content-font-color1, black)));\n",
       "  --sklearn-color-icon: #696969;\n",
       "\n",
       "  @media (prefers-color-scheme: dark) {\n",
       "    /* Redefinition of color scheme for dark theme */\n",
       "    --sklearn-color-text-on-default-background: var(--sg-text-color, var(--theme-code-foreground, var(--jp-content-font-color1, white)));\n",
       "    --sklearn-color-background: var(--sg-background-color, var(--theme-background, var(--jp-layout-color0, #111)));\n",
       "    --sklearn-color-border-box: var(--sg-text-color, var(--theme-code-foreground, var(--jp-content-font-color1, white)));\n",
       "    --sklearn-color-icon: #878787;\n",
       "  }\n",
       "}\n",
       "\n",
       "#sk-container-id-3 {\n",
       "  color: var(--sklearn-color-text);\n",
       "}\n",
       "\n",
       "#sk-container-id-3 pre {\n",
       "  padding: 0;\n",
       "}\n",
       "\n",
       "#sk-container-id-3 input.sk-hidden--visually {\n",
       "  border: 0;\n",
       "  clip: rect(1px 1px 1px 1px);\n",
       "  clip: rect(1px, 1px, 1px, 1px);\n",
       "  height: 1px;\n",
       "  margin: -1px;\n",
       "  overflow: hidden;\n",
       "  padding: 0;\n",
       "  position: absolute;\n",
       "  width: 1px;\n",
       "}\n",
       "\n",
       "#sk-container-id-3 div.sk-dashed-wrapped {\n",
       "  border: 1px dashed var(--sklearn-color-line);\n",
       "  margin: 0 0.4em 0.5em 0.4em;\n",
       "  box-sizing: border-box;\n",
       "  padding-bottom: 0.4em;\n",
       "  background-color: var(--sklearn-color-background);\n",
       "}\n",
       "\n",
       "#sk-container-id-3 div.sk-container {\n",
       "  /* jupyter's `normalize.less` sets `[hidden] { display: none; }`\n",
       "     but bootstrap.min.css set `[hidden] { display: none !important; }`\n",
       "     so we also need the `!important` here to be able to override the\n",
       "     default hidden behavior on the sphinx rendered scikit-learn.org.\n",
       "     See: https://github.com/scikit-learn/scikit-learn/issues/21755 */\n",
       "  display: inline-block !important;\n",
       "  position: relative;\n",
       "}\n",
       "\n",
       "#sk-container-id-3 div.sk-text-repr-fallback {\n",
       "  display: none;\n",
       "}\n",
       "\n",
       "div.sk-parallel-item,\n",
       "div.sk-serial,\n",
       "div.sk-item {\n",
       "  /* draw centered vertical line to link estimators */\n",
       "  background-image: linear-gradient(var(--sklearn-color-text-on-default-background), var(--sklearn-color-text-on-default-background));\n",
       "  background-size: 2px 100%;\n",
       "  background-repeat: no-repeat;\n",
       "  background-position: center center;\n",
       "}\n",
       "\n",
       "/* Parallel-specific style estimator block */\n",
       "\n",
       "#sk-container-id-3 div.sk-parallel-item::after {\n",
       "  content: \"\";\n",
       "  width: 100%;\n",
       "  border-bottom: 2px solid var(--sklearn-color-text-on-default-background);\n",
       "  flex-grow: 1;\n",
       "}\n",
       "\n",
       "#sk-container-id-3 div.sk-parallel {\n",
       "  display: flex;\n",
       "  align-items: stretch;\n",
       "  justify-content: center;\n",
       "  background-color: var(--sklearn-color-background);\n",
       "  position: relative;\n",
       "}\n",
       "\n",
       "#sk-container-id-3 div.sk-parallel-item {\n",
       "  display: flex;\n",
       "  flex-direction: column;\n",
       "}\n",
       "\n",
       "#sk-container-id-3 div.sk-parallel-item:first-child::after {\n",
       "  align-self: flex-end;\n",
       "  width: 50%;\n",
       "}\n",
       "\n",
       "#sk-container-id-3 div.sk-parallel-item:last-child::after {\n",
       "  align-self: flex-start;\n",
       "  width: 50%;\n",
       "}\n",
       "\n",
       "#sk-container-id-3 div.sk-parallel-item:only-child::after {\n",
       "  width: 0;\n",
       "}\n",
       "\n",
       "/* Serial-specific style estimator block */\n",
       "\n",
       "#sk-container-id-3 div.sk-serial {\n",
       "  display: flex;\n",
       "  flex-direction: column;\n",
       "  align-items: center;\n",
       "  background-color: var(--sklearn-color-background);\n",
       "  padding-right: 1em;\n",
       "  padding-left: 1em;\n",
       "}\n",
       "\n",
       "\n",
       "/* Toggleable style: style used for estimator/Pipeline/ColumnTransformer box that is\n",
       "clickable and can be expanded/collapsed.\n",
       "- Pipeline and ColumnTransformer use this feature and define the default style\n",
       "- Estimators will overwrite some part of the style using the `sk-estimator` class\n",
       "*/\n",
       "\n",
       "/* Pipeline and ColumnTransformer style (default) */\n",
       "\n",
       "#sk-container-id-3 div.sk-toggleable {\n",
       "  /* Default theme specific background. It is overwritten whether we have a\n",
       "  specific estimator or a Pipeline/ColumnTransformer */\n",
       "  background-color: var(--sklearn-color-background);\n",
       "}\n",
       "\n",
       "/* Toggleable label */\n",
       "#sk-container-id-3 label.sk-toggleable__label {\n",
       "  cursor: pointer;\n",
       "  display: block;\n",
       "  width: 100%;\n",
       "  margin-bottom: 0;\n",
       "  padding: 0.5em;\n",
       "  box-sizing: border-box;\n",
       "  text-align: center;\n",
       "}\n",
       "\n",
       "#sk-container-id-3 label.sk-toggleable__label-arrow:before {\n",
       "  /* Arrow on the left of the label */\n",
       "  content: \"▸\";\n",
       "  float: left;\n",
       "  margin-right: 0.25em;\n",
       "  color: var(--sklearn-color-icon);\n",
       "}\n",
       "\n",
       "#sk-container-id-3 label.sk-toggleable__label-arrow:hover:before {\n",
       "  color: var(--sklearn-color-text);\n",
       "}\n",
       "\n",
       "/* Toggleable content - dropdown */\n",
       "\n",
       "#sk-container-id-3 div.sk-toggleable__content {\n",
       "  max-height: 0;\n",
       "  max-width: 0;\n",
       "  overflow: hidden;\n",
       "  text-align: left;\n",
       "  /* unfitted */\n",
       "  background-color: var(--sklearn-color-unfitted-level-0);\n",
       "}\n",
       "\n",
       "#sk-container-id-3 div.sk-toggleable__content.fitted {\n",
       "  /* fitted */\n",
       "  background-color: var(--sklearn-color-fitted-level-0);\n",
       "}\n",
       "\n",
       "#sk-container-id-3 div.sk-toggleable__content pre {\n",
       "  margin: 0.2em;\n",
       "  border-radius: 0.25em;\n",
       "  color: var(--sklearn-color-text);\n",
       "  /* unfitted */\n",
       "  background-color: var(--sklearn-color-unfitted-level-0);\n",
       "}\n",
       "\n",
       "#sk-container-id-3 div.sk-toggleable__content.fitted pre {\n",
       "  /* unfitted */\n",
       "  background-color: var(--sklearn-color-fitted-level-0);\n",
       "}\n",
       "\n",
       "#sk-container-id-3 input.sk-toggleable__control:checked~div.sk-toggleable__content {\n",
       "  /* Expand drop-down */\n",
       "  max-height: 200px;\n",
       "  max-width: 100%;\n",
       "  overflow: auto;\n",
       "}\n",
       "\n",
       "#sk-container-id-3 input.sk-toggleable__control:checked~label.sk-toggleable__label-arrow:before {\n",
       "  content: \"▾\";\n",
       "}\n",
       "\n",
       "/* Pipeline/ColumnTransformer-specific style */\n",
       "\n",
       "#sk-container-id-3 div.sk-label input.sk-toggleable__control:checked~label.sk-toggleable__label {\n",
       "  color: var(--sklearn-color-text);\n",
       "  background-color: var(--sklearn-color-unfitted-level-2);\n",
       "}\n",
       "\n",
       "#sk-container-id-3 div.sk-label.fitted input.sk-toggleable__control:checked~label.sk-toggleable__label {\n",
       "  background-color: var(--sklearn-color-fitted-level-2);\n",
       "}\n",
       "\n",
       "/* Estimator-specific style */\n",
       "\n",
       "/* Colorize estimator box */\n",
       "#sk-container-id-3 div.sk-estimator input.sk-toggleable__control:checked~label.sk-toggleable__label {\n",
       "  /* unfitted */\n",
       "  background-color: var(--sklearn-color-unfitted-level-2);\n",
       "}\n",
       "\n",
       "#sk-container-id-3 div.sk-estimator.fitted input.sk-toggleable__control:checked~label.sk-toggleable__label {\n",
       "  /* fitted */\n",
       "  background-color: var(--sklearn-color-fitted-level-2);\n",
       "}\n",
       "\n",
       "#sk-container-id-3 div.sk-label label.sk-toggleable__label,\n",
       "#sk-container-id-3 div.sk-label label {\n",
       "  /* The background is the default theme color */\n",
       "  color: var(--sklearn-color-text-on-default-background);\n",
       "}\n",
       "\n",
       "/* On hover, darken the color of the background */\n",
       "#sk-container-id-3 div.sk-label:hover label.sk-toggleable__label {\n",
       "  color: var(--sklearn-color-text);\n",
       "  background-color: var(--sklearn-color-unfitted-level-2);\n",
       "}\n",
       "\n",
       "/* Label box, darken color on hover, fitted */\n",
       "#sk-container-id-3 div.sk-label.fitted:hover label.sk-toggleable__label.fitted {\n",
       "  color: var(--sklearn-color-text);\n",
       "  background-color: var(--sklearn-color-fitted-level-2);\n",
       "}\n",
       "\n",
       "/* Estimator label */\n",
       "\n",
       "#sk-container-id-3 div.sk-label label {\n",
       "  font-family: monospace;\n",
       "  font-weight: bold;\n",
       "  display: inline-block;\n",
       "  line-height: 1.2em;\n",
       "}\n",
       "\n",
       "#sk-container-id-3 div.sk-label-container {\n",
       "  text-align: center;\n",
       "}\n",
       "\n",
       "/* Estimator-specific */\n",
       "#sk-container-id-3 div.sk-estimator {\n",
       "  font-family: monospace;\n",
       "  border: 1px dotted var(--sklearn-color-border-box);\n",
       "  border-radius: 0.25em;\n",
       "  box-sizing: border-box;\n",
       "  margin-bottom: 0.5em;\n",
       "  /* unfitted */\n",
       "  background-color: var(--sklearn-color-unfitted-level-0);\n",
       "}\n",
       "\n",
       "#sk-container-id-3 div.sk-estimator.fitted {\n",
       "  /* fitted */\n",
       "  background-color: var(--sklearn-color-fitted-level-0);\n",
       "}\n",
       "\n",
       "/* on hover */\n",
       "#sk-container-id-3 div.sk-estimator:hover {\n",
       "  /* unfitted */\n",
       "  background-color: var(--sklearn-color-unfitted-level-2);\n",
       "}\n",
       "\n",
       "#sk-container-id-3 div.sk-estimator.fitted:hover {\n",
       "  /* fitted */\n",
       "  background-color: var(--sklearn-color-fitted-level-2);\n",
       "}\n",
       "\n",
       "/* Specification for estimator info (e.g. \"i\" and \"?\") */\n",
       "\n",
       "/* Common style for \"i\" and \"?\" */\n",
       "\n",
       ".sk-estimator-doc-link,\n",
       "a:link.sk-estimator-doc-link,\n",
       "a:visited.sk-estimator-doc-link {\n",
       "  float: right;\n",
       "  font-size: smaller;\n",
       "  line-height: 1em;\n",
       "  font-family: monospace;\n",
       "  background-color: var(--sklearn-color-background);\n",
       "  border-radius: 1em;\n",
       "  height: 1em;\n",
       "  width: 1em;\n",
       "  text-decoration: none !important;\n",
       "  margin-left: 1ex;\n",
       "  /* unfitted */\n",
       "  border: var(--sklearn-color-unfitted-level-1) 1pt solid;\n",
       "  color: var(--sklearn-color-unfitted-level-1);\n",
       "}\n",
       "\n",
       ".sk-estimator-doc-link.fitted,\n",
       "a:link.sk-estimator-doc-link.fitted,\n",
       "a:visited.sk-estimator-doc-link.fitted {\n",
       "  /* fitted */\n",
       "  border: var(--sklearn-color-fitted-level-1) 1pt solid;\n",
       "  color: var(--sklearn-color-fitted-level-1);\n",
       "}\n",
       "\n",
       "/* On hover */\n",
       "div.sk-estimator:hover .sk-estimator-doc-link:hover,\n",
       ".sk-estimator-doc-link:hover,\n",
       "div.sk-label-container:hover .sk-estimator-doc-link:hover,\n",
       ".sk-estimator-doc-link:hover {\n",
       "  /* unfitted */\n",
       "  background-color: var(--sklearn-color-unfitted-level-3);\n",
       "  color: var(--sklearn-color-background);\n",
       "  text-decoration: none;\n",
       "}\n",
       "\n",
       "div.sk-estimator.fitted:hover .sk-estimator-doc-link.fitted:hover,\n",
       ".sk-estimator-doc-link.fitted:hover,\n",
       "div.sk-label-container:hover .sk-estimator-doc-link.fitted:hover,\n",
       ".sk-estimator-doc-link.fitted:hover {\n",
       "  /* fitted */\n",
       "  background-color: var(--sklearn-color-fitted-level-3);\n",
       "  color: var(--sklearn-color-background);\n",
       "  text-decoration: none;\n",
       "}\n",
       "\n",
       "/* Span, style for the box shown on hovering the info icon */\n",
       ".sk-estimator-doc-link span {\n",
       "  display: none;\n",
       "  z-index: 9999;\n",
       "  position: relative;\n",
       "  font-weight: normal;\n",
       "  right: .2ex;\n",
       "  padding: .5ex;\n",
       "  margin: .5ex;\n",
       "  width: min-content;\n",
       "  min-width: 20ex;\n",
       "  max-width: 50ex;\n",
       "  color: var(--sklearn-color-text);\n",
       "  box-shadow: 2pt 2pt 4pt #999;\n",
       "  /* unfitted */\n",
       "  background: var(--sklearn-color-unfitted-level-0);\n",
       "  border: .5pt solid var(--sklearn-color-unfitted-level-3);\n",
       "}\n",
       "\n",
       ".sk-estimator-doc-link.fitted span {\n",
       "  /* fitted */\n",
       "  background: var(--sklearn-color-fitted-level-0);\n",
       "  border: var(--sklearn-color-fitted-level-3);\n",
       "}\n",
       "\n",
       ".sk-estimator-doc-link:hover span {\n",
       "  display: block;\n",
       "}\n",
       "\n",
       "/* \"?\"-specific style due to the `<a>` HTML tag */\n",
       "\n",
       "#sk-container-id-3 a.estimator_doc_link {\n",
       "  float: right;\n",
       "  font-size: 1rem;\n",
       "  line-height: 1em;\n",
       "  font-family: monospace;\n",
       "  background-color: var(--sklearn-color-background);\n",
       "  border-radius: 1rem;\n",
       "  height: 1rem;\n",
       "  width: 1rem;\n",
       "  text-decoration: none;\n",
       "  /* unfitted */\n",
       "  color: var(--sklearn-color-unfitted-level-1);\n",
       "  border: var(--sklearn-color-unfitted-level-1) 1pt solid;\n",
       "}\n",
       "\n",
       "#sk-container-id-3 a.estimator_doc_link.fitted {\n",
       "  /* fitted */\n",
       "  border: var(--sklearn-color-fitted-level-1) 1pt solid;\n",
       "  color: var(--sklearn-color-fitted-level-1);\n",
       "}\n",
       "\n",
       "/* On hover */\n",
       "#sk-container-id-3 a.estimator_doc_link:hover {\n",
       "  /* unfitted */\n",
       "  background-color: var(--sklearn-color-unfitted-level-3);\n",
       "  color: var(--sklearn-color-background);\n",
       "  text-decoration: none;\n",
       "}\n",
       "\n",
       "#sk-container-id-3 a.estimator_doc_link.fitted:hover {\n",
       "  /* fitted */\n",
       "  background-color: var(--sklearn-color-fitted-level-3);\n",
       "}\n",
       "</style><div id=\"sk-container-id-3\" class=\"sk-top-container\"><div class=\"sk-text-repr-fallback\"><pre>LogisticRegression(random_state=42, solver=&#x27;liblinear&#x27;)</pre><b>In a Jupyter environment, please rerun this cell to show the HTML representation or trust the notebook. <br />On GitHub, the HTML representation is unable to render, please try loading this page with nbviewer.org.</b></div><div class=\"sk-container\" hidden><div class=\"sk-item\"><div class=\"sk-estimator fitted sk-toggleable\"><input class=\"sk-toggleable__control sk-hidden--visually\" id=\"sk-estimator-id-3\" type=\"checkbox\" checked><label for=\"sk-estimator-id-3\" class=\"sk-toggleable__label fitted sk-toggleable__label-arrow fitted\">&nbsp;&nbsp;LogisticRegression<a class=\"sk-estimator-doc-link fitted\" rel=\"noreferrer\" target=\"_blank\" href=\"https://scikit-learn.org/1.4/modules/generated/sklearn.linear_model.LogisticRegression.html\">?<span>Documentation for LogisticRegression</span></a><span class=\"sk-estimator-doc-link fitted\">i<span>Fitted</span></span></label><div class=\"sk-toggleable__content fitted\"><pre>LogisticRegression(random_state=42, solver=&#x27;liblinear&#x27;)</pre></div> </div></div></div></div>"
      ],
      "text/plain": [
       "LogisticRegression(random_state=42, solver='liblinear')"
      ]
     },
<<<<<<< Updated upstream
     "execution_count": 102,
=======
     "execution_count": 42,
>>>>>>> Stashed changes
     "metadata": {},
     "output_type": "execute_result"
    }
   ],
   "source": [
    "# Base model\n",
    "lgm = LogisticRegression(solver='liblinear', random_state=42)\n",
    "lgm.fit(X_train, y_train)"
   ]
  },
  {
   "cell_type": "markdown",
   "metadata": {},
   "source": [
    "**Hyperparameters**\n",
    "\n",
    "solver: {‘lbfgs’, ‘liblinear’, ‘newton-cg’, ‘newton-cholesky’, ‘sag’, ‘saga’}, default=’lbfgs’\n",
    "\n",
    "- lbfgs: relatively good perform (may have issues with convergence)\n",
    "- sag: faster than other for large datasets, when both the number of samples and the number of features are large\n",
    "- saga: sparse multinomial logistic regression and suitable for very large datasets\n",
    "- newton-cg: computationally expensive because of the Hessian Matrix\n",
    "- liblinear: recommended for high dimension dataset - solving large-scale classification problems\n",
    "\n",
    "penalty: {‘l1’, ‘l2’, ‘elasticnet’, None}, default=’l2’\n",
    "\n",
    "tol: tolerance to stopping (early stopping)\n",
    "\n",
    "C: regularization strength\n",
    "\n",
    "dual:\n",
    "\n",
    "fit_intercept:\n",
    "\n",
    "intercept_scaling:\n",
    "\n",
    "class_weight: \n",
    "\n",
    "max_iter:\n",
    "\n",
    "verbose:\n",
    "\n",
    "warm_start:\n",
    "\n",
    "n_jobs:\n",
    "\n",
    "l1_ratio:"
   ]
  },
  {
   "cell_type": "code",
   "execution_count": 103,
   "metadata": {},
   "outputs": [
    {
     "data": {
      "text/plain": [
       "array([0, 1])"
      ]
     },
     "execution_count": 103,
     "metadata": {},
     "output_type": "execute_result"
    }
   ],
   "source": [
    "lgm.classes_"
   ]
  },
  {
   "cell_type": "code",
<<<<<<< Updated upstream
   "execution_count": 104,
=======
   "execution_count": 56,
   "metadata": {},
   "outputs": [
    {
     "data": {
      "text/plain": [
       "array([ True, False, False, ..., False, False, False])"
      ]
     },
     "execution_count": 56,
     "metadata": {},
     "output_type": "execute_result"
    }
   ],
   "source": []
  },
  {
   "cell_type": "code",
   "execution_count": 66,
>>>>>>> Stashed changes
   "metadata": {},
   "outputs": [
    {
     "name": "stdout",
     "output_type": "stream",
     "text": [
      "              precision    recall  f1-score   support\n",
      "\n",
      "           0       1.00      1.00      1.00     56864\n",
      "           1       0.83      0.53      0.65        98\n",
      "\n",
      "    accuracy                           1.00     56962\n",
      "   macro avg       0.91      0.77      0.82     56962\n",
      "weighted avg       1.00      1.00      1.00     56962\n",
      "\n",
      "[[56853    11]\n",
      " [   46    52]]\n"
     ]
    }
   ],
   "source": [
    "y_pred = lgm.predict_proba(X_test)[:,1] > 0.5 # lgm.predict(X_test)\n",
    "\n",
    "report(y_test, y_pred)"
   ]
  },
  {
   "cell_type": "markdown",
   "metadata": {},
   "source": [
    "True:    284315\n",
    "\n",
    "Fraudulent:       492"
   ]
  },
  {
   "cell_type": "markdown",
   "metadata": {},
   "source": [
    "## K-Nearest Neighbor\n",
    "\n",
    "**haven't gotten it to run correctly yet**"
   ]
  },
  {
   "cell_type": "code",
   "execution_count": 105,
   "metadata": {},
   "outputs": [],
   "source": [
    "# from sklearn.neighbors import KNeighborsClassifier\n",
    "\n",
    "# knn = KNeighborsClassifier(n_neighbors=3)\n",
    "\n",
    "# knn.fit(X_train, y_train)\n",
    "# y_pred = knn.predict(X_test)\n",
    "# report(y_test, y_pred)"
   ]
  },
  {
   "cell_type": "markdown",
   "metadata": {},
   "source": [
    "## XGBoost\n",
    "\n",
    "XGBoost: Extreme Gradient Boost is distributed-boosted gradient tree. \n",
    "\n",
    "- improves a single weak model by combining it with a number of other weak models to generate a collectively strong model"
   ]
  },
  {
   "cell_type": "markdown",
   "metadata": {},
   "source": [
    "**xgb.train():**\n",
    "- lower-level function in XGBoost that allows you to train a gradient boosting model with fine-grained control over parameters\n",
    "- It requires you to explicitly define the model parameters\n",
    "- Need to prepare the data beforehand and pass it to the function as DMatrix objects\n",
    "\n",
    "\n",
    "- Pro: More flexibility and customization optionss\n",
    "- Con: ore manual intervention and tuning"
   ]
  },
  {
   "cell_type": "code",
   "execution_count": 106,
   "metadata": {},
   "outputs": [],
   "source": [
    "from xgboost import XGBClassifier\n",
    "import xgboost as xgb\n",
    "from sklearn.metrics import accuracy_score\n",
    "import warnings"
   ]
  },
  {
   "cell_type": "code",
   "execution_count": 107,
   "metadata": {},
   "outputs": [
    {
     "name": "stdout",
     "output_type": "stream",
     "text": [
      "Accuracy: 0.9995435553526912\n"
     ]
    }
   ],
   "source": [
    "warnings.filterwarnings(\"ignore\")\n",
    "\n",
    "# Define XGBoost parameters\n",
    "params = {\n",
    "    'objective': 'multi:softmax',  # Multiclass classification\n",
    "    'num_class': 5,                # Number of classes\n",
    "    'eta': 0.01,                   # Learning rate\n",
    "    'max_depth': 6,                # Maximum depth of a tree\n",
    "    'min_child_weight': 1,         # Minimum sum of instance weight required in a child\n",
    "    'subsample': 0.8,              # Subsample ratio of the training instances\n",
    "    'colsample_bytree': 0.6,       # Subsample ratio of columns when constructing each tree\n",
    "    'gamma': 0.3,                  # Minimum loss reduction required to make a further partition on a leaf node\n",
    "    'lambda': 0.6,                 # L2 regularization term on weights\n",
    "    'alpha': 0.2,                  # L1 regularization term on weights\n",
    "    'scale_pos_weight': 0.4,       # Control the balance of positive and negative weights\n",
    "    'tree_method': 'auto',       # Tree construction algorithm\n",
    "    'grow_policy': 'lossguide'  \n",
    "}\n",
    "\n",
    "# Convert data into DMatrix format\n",
    "dtrain = xgb.DMatrix(X_train, label=y_train)\n",
    "dtest = xgb.DMatrix(X_test, label=y_test)\n",
    "\n",
    "# Train the XGBoost model\n",
    "epochs = 100\n",
    "bst = xgb.train(params, dtrain, epochs)\n",
    "\n",
    "# Predictions\n",
    "preds = bst.predict(dtest)\n",
    "\n",
    "# Calculate accuracy\n",
    "accuracy = accuracy_score(y_test, preds)\n",
    "print(\"Accuracy:\", accuracy)\n"
   ]
  },
  {
   "cell_type": "code",
   "execution_count": 108,
   "metadata": {},
   "outputs": [
    {
     "name": "stdout",
     "output_type": "stream",
     "text": [
      "              precision    recall  f1-score   support\n",
      "\n",
      "           0       1.00      1.00      1.00     56864\n",
      "           1       0.99      0.74      0.85        98\n",
      "\n",
      "    accuracy                           1.00     56962\n",
      "   macro avg       0.99      0.87      0.92     56962\n",
      "weighted avg       1.00      1.00      1.00     56962\n",
      "\n",
      "[[56863     1]\n",
      " [   25    73]]\n"
     ]
    }
   ],
   "source": [
    "report(y_test, preds)"
   ]
  },
  {
   "cell_type": "markdown",
   "metadata": {},
   "source": [
    "**XGBClassifier():**\n",
    "- Higher-level interface for classification tasks\n",
    "- Follows the same API conventions as other classifiers in scikit-learn, (easier to use within scikit-learn pipelines and workflows)\n",
    "- Handles many details internally (data preprocessing, model initialization, and parameter tuning) \n",
    "- You can directly pass the raw data (features and labels) to XGBClassifier()"
   ]
  },
  {
   "cell_type": "code",
   "execution_count": 109,
   "metadata": {},
   "outputs": [
    {
     "name": "stdout",
     "output_type": "stream",
     "text": [
      "XGBClassifier(base_score=None, booster=None, callbacks=None,\n",
      "              colsample_bylevel=None, colsample_bynode=None,\n",
      "              colsample_bytree=None, device=None, early_stopping_rounds=None,\n",
      "              enable_categorical=False, eval_metric=None, feature_types=None,\n",
      "              gamma=None, grow_policy=None, importance_type=None,\n",
      "              interaction_constraints=None, learning_rate=None, max_bin=None,\n",
      "              max_cat_threshold=None, max_cat_to_onehot=None,\n",
      "              max_delta_step=None, max_depth=None, max_leaves=None,\n",
      "              min_child_weight=None, missing=nan, monotone_constraints=None,\n",
      "              multi_strategy=None, n_estimators=None, n_jobs=None,\n",
      "              num_parallel_tree=None, random_state=None, ...)\n"
     ]
    }
   ],
   "source": [
    "warnings.filterwarnings(\"ignore\")\n",
    "\n",
    "# fit model no training data\n",
    "xgc = XGBClassifier()\n",
    "xgc.fit(X_train, y_train)\n",
    "\n",
    "print(xgc)"
   ]
  },
  {
   "cell_type": "code",
   "execution_count": 110,
   "metadata": {},
   "outputs": [
    {
     "name": "stdout",
     "output_type": "stream",
     "text": [
      "              precision    recall  f1-score   support\n",
      "\n",
      "           0       1.00      1.00      1.00     56864\n",
      "           1       0.96      0.78      0.86        98\n",
      "\n",
      "    accuracy                           1.00     56962\n",
      "   macro avg       0.98      0.89      0.93     56962\n",
      "weighted avg       1.00      1.00      1.00     56962\n",
      "\n",
      "[[56861     3]\n",
      " [   22    76]]\n"
     ]
    }
   ],
   "source": [
    "y_pred = xgc.predict(X_test)\n",
    "predictions = [round(value) for value in y_pred]\n",
    "\n",
    "report(y_test, y_pred)"
   ]
  },
  {
   "cell_type": "code",
   "execution_count": 111,
   "metadata": {},
   "outputs": [
    {
     "name": "stdout",
     "output_type": "stream",
     "text": [
      "Accuracy: 99.96%\n"
     ]
    }
   ],
   "source": [
    "accuracy = accuracy_score(y_test, predictions)\n",
    "print(\"Accuracy: %.2f%%\" % (accuracy * 100.0))"
   ]
  },
  {
   "cell_type": "markdown",
   "metadata": {},
   "source": [
    "# GridSearch Example"
   ]
  },
  {
   "cell_type": "code",
   "execution_count": 112,
   "metadata": {},
   "outputs": [
    {
     "name": "stdout",
     "output_type": "stream",
     "text": [
      "Best Hyperparameters: {'learning_rate': 0.1, 'max_depth': 7, 'n_estimators': 200}\n",
      "Test Accuracy with Best Hyperparameters: 0.9995962220427653\n"
     ]
    }
   ],
   "source": [
    "xgc = XGBClassifier()\n",
    "\n",
    "param_grid = {\n",
    "    'n_estimators': [50, 100, 200],\n",
    "    'max_depth': [5, 7, 9],\n",
    "    'learning_rate': [0.1, 0.01, 0.001]\n",
    "}\n",
    "\n",
    "grid_search = GridSearchCV(estimator= xgc, param_grid= param_grid, cv= 3, scoring='accuracy')\n",
    "grid_search.fit(X_train, y_train)\n",
    "\n",
    "# Get the best hyperparameters\n",
    "best_params = grid_search.best_params_\n",
    "print(\"Best Hyperparameters:\", best_params)\n",
    "\n",
    "# Evaluate the model with the best hyperparameters on the test set\n",
    "model = XGBClassifier(**best_params)\n",
    "model.fit(X_train, y_train)\n",
    "accuracy = model.score(X_test, y_test)\n",
    "print(\"Test Accuracy with Best Hyperparameters:\", accuracy)"
   ]
  },
  {
   "cell_type": "markdown",
   "metadata": {},
   "source": [
    "# SMOTE"
   ]
  },
  {
   "cell_type": "markdown",
   "metadata": {},
   "source": [
    "SMOTE(*, \n",
    "\n",
    "*sampling_strategy*= float (only for binary), str (in our casue will use either auto or minority), dict or callable, default=’auto’,  \n",
    "\n",
    "*random_state*= controls randomization, \n",
    "\n",
    "*k_neighbors*= define the neighborhood of samples\n",
    ")"
   ]
  },
  {
   "cell_type": "code",
   "execution_count": 113,
   "metadata": {},
   "outputs": [
    {
     "data": {
      "text/plain": [
       "Counter({0: 227451, 1: 227451})"
      ]
     },
     "execution_count": 113,
     "metadata": {},
     "output_type": "execute_result"
    }
   ],
   "source": [
    "# in terminal: conda install -c conda-forge imbalanced-learn\n",
    "from imblearn.over_sampling import SMOTE\n",
    "from collections import Counter\n",
    "\n",
    "smote = SMOTE(random_state=42)\n",
    "X_train_resampled, y_train_resampled = smote.fit_resample(X_train, y_train)\n",
    "counter = Counter(y_train_resampled)\n",
    "counter"
   ]
  },
  {
   "cell_type": "markdown",
   "metadata": {},
   "source": [
    "For Logistic Regression"
   ]
  },
  {
   "cell_type": "code",
   "execution_count": 114,
   "metadata": {},
   "outputs": [
    {
     "name": "stdout",
     "output_type": "stream",
     "text": [
      "              precision    recall  f1-score   support\n",
      "\n",
      "           0       1.00      1.00      1.00     56864\n",
      "           1       0.96      0.80      0.87        98\n",
      "\n",
      "    accuracy                           1.00     56962\n",
      "   macro avg       0.98      0.90      0.94     56962\n",
      "weighted avg       1.00      1.00      1.00     56962\n",
      "\n",
      "[[56861     3]\n",
      " [   20    78]]\n"
     ]
    }
   ],
   "source": [
    "lgm = LogisticRegression(solver='liblinear', random_state=42)\n",
    "lgm.fit(X_train_resampled, y_train_resampled)\n",
    "y_pred = model.predict(X_test)\n",
    "\n",
    "report(y_test, y_pred)"
   ]
  },
  {
   "cell_type": "markdown",
   "metadata": {},
   "source": [
    "SMOTE on XGBoost Classifier"
   ]
  },
  {
   "cell_type": "code",
   "execution_count": 115,
   "metadata": {},
   "outputs": [
    {
     "name": "stdout",
     "output_type": "stream",
     "text": [
      "              precision    recall  f1-score   support\n",
      "\n",
      "           0       1.00      1.00      1.00     56864\n",
      "           1       0.96      0.80      0.87        98\n",
      "\n",
      "    accuracy                           1.00     56962\n",
      "   macro avg       0.98      0.90      0.94     56962\n",
      "weighted avg       1.00      1.00      1.00     56962\n",
      "\n",
      "[[56861     3]\n",
      " [   20    78]]\n"
     ]
    }
   ],
   "source": [
    "# fit model no training data\n",
    "xgc = XGBClassifier()\n",
    "xgc.fit(X_train_resampled, y_train_resampled)\n",
    "y_pred = model.predict(X_test)\n",
    "\n",
    "report(y_test, y_pred)"
   ]
  },
  {
   "cell_type": "markdown",
   "metadata": {},
   "source": [
    "**Play Around With SMOTE**"
   ]
  },
  {
   "cell_type": "markdown",
   "metadata": {},
   "source": [
    "# Boarderline SMOTE\n",
    "\n",
    "Similar to ADASYN, looks at minority points that are on the boarder (and creates an imaginay line) with the majority points and creates more minority points along the imaginary lines\n",
    "\n",
    "\n",
    "BoarderlineSMOTE(*, \n",
    "\n",
    "sampling_strategy= float, str, dict or callable, default=’auto’, \n",
    "\n",
    "random_state= Control the randomization , \n",
    "\n",
    "k_neighbors= used to define the neighborhood of samples, \n",
    "\n",
    "m_neighbors= The nearest neighbors used to determine if a minority sample is in “danger”., \n",
    "\n",
    "kind='borderline-1' or 'borderline-2')\n",
    "- boarderline-1: oversampling along border for both classes\n",
    "- boarderline-2: oversampling along boarder for **minority class**"
   ]
  },
  {
   "cell_type": "code",
   "execution_count": 116,
   "metadata": {},
   "outputs": [
    {
     "name": "stdout",
     "output_type": "stream",
     "text": [
      "              precision    recall  f1-score   support\n",
      "\n",
      "           0       1.00      1.00      1.00     56864\n",
      "           1       0.96      0.80      0.87        98\n",
      "\n",
      "    accuracy                           1.00     56962\n",
      "   macro avg       0.98      0.90      0.94     56962\n",
      "weighted avg       1.00      1.00      1.00     56962\n",
      "\n",
      "[[56861     3]\n",
      " [   20    78]]\n"
     ]
    }
   ],
   "source": [
    "from imblearn.over_sampling import BorderlineSMOTE\n",
    "\n",
    "smote = BorderlineSMOTE(random_state=42, kind= 'borderline-2')\n",
    "X_train_resampled, y_train_resampled = smote.fit_resample(X_train, y_train)\n",
    "counter = Counter(y_train_resampled)\n",
    "\n",
    "# fit model no training data\n",
    "xgc = XGBClassifier()\n",
    "xgc.fit(X_train_resampled, y_train_resampled)\n",
    "y_pred = model.predict(X_test)\n",
    "\n",
    "report(y_test, y_pred)"
   ]
  },
  {
   "cell_type": "code",
   "execution_count": 117,
   "metadata": {},
   "outputs": [
    {
     "name": "stdout",
     "output_type": "stream",
     "text": [
      "              precision    recall  f1-score   support\n",
      "\n",
      "           0       1.00      1.00      1.00     56864\n",
      "           1       0.86      0.83      0.84        98\n",
      "\n",
      "    accuracy                           1.00     56962\n",
      "   macro avg       0.93      0.91      0.92     56962\n",
      "weighted avg       1.00      1.00      1.00     56962\n",
      "\n",
      "[[56851    13]\n",
      " [   17    81]]\n"
     ]
    }
   ],
   "source": [
    "from imblearn.over_sampling import BorderlineSMOTE\n",
    "\n",
    "smote = BorderlineSMOTE(random_state=42, k_neighbors= 7, m_neighbors= 5, kind= 'borderline-2')\n",
    "X_train_resampled, y_train_resampled = smote.fit_resample(X_train, y_train)\n",
    "counter = Counter(y_train_resampled)\n",
    "\n",
    "# fit model no training data\n",
    "model = XGBClassifier()\n",
    "model.fit(X_train_resampled, y_train_resampled)\n",
    "y_pred = model.predict(X_test)\n",
    "\n",
    "report(y_test, y_pred)"
   ]
  },
  {
   "cell_type": "markdown",
   "metadata": {},
   "source": [
    "# ADASYN\n",
    "\n",
    "increases minority observations and placing more weights near observations that are more difficult to classify\n",
    "\n",
    "- if points are next to points of the different classification then ADASYN will ad more minority classification points in this area"
   ]
  },
  {
   "cell_type": "code",
   "execution_count": 118,
   "metadata": {},
   "outputs": [
    {
     "name": "stdout",
     "output_type": "stream",
     "text": [
      "              precision    recall  f1-score   support\n",
      "\n",
      "           0       1.00      1.00      1.00     56864\n",
      "           1       0.78      0.86      0.82        98\n",
      "\n",
      "    accuracy                           1.00     56962\n",
      "   macro avg       0.89      0.93      0.91     56962\n",
      "weighted avg       1.00      1.00      1.00     56962\n",
      "\n",
      "[[56840    24]\n",
      " [   14    84]]\n"
     ]
    }
   ],
   "source": [
    "from imblearn.over_sampling import ADASYN\n",
    "\n",
    "adasyn = ADASYN(random_state=42,  n_neighbors= 3) \n",
    "X_train_resampled, y_train_resampled = adasyn.fit_resample(X_train, y_train)\n",
    "\n",
    "model = XGBClassifier()\n",
    "model.fit(X_train_resampled, y_train_resampled)\n",
    "y_pred = model.predict(X_test)\n",
    "\n",
    "report(y_test, y_pred)"
   ]
  },
  {
   "cell_type": "code",
   "execution_count": 119,
   "metadata": {},
   "outputs": [
    {
     "name": "stdout",
     "output_type": "stream",
     "text": [
      "              precision    recall  f1-score   support\n",
      "\n",
      "           0       1.00      1.00      1.00     56864\n",
      "           1       0.74      0.86      0.80        98\n",
      "\n",
      "    accuracy                           1.00     56962\n",
      "   macro avg       0.87      0.93      0.90     56962\n",
      "weighted avg       1.00      1.00      1.00     56962\n",
      "\n",
      "[[56835    29]\n",
      " [   14    84]]\n"
     ]
    }
   ],
   "source": [
    "from imblearn.over_sampling import ADASYN\n",
    "\n",
    "adasyn = ADASYN(random_state=42) \n",
    "X_train_resampled, y_train_resampled = adasyn.fit_resample(X_train, y_train)\n",
    "\n",
    "model = XGBClassifier()\n",
    "model.fit(X_train_resampled, y_train_resampled)\n",
    "y_pred = model.predict(X_test)\n",
    "\n",
    "report(y_test, y_pred)"
   ]
  },
  {
   "cell_type": "markdown",
   "metadata": {},
   "source": [
    "GridSearch after ADASYN oversampling method"
   ]
  },
  {
   "cell_type": "code",
   "execution_count": 120,
   "metadata": {},
   "outputs": [
    {
     "name": "stdout",
     "output_type": "stream",
     "text": [
      "Best Hyperparameters: {'learning_rate': 0.1, 'max_depth': 5, 'n_estimators': 200}\n",
      "Test Accuracy with Best Hyperparameters: 0.997542221129876\n"
     ]
    }
   ],
   "source": [
    "model = XGBClassifier()\n",
    "\n",
    "param_grid = {\n",
    "    'n_estimators': [50, 100, 200],\n",
    "    'max_depth': [5, 7, 9],\n",
    "    'learning_rate': [0.1, 0.01, 0.001]\n",
    "}\n",
    "\n",
    "grid_search = GridSearchCV(estimator= model, param_grid= param_grid, cv= 3, scoring='accuracy')\n",
    "grid_search.fit(X_train_resampled, y_train_resampled)\n",
    "\n",
    "# Get the best hyperparameters\n",
    "best_params = grid_search.best_params_\n",
    "print(\"Best Hyperparameters:\", best_params)\n",
    "\n",
    "# Evaluate the model with the best hyperparameters on the test set\n",
    "model = XGBClassifier(**best_params)\n",
    "model.fit(X_train_resampled, y_train_resampled)\n",
    "accuracy = model.score(X_test, y_test)\n",
    "print(\"Test Accuracy with Best Hyperparameters:\", accuracy)"
   ]
  },
  {
   "cell_type": "markdown",
   "metadata": {},
   "source": [
    "# Anomoly Detection"
   ]
  },
  {
   "cell_type": "markdown",
   "metadata": {},
   "source": [
    "## DBSCAN\n",
    "\n",
    "**may not be best for high dimensional datasets**\n",
    "\n",
    "- eps = distance between two samples\n",
    "- min_samples = minimal sample in neigbhorhood"
   ]
  },
  {
   "cell_type": "code",
   "execution_count": 128,
   "metadata": {},
   "outputs": [
    {
     "data": {
      "text/plain": [
       "<Axes: xlabel='Time', ylabel='Count'>"
      ]
     },
     "execution_count": 128,
     "metadata": {},
     "output_type": "execute_result"
    },
    {
     "data": {
      "image/png": "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",
      "text/plain": [
       "<Figure size 640x480 with 1 Axes>"
      ]
     },
     "metadata": {},
     "output_type": "display_data"
    }
   ],
   "source": [
    "sns.histplot(data[\"Time\"])"
   ]
  },
  {
   "cell_type": "code",
   "execution_count": 124,
   "metadata": {},
   "outputs": [
    {
     "name": "stdout",
     "output_type": "stream",
     "text": [
      "DBSCAN(eps=0.3, min_samples=20)\n"
     ]
    }
   ],
   "source": [
    "from sklearn.cluster import DBSCAN\n",
    "\n",
    "dbscan = DBSCAN(eps = 0.3, min_samples= 20)\n",
    "print(dbscan)"
   ]
  }
 ],
 "metadata": {
  "kernelspec": {
   "display_name": "Python 3",
   "language": "python",
   "name": "python3"
  },
  "language_info": {
   "codemirror_mode": {
    "name": "ipython",
    "version": 3
   },
   "file_extension": ".py",
   "mimetype": "text/x-python",
   "name": "python",
   "nbconvert_exporter": "python",
   "pygments_lexer": "ipython3",
   "version": "3.11.4"
  }
 },
 "nbformat": 4,
 "nbformat_minor": 2
}
