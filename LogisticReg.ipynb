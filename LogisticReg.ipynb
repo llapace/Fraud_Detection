{
 "cells": [
  {
   "cell_type": "markdown",
   "metadata": {},
   "source": [
    "Smote technique to optimize imbalanced data set\n",
    "\n",
    "· Baseline classification model – logistic regression & K-nearest\n",
    "\n",
    "· XG-Boost model – tune parameters via grid search\n",
    "\n",
    "· Lean into imbalance data set thing and anomaly detection\n",
    "\n",
    "Anomaly detection ideas:\n",
    "\n",
    "- Auto encoder\n",
    "- DB scan\n",
    "\n",
    "\n",
    "· Maybe correlate time feature"
   ]
  },
  {
   "cell_type": "code",
   "execution_count": 1,
   "metadata": {},
   "outputs": [],
   "source": [
    "# pip install opendatasets\n",
    "\n",
    "import opendatasets as od\n",
    "import os\n",
    "import pandas as pd\n",
    "import numpy as np\n",
    "import matplotlib.pyplot as plt\n",
    "import seaborn as sns\n",
    "from sklearn.model_selection import GridSearchCV, train_test_split\n",
    "\n",
    "# %matplotlib\n",
    "pd.set_option('display.max_columns', None)"
   ]
  },
  {
   "cell_type": "markdown",
   "metadata": {},
   "source": [
    "### Load Data \n",
    "\n",
    "- retreived from kaggle portal\n",
    "- File too large to store in github"
   ]
  },
  {
   "cell_type": "code",
   "execution_count": 2,
   "metadata": {},
   "outputs": [
    {
     "name": "stdout",
     "output_type": "stream",
     "text": [
      "Skipping, found downloaded files in \"./creditcardfraud\" (use force=True to force download)\n"
     ]
    }
   ],
   "source": [
    "dataset_url=\"https://www.kaggle.com/datasets/mlg-ulb/creditcardfraud/data\"\n",
    "\n",
    "od.download(dataset_url)"
   ]
  },
  {
   "cell_type": "code",
   "execution_count": 3,
   "metadata": {},
   "outputs": [
    {
     "data": {
      "text/plain": [
       "['creditcard.csv']"
      ]
     },
     "execution_count": 3,
     "metadata": {},
     "output_type": "execute_result"
    }
   ],
   "source": [
    "data_dir = \"creditcardfraud\"\n",
    "\n",
    "os.listdir(data_dir)"
   ]
  },
  {
   "cell_type": "code",
   "execution_count": 4,
   "metadata": {},
   "outputs": [
    {
     "data": {
      "text/html": [
       "<div>\n",
       "<style scoped>\n",
       "    .dataframe tbody tr th:only-of-type {\n",
       "        vertical-align: middle;\n",
       "    }\n",
       "\n",
       "    .dataframe tbody tr th {\n",
       "        vertical-align: top;\n",
       "    }\n",
       "\n",
       "    .dataframe thead th {\n",
       "        text-align: right;\n",
       "    }\n",
       "</style>\n",
       "<table border=\"1\" class=\"dataframe\">\n",
       "  <thead>\n",
       "    <tr style=\"text-align: right;\">\n",
       "      <th></th>\n",
       "      <th>Time</th>\n",
       "      <th>V1</th>\n",
       "      <th>V2</th>\n",
       "      <th>V3</th>\n",
       "      <th>V4</th>\n",
       "      <th>V5</th>\n",
       "      <th>V6</th>\n",
       "      <th>V7</th>\n",
       "      <th>V8</th>\n",
       "      <th>V9</th>\n",
       "      <th>V10</th>\n",
       "      <th>V11</th>\n",
       "      <th>V12</th>\n",
       "      <th>V13</th>\n",
       "      <th>V14</th>\n",
       "      <th>V15</th>\n",
       "      <th>V16</th>\n",
       "      <th>V17</th>\n",
       "      <th>V18</th>\n",
       "      <th>V19</th>\n",
       "      <th>V20</th>\n",
       "      <th>V21</th>\n",
       "      <th>V22</th>\n",
       "      <th>V23</th>\n",
       "      <th>V24</th>\n",
       "      <th>V25</th>\n",
       "      <th>V26</th>\n",
       "      <th>V27</th>\n",
       "      <th>V28</th>\n",
       "      <th>Amount</th>\n",
       "      <th>Class</th>\n",
       "    </tr>\n",
       "  </thead>\n",
       "  <tbody>\n",
       "    <tr>\n",
       "      <th>0</th>\n",
       "      <td>0.0</td>\n",
       "      <td>-1.359807</td>\n",
       "      <td>-0.072781</td>\n",
       "      <td>2.536347</td>\n",
       "      <td>1.378155</td>\n",
       "      <td>-0.338321</td>\n",
       "      <td>0.462388</td>\n",
       "      <td>0.239599</td>\n",
       "      <td>0.098698</td>\n",
       "      <td>0.363787</td>\n",
       "      <td>0.090794</td>\n",
       "      <td>-0.551600</td>\n",
       "      <td>-0.617801</td>\n",
       "      <td>-0.991390</td>\n",
       "      <td>-0.311169</td>\n",
       "      <td>1.468177</td>\n",
       "      <td>-0.470401</td>\n",
       "      <td>0.207971</td>\n",
       "      <td>0.025791</td>\n",
       "      <td>0.403993</td>\n",
       "      <td>0.251412</td>\n",
       "      <td>-0.018307</td>\n",
       "      <td>0.277838</td>\n",
       "      <td>-0.110474</td>\n",
       "      <td>0.066928</td>\n",
       "      <td>0.128539</td>\n",
       "      <td>-0.189115</td>\n",
       "      <td>0.133558</td>\n",
       "      <td>-0.021053</td>\n",
       "      <td>149.62</td>\n",
       "      <td>0</td>\n",
       "    </tr>\n",
       "    <tr>\n",
       "      <th>1</th>\n",
       "      <td>0.0</td>\n",
       "      <td>1.191857</td>\n",
       "      <td>0.266151</td>\n",
       "      <td>0.166480</td>\n",
       "      <td>0.448154</td>\n",
       "      <td>0.060018</td>\n",
       "      <td>-0.082361</td>\n",
       "      <td>-0.078803</td>\n",
       "      <td>0.085102</td>\n",
       "      <td>-0.255425</td>\n",
       "      <td>-0.166974</td>\n",
       "      <td>1.612727</td>\n",
       "      <td>1.065235</td>\n",
       "      <td>0.489095</td>\n",
       "      <td>-0.143772</td>\n",
       "      <td>0.635558</td>\n",
       "      <td>0.463917</td>\n",
       "      <td>-0.114805</td>\n",
       "      <td>-0.183361</td>\n",
       "      <td>-0.145783</td>\n",
       "      <td>-0.069083</td>\n",
       "      <td>-0.225775</td>\n",
       "      <td>-0.638672</td>\n",
       "      <td>0.101288</td>\n",
       "      <td>-0.339846</td>\n",
       "      <td>0.167170</td>\n",
       "      <td>0.125895</td>\n",
       "      <td>-0.008983</td>\n",
       "      <td>0.014724</td>\n",
       "      <td>2.69</td>\n",
       "      <td>0</td>\n",
       "    </tr>\n",
       "    <tr>\n",
       "      <th>2</th>\n",
       "      <td>1.0</td>\n",
       "      <td>-1.358354</td>\n",
       "      <td>-1.340163</td>\n",
       "      <td>1.773209</td>\n",
       "      <td>0.379780</td>\n",
       "      <td>-0.503198</td>\n",
       "      <td>1.800499</td>\n",
       "      <td>0.791461</td>\n",
       "      <td>0.247676</td>\n",
       "      <td>-1.514654</td>\n",
       "      <td>0.207643</td>\n",
       "      <td>0.624501</td>\n",
       "      <td>0.066084</td>\n",
       "      <td>0.717293</td>\n",
       "      <td>-0.165946</td>\n",
       "      <td>2.345865</td>\n",
       "      <td>-2.890083</td>\n",
       "      <td>1.109969</td>\n",
       "      <td>-0.121359</td>\n",
       "      <td>-2.261857</td>\n",
       "      <td>0.524980</td>\n",
       "      <td>0.247998</td>\n",
       "      <td>0.771679</td>\n",
       "      <td>0.909412</td>\n",
       "      <td>-0.689281</td>\n",
       "      <td>-0.327642</td>\n",
       "      <td>-0.139097</td>\n",
       "      <td>-0.055353</td>\n",
       "      <td>-0.059752</td>\n",
       "      <td>378.66</td>\n",
       "      <td>0</td>\n",
       "    </tr>\n",
       "    <tr>\n",
       "      <th>3</th>\n",
       "      <td>1.0</td>\n",
       "      <td>-0.966272</td>\n",
       "      <td>-0.185226</td>\n",
       "      <td>1.792993</td>\n",
       "      <td>-0.863291</td>\n",
       "      <td>-0.010309</td>\n",
       "      <td>1.247203</td>\n",
       "      <td>0.237609</td>\n",
       "      <td>0.377436</td>\n",
       "      <td>-1.387024</td>\n",
       "      <td>-0.054952</td>\n",
       "      <td>-0.226487</td>\n",
       "      <td>0.178228</td>\n",
       "      <td>0.507757</td>\n",
       "      <td>-0.287924</td>\n",
       "      <td>-0.631418</td>\n",
       "      <td>-1.059647</td>\n",
       "      <td>-0.684093</td>\n",
       "      <td>1.965775</td>\n",
       "      <td>-1.232622</td>\n",
       "      <td>-0.208038</td>\n",
       "      <td>-0.108300</td>\n",
       "      <td>0.005274</td>\n",
       "      <td>-0.190321</td>\n",
       "      <td>-1.175575</td>\n",
       "      <td>0.647376</td>\n",
       "      <td>-0.221929</td>\n",
       "      <td>0.062723</td>\n",
       "      <td>0.061458</td>\n",
       "      <td>123.50</td>\n",
       "      <td>0</td>\n",
       "    </tr>\n",
       "    <tr>\n",
       "      <th>4</th>\n",
       "      <td>2.0</td>\n",
       "      <td>-1.158233</td>\n",
       "      <td>0.877737</td>\n",
       "      <td>1.548718</td>\n",
       "      <td>0.403034</td>\n",
       "      <td>-0.407193</td>\n",
       "      <td>0.095921</td>\n",
       "      <td>0.592941</td>\n",
       "      <td>-0.270533</td>\n",
       "      <td>0.817739</td>\n",
       "      <td>0.753074</td>\n",
       "      <td>-0.822843</td>\n",
       "      <td>0.538196</td>\n",
       "      <td>1.345852</td>\n",
       "      <td>-1.119670</td>\n",
       "      <td>0.175121</td>\n",
       "      <td>-0.451449</td>\n",
       "      <td>-0.237033</td>\n",
       "      <td>-0.038195</td>\n",
       "      <td>0.803487</td>\n",
       "      <td>0.408542</td>\n",
       "      <td>-0.009431</td>\n",
       "      <td>0.798278</td>\n",
       "      <td>-0.137458</td>\n",
       "      <td>0.141267</td>\n",
       "      <td>-0.206010</td>\n",
       "      <td>0.502292</td>\n",
       "      <td>0.219422</td>\n",
       "      <td>0.215153</td>\n",
       "      <td>69.99</td>\n",
       "      <td>0</td>\n",
       "    </tr>\n",
       "  </tbody>\n",
       "</table>\n",
       "</div>"
      ],
      "text/plain": [
       "   Time        V1        V2        V3        V4        V5        V6        V7  \\\n",
       "0   0.0 -1.359807 -0.072781  2.536347  1.378155 -0.338321  0.462388  0.239599   \n",
       "1   0.0  1.191857  0.266151  0.166480  0.448154  0.060018 -0.082361 -0.078803   \n",
       "2   1.0 -1.358354 -1.340163  1.773209  0.379780 -0.503198  1.800499  0.791461   \n",
       "3   1.0 -0.966272 -0.185226  1.792993 -0.863291 -0.010309  1.247203  0.237609   \n",
       "4   2.0 -1.158233  0.877737  1.548718  0.403034 -0.407193  0.095921  0.592941   \n",
       "\n",
       "         V8        V9       V10       V11       V12       V13       V14  \\\n",
       "0  0.098698  0.363787  0.090794 -0.551600 -0.617801 -0.991390 -0.311169   \n",
       "1  0.085102 -0.255425 -0.166974  1.612727  1.065235  0.489095 -0.143772   \n",
       "2  0.247676 -1.514654  0.207643  0.624501  0.066084  0.717293 -0.165946   \n",
       "3  0.377436 -1.387024 -0.054952 -0.226487  0.178228  0.507757 -0.287924   \n",
       "4 -0.270533  0.817739  0.753074 -0.822843  0.538196  1.345852 -1.119670   \n",
       "\n",
       "        V15       V16       V17       V18       V19       V20       V21  \\\n",
       "0  1.468177 -0.470401  0.207971  0.025791  0.403993  0.251412 -0.018307   \n",
       "1  0.635558  0.463917 -0.114805 -0.183361 -0.145783 -0.069083 -0.225775   \n",
       "2  2.345865 -2.890083  1.109969 -0.121359 -2.261857  0.524980  0.247998   \n",
       "3 -0.631418 -1.059647 -0.684093  1.965775 -1.232622 -0.208038 -0.108300   \n",
       "4  0.175121 -0.451449 -0.237033 -0.038195  0.803487  0.408542 -0.009431   \n",
       "\n",
       "        V22       V23       V24       V25       V26       V27       V28  \\\n",
       "0  0.277838 -0.110474  0.066928  0.128539 -0.189115  0.133558 -0.021053   \n",
       "1 -0.638672  0.101288 -0.339846  0.167170  0.125895 -0.008983  0.014724   \n",
       "2  0.771679  0.909412 -0.689281 -0.327642 -0.139097 -0.055353 -0.059752   \n",
       "3  0.005274 -0.190321 -1.175575  0.647376 -0.221929  0.062723  0.061458   \n",
       "4  0.798278 -0.137458  0.141267 -0.206010  0.502292  0.219422  0.215153   \n",
       "\n",
       "   Amount  Class  \n",
       "0  149.62      0  \n",
       "1    2.69      0  \n",
       "2  378.66      0  \n",
       "3  123.50      0  \n",
       "4   69.99      0  "
      ]
     },
     "execution_count": 4,
     "metadata": {},
     "output_type": "execute_result"
    }
   ],
   "source": [
    "creditcard=data_dir + \"/creditcard.csv\"\n",
    "data = pd.read_csv(creditcard)\n",
    "\n",
    "data.head()"
   ]
  },
  {
   "cell_type": "code",
   "execution_count": 5,
   "metadata": {},
   "outputs": [
    {
     "name": "stdout",
     "output_type": "stream",
     "text": [
      "<class 'pandas.core.frame.DataFrame'>\n",
      "RangeIndex: 284807 entries, 0 to 284806\n",
      "Data columns (total 31 columns):\n",
      " #   Column  Non-Null Count   Dtype  \n",
      "---  ------  --------------   -----  \n",
      " 0   Time    284807 non-null  float64\n",
      " 1   V1      284807 non-null  float64\n",
      " 2   V2      284807 non-null  float64\n",
      " 3   V3      284807 non-null  float64\n",
      " 4   V4      284807 non-null  float64\n",
      " 5   V5      284807 non-null  float64\n",
      " 6   V6      284807 non-null  float64\n",
      " 7   V7      284807 non-null  float64\n",
      " 8   V8      284807 non-null  float64\n",
      " 9   V9      284807 non-null  float64\n",
      " 10  V10     284807 non-null  float64\n",
      " 11  V11     284807 non-null  float64\n",
      " 12  V12     284807 non-null  float64\n",
      " 13  V13     284807 non-null  float64\n",
      " 14  V14     284807 non-null  float64\n",
      " 15  V15     284807 non-null  float64\n",
      " 16  V16     284807 non-null  float64\n",
      " 17  V17     284807 non-null  float64\n",
      " 18  V18     284807 non-null  float64\n",
      " 19  V19     284807 non-null  float64\n",
      " 20  V20     284807 non-null  float64\n",
      " 21  V21     284807 non-null  float64\n",
      " 22  V22     284807 non-null  float64\n",
      " 23  V23     284807 non-null  float64\n",
      " 24  V24     284807 non-null  float64\n",
      " 25  V25     284807 non-null  float64\n",
      " 26  V26     284807 non-null  float64\n",
      " 27  V27     284807 non-null  float64\n",
      " 28  V28     284807 non-null  float64\n",
      " 29  Amount  284807 non-null  float64\n",
      " 30  Class   284807 non-null  int64  \n",
      "dtypes: float64(30), int64(1)\n",
      "memory usage: 67.4 MB\n"
     ]
    }
   ],
   "source": [
    "data.info()"
   ]
  },
  {
   "cell_type": "code",
   "execution_count": 6,
   "metadata": {},
   "outputs": [
    {
     "data": {
      "text/plain": [
       "0    284315\n",
       "1       492\n",
       "Name: Class, dtype: int64"
      ]
     },
     "execution_count": 6,
     "metadata": {},
     "output_type": "execute_result"
    }
   ],
   "source": [
    "data['Class'].value_counts()"
   ]
  },
  {
   "cell_type": "code",
   "execution_count": 7,
   "metadata": {},
   "outputs": [
    {
     "data": {
      "text/plain": [
       "0.002"
      ]
     },
     "execution_count": 7,
     "metadata": {},
     "output_type": "execute_result"
    }
   ],
   "source": [
    "prop = 492/ 284315\n",
    "round(prop, 3)"
   ]
  },
  {
   "cell_type": "code",
   "execution_count": 8,
   "metadata": {},
   "outputs": [
    {
     "data": {
      "image/png": "[encoded data removed]",
      "text/plain": [
       "<Figure size 640x480 with 1 Axes>"
      ]
     },
     "metadata": {},
     "output_type": "display_data"
    }
   ],
   "source": [
    "#data imbalance\n",
    "sns.histplot(data['Class'])\n",
    "plt.yscale('log')\n",
    "plt.show()\n"
   ]
  },
  {
   "cell_type": "code",
   "execution_count": 9,
   "metadata": {},
   "outputs": [
    {
     "data": {
      "text/plain": [
       "Class\n",
       "0    25102462.04\n",
       "1       60127.97\n",
       "Name: Amount, dtype: float64"
      ]
     },
     "execution_count": 9,
     "metadata": {},
     "output_type": "execute_result"
    }
   ],
   "source": [
    "data.groupby('Class')['Amount'].sum()"
   ]
  },
  {
   "cell_type": "code",
   "execution_count": 10,
   "metadata": {},
   "outputs": [
    {
     "data": {
      "text/plain": [
       "<Axes: xlabel='Amount', ylabel='Class'>"
      ]
     },
     "execution_count": 10,
     "metadata": {},
     "output_type": "execute_result"
    },
    {
     "data": {
      "image/png": "[encoded data removed]",
      "text/plain": [
       "<Figure size 640x480 with 1 Axes>"
      ]
     },
     "metadata": {},
     "output_type": "display_data"
    }
   ],
   "source": [
    "amountClass = data[[\"Amount\", \"Class\"]]\n",
    "sns.scatterplot(amountClass, x = \"Amount\", y= \"Class\")"
   ]
  },
  {
   "cell_type": "code",
   "execution_count": 11,
   "metadata": {},
   "outputs": [
    {
     "data": {
      "text/plain": [
       "2125.87"
      ]
     },
     "execution_count": 11,
     "metadata": {},
     "output_type": "execute_result"
    }
   ],
   "source": [
    "amountClass[amountClass.Class==1].Amount.max()"
   ]
  },
  {
   "cell_type": "code",
   "execution_count": 12,
   "metadata": {},
   "outputs": [
    {
     "data": {
      "text/plain": [
       "0         149.62\n",
       "1           2.69\n",
       "2         378.66\n",
       "3         123.50\n",
       "4          69.99\n",
       "           ...  \n",
       "284802      0.77\n",
       "284803     24.79\n",
       "284804     67.88\n",
       "284805     10.00\n",
       "284806    217.00\n",
       "Name: Amount, Length: 284315, dtype: float64"
      ]
     },
     "execution_count": 12,
     "metadata": {},
     "output_type": "execute_result"
    }
   ],
   "source": [
    "amountClass[amountClass.Class==0].Amount"
   ]
  },
  {
   "cell_type": "code",
   "execution_count": 13,
   "metadata": {},
   "outputs": [
    {
     "name": "stderr",
     "output_type": "stream",
     "text": [
      "/Users/yuhanburgess/anaconda3/lib/python3.11/site-packages/pandas/core/arraylike.py:402: RuntimeWarning: divide by zero encountered in log10\n",
      "  result = getattr(ufunc, method)(*inputs, **kwargs)\n"
     ]
    },
    {
     "data": {
      "image/png": "[encoded data removed]",
      "text/plain": [
       "<Figure size 640x480 with 1 Axes>"
      ]
     },
     "metadata": {},
     "output_type": "display_data"
    }
   ],
   "source": [
    "bins = np.linspace(0,np.log10(25000),20)\n",
    "plt.hist(np.log10(amountClass[amountClass.Class==1].Amount), bins=bins, density=True, alpha=0.5)\n",
    "plt.hist(np.log10(amountClass[amountClass.Class==0].Amount), bins=bins, density=True, alpha=0.5)\n",
    "plt.show()"
   ]
  },
  {
   "cell_type": "markdown",
   "metadata": {},
   "source": [
    "Bringing Amount and Time into the same scale as the rest of the column as not in give a single feature dominance over the other. "
   ]
  },
  {
   "cell_type": "markdown",
   "metadata": {},
   "source": [
    "May want to use log normalization"
   ]
  },
  {
   "cell_type": "markdown",
   "metadata": {},
   "source": [
    "Robust Scalar: we can remove the outliers and then use either StandardScaler or MinMaxScaler for preprocessing the dataset"
   ]
  },
  {
   "cell_type": "code",
   "execution_count": 14,
   "metadata": {},
   "outputs": [
    {
     "data": {
      "text/html": [
       "<div>\n",
       "<style scoped>\n",
       "    .dataframe tbody tr th:only-of-type {\n",
       "        vertical-align: middle;\n",
       "    }\n",
       "\n",
       "    .dataframe tbody tr th {\n",
       "        vertical-align: top;\n",
       "    }\n",
       "\n",
       "    .dataframe thead th {\n",
       "        text-align: right;\n",
       "    }\n",
       "</style>\n",
       "<table border=\"1\" class=\"dataframe\">\n",
       "  <thead>\n",
       "    <tr style=\"text-align: right;\">\n",
       "      <th></th>\n",
       "      <th>Time</th>\n",
       "      <th>V1</th>\n",
       "      <th>V2</th>\n",
       "      <th>V3</th>\n",
       "      <th>V4</th>\n",
       "      <th>V5</th>\n",
       "      <th>V6</th>\n",
       "      <th>V7</th>\n",
       "      <th>V8</th>\n",
       "      <th>V9</th>\n",
       "      <th>V10</th>\n",
       "      <th>V11</th>\n",
       "      <th>V12</th>\n",
       "      <th>V13</th>\n",
       "      <th>V14</th>\n",
       "      <th>V15</th>\n",
       "      <th>V16</th>\n",
       "      <th>V17</th>\n",
       "      <th>V18</th>\n",
       "      <th>V19</th>\n",
       "      <th>V20</th>\n",
       "      <th>V21</th>\n",
       "      <th>V22</th>\n",
       "      <th>V23</th>\n",
       "      <th>V24</th>\n",
       "      <th>V25</th>\n",
       "      <th>V26</th>\n",
       "      <th>V27</th>\n",
       "      <th>V28</th>\n",
       "      <th>Amount</th>\n",
       "      <th>Class</th>\n",
       "    </tr>\n",
       "  </thead>\n",
       "  <tbody>\n",
       "    <tr>\n",
       "      <th>0</th>\n",
       "      <td>-0.994983</td>\n",
       "      <td>-0.616237</td>\n",
       "      <td>-0.098602</td>\n",
       "      <td>1.228905</td>\n",
       "      <td>0.878152</td>\n",
       "      <td>-0.217859</td>\n",
       "      <td>0.631245</td>\n",
       "      <td>0.177406</td>\n",
       "      <td>0.142432</td>\n",
       "      <td>0.334787</td>\n",
       "      <td>0.185689</td>\n",
       "      <td>-0.345414</td>\n",
       "      <td>-0.740209</td>\n",
       "      <td>-0.745834</td>\n",
       "      <td>-0.393775</td>\n",
       "      <td>1.152959</td>\n",
       "      <td>-0.541507</td>\n",
       "      <td>0.309758</td>\n",
       "      <td>0.029437</td>\n",
       "      <td>0.437322</td>\n",
       "      <td>0.910463</td>\n",
       "      <td>0.026866</td>\n",
       "      <td>0.253109</td>\n",
       "      <td>-0.320791</td>\n",
       "      <td>0.032681</td>\n",
       "      <td>0.167619</td>\n",
       "      <td>-0.241182</td>\n",
       "      <td>0.816731</td>\n",
       "      <td>-0.246091</td>\n",
       "      <td>1.783274</td>\n",
       "      <td>0</td>\n",
       "    </tr>\n",
       "    <tr>\n",
       "      <th>1</th>\n",
       "      <td>-0.994983</td>\n",
       "      <td>0.524929</td>\n",
       "      <td>0.143100</td>\n",
       "      <td>-0.006970</td>\n",
       "      <td>0.293974</td>\n",
       "      <td>0.087726</td>\n",
       "      <td>0.164395</td>\n",
       "      <td>-0.105740</td>\n",
       "      <td>0.117064</td>\n",
       "      <td>-0.164482</td>\n",
       "      <td>-0.074854</td>\n",
       "      <td>1.095465</td>\n",
       "      <td>0.903686</td>\n",
       "      <td>0.383407</td>\n",
       "      <td>-0.211569</td>\n",
       "      <td>0.476970</td>\n",
       "      <td>0.400979</td>\n",
       "      <td>-0.055612</td>\n",
       "      <td>-0.179787</td>\n",
       "      <td>-0.163363</td>\n",
       "      <td>-0.019150</td>\n",
       "      <td>-0.473332</td>\n",
       "      <td>-0.602719</td>\n",
       "      <td>0.363442</td>\n",
       "      <td>-0.479557</td>\n",
       "      <td>0.225462</td>\n",
       "      <td>0.313475</td>\n",
       "      <td>-0.063781</td>\n",
       "      <td>0.026519</td>\n",
       "      <td>-0.269825</td>\n",
       "      <td>0</td>\n",
       "    </tr>\n",
       "    <tr>\n",
       "      <th>2</th>\n",
       "      <td>-0.994972</td>\n",
       "      <td>-0.615587</td>\n",
       "      <td>-1.002407</td>\n",
       "      <td>0.830932</td>\n",
       "      <td>0.251024</td>\n",
       "      <td>-0.344345</td>\n",
       "      <td>1.778007</td>\n",
       "      <td>0.668164</td>\n",
       "      <td>0.420388</td>\n",
       "      <td>-1.179796</td>\n",
       "      <td>0.303796</td>\n",
       "      <td>0.437564</td>\n",
       "      <td>-0.072229</td>\n",
       "      <td>0.557465</td>\n",
       "      <td>-0.235704</td>\n",
       "      <td>1.865539</td>\n",
       "      <td>-2.982344</td>\n",
       "      <td>1.330783</td>\n",
       "      <td>-0.117763</td>\n",
       "      <td>-2.475385</td>\n",
       "      <td>1.703959</td>\n",
       "      <td>0.668917</td>\n",
       "      <td>0.714254</td>\n",
       "      <td>2.974603</td>\n",
       "      <td>-0.919589</td>\n",
       "      <td>-0.515430</td>\n",
       "      <td>-0.153111</td>\n",
       "      <td>-0.350218</td>\n",
       "      <td>-0.540962</td>\n",
       "      <td>4.983721</td>\n",
       "      <td>0</td>\n",
       "    </tr>\n",
       "    <tr>\n",
       "      <th>3</th>\n",
       "      <td>-0.994972</td>\n",
       "      <td>-0.440239</td>\n",
       "      <td>-0.178789</td>\n",
       "      <td>0.841250</td>\n",
       "      <td>-0.529808</td>\n",
       "      <td>0.033775</td>\n",
       "      <td>1.303832</td>\n",
       "      <td>0.175637</td>\n",
       "      <td>0.662489</td>\n",
       "      <td>-1.076888</td>\n",
       "      <td>0.038374</td>\n",
       "      <td>-0.128974</td>\n",
       "      <td>0.037307</td>\n",
       "      <td>0.397641</td>\n",
       "      <td>-0.368473</td>\n",
       "      <td>-0.551666</td>\n",
       "      <td>-1.135905</td>\n",
       "      <td>-0.700023</td>\n",
       "      <td>1.970088</td>\n",
       "      <td>-1.350843</td>\n",
       "      <td>-0.422194</td>\n",
       "      <td>-0.190105</td>\n",
       "      <td>-0.001408</td>\n",
       "      <td>-0.578786</td>\n",
       "      <td>-1.531963</td>\n",
       "      <td>0.944482</td>\n",
       "      <td>-0.298959</td>\n",
       "      <td>0.379163</td>\n",
       "      <td>0.382611</td>\n",
       "      <td>1.418291</td>\n",
       "      <td>0</td>\n",
       "    </tr>\n",
       "    <tr>\n",
       "      <th>4</th>\n",
       "      <td>-0.994960</td>\n",
       "      <td>-0.526089</td>\n",
       "      <td>0.579239</td>\n",
       "      <td>0.713861</td>\n",
       "      <td>0.265632</td>\n",
       "      <td>-0.270695</td>\n",
       "      <td>0.317183</td>\n",
       "      <td>0.491625</td>\n",
       "      <td>-0.546463</td>\n",
       "      <td>0.700808</td>\n",
       "      <td>0.855099</td>\n",
       "      <td>-0.525992</td>\n",
       "      <td>0.388903</td>\n",
       "      <td>1.036898</td>\n",
       "      <td>-1.273801</td>\n",
       "      <td>0.103149</td>\n",
       "      <td>-0.522390</td>\n",
       "      <td>-0.193970</td>\n",
       "      <td>-0.034570</td>\n",
       "      <td>0.873809</td>\n",
       "      <td>1.366227</td>\n",
       "      <td>0.048266</td>\n",
       "      <td>0.739092</td>\n",
       "      <td>-0.407980</td>\n",
       "      <td>0.126293</td>\n",
       "      <td>-0.333308</td>\n",
       "      <td>0.976221</td>\n",
       "      <td>1.347133</td>\n",
       "      <td>1.553716</td>\n",
       "      <td>0.670579</td>\n",
       "      <td>0</td>\n",
       "    </tr>\n",
       "  </tbody>\n",
       "</table>\n",
       "</div>"
      ],
      "text/plain": [
       "       Time        V1        V2        V3        V4        V5        V6  \\\n",
       "0 -0.994983 -0.616237 -0.098602  1.228905  0.878152 -0.217859  0.631245   \n",
       "1 -0.994983  0.524929  0.143100 -0.006970  0.293974  0.087726  0.164395   \n",
       "2 -0.994972 -0.615587 -1.002407  0.830932  0.251024 -0.344345  1.778007   \n",
       "3 -0.994972 -0.440239 -0.178789  0.841250 -0.529808  0.033775  1.303832   \n",
       "4 -0.994960 -0.526089  0.579239  0.713861  0.265632 -0.270695  0.317183   \n",
       "\n",
       "         V7        V8        V9       V10       V11       V12       V13  \\\n",
       "0  0.177406  0.142432  0.334787  0.185689 -0.345414 -0.740209 -0.745834   \n",
       "1 -0.105740  0.117064 -0.164482 -0.074854  1.095465  0.903686  0.383407   \n",
       "2  0.668164  0.420388 -1.179796  0.303796  0.437564 -0.072229  0.557465   \n",
       "3  0.175637  0.662489 -1.076888  0.038374 -0.128974  0.037307  0.397641   \n",
       "4  0.491625 -0.546463  0.700808  0.855099 -0.525992  0.388903  1.036898   \n",
       "\n",
       "        V14       V15       V16       V17       V18       V19       V20  \\\n",
       "0 -0.393775  1.152959 -0.541507  0.309758  0.029437  0.437322  0.910463   \n",
       "1 -0.211569  0.476970  0.400979 -0.055612 -0.179787 -0.163363 -0.019150   \n",
       "2 -0.235704  1.865539 -2.982344  1.330783 -0.117763 -2.475385  1.703959   \n",
       "3 -0.368473 -0.551666 -1.135905 -0.700023  1.970088 -1.350843 -0.422194   \n",
       "4 -1.273801  0.103149 -0.522390 -0.193970 -0.034570  0.873809  1.366227   \n",
       "\n",
       "        V21       V22       V23       V24       V25       V26       V27  \\\n",
       "0  0.026866  0.253109 -0.320791  0.032681  0.167619 -0.241182  0.816731   \n",
       "1 -0.473332 -0.602719  0.363442 -0.479557  0.225462  0.313475 -0.063781   \n",
       "2  0.668917  0.714254  2.974603 -0.919589 -0.515430 -0.153111 -0.350218   \n",
       "3 -0.190105 -0.001408 -0.578786 -1.531963  0.944482 -0.298959  0.379163   \n",
       "4  0.048266  0.739092 -0.407980  0.126293 -0.333308  0.976221  1.347133   \n",
       "\n",
       "        V28    Amount  Class  \n",
       "0 -0.246091  1.783274      0  \n",
       "1  0.026519 -0.269825      0  \n",
       "2 -0.540962  4.983721      0  \n",
       "3  0.382611  1.418291      0  \n",
       "4  1.553716  0.670579      0  "
      ]
     },
     "execution_count": 14,
     "metadata": {},
     "output_type": "execute_result"
    }
   ],
   "source": [
    "import pandas as pd\n",
    "from sklearn.preprocessing import RobustScaler\n",
    "\n",
    "# Assuming 'data' is your pandas DataFrame and 'column_to_exclude' is the column you want to exclude\n",
    "column_to_exclude = 'Class'\n",
    "\n",
    "# Drop the column to exclude\n",
    "data_to_scale = data.drop(columns=[column_to_exclude])\n",
    "\n",
    "# Apply RobustScaler to the remaining columns\n",
    "rob_scaler = RobustScaler()\n",
    "scaled_data = rob_scaler.fit_transform(data_to_scale)\n",
    "\n",
    "# Convert the scaled data back to a DataFrame\n",
    "data_scaled = pd.DataFrame(scaled_data, columns=data_to_scale.columns)\n",
    "\n",
    "# Concatenate the excluded column with the scaled DataFrame\n",
    "data_scaled[column_to_exclude] = data[column_to_exclude]\n",
    "\n",
    "# Now you can view the head of the scaled DataFrame\n",
    "data_scaled.head()"
   ]
  },
  {
   "cell_type": "code",
   "execution_count": 15,
   "metadata": {},
   "outputs": [
    {
     "data": {
      "image/png": "[encoded data removed]",
      "text/plain": [
       "<Figure size 640x480 with 1 Axes>"
      ]
     },
     "metadata": {},
     "output_type": "display_data"
    }
   ],
   "source": [
    "bins = np.linspace(0,np.log10(25000),20)\n",
    "plt.hist(data_scaled[data_scaled.Class==1].Amount, bins=bins, density=True, alpha=0.5)\n",
    "plt.hist(data_scaled[data_scaled.Class==0].Amount, bins=bins, density=True, alpha=0.5)\n",
    "plt.show()"
   ]
  },
  {
   "cell_type": "code",
   "execution_count": 16,
   "metadata": {},
   "outputs": [
    {
     "data": {
      "image/png": "[encoded data removed]",
      "text/plain": [
       "<Figure size 640x480 with 1 Axes>"
      ]
     },
     "metadata": {},
     "output_type": "display_data"
    }
   ],
   "source": [
    "plt.hist(data_scaled.Time)\n",
    "plt.yscale('log')"
   ]
  },
  {
   "cell_type": "code",
   "execution_count": 17,
   "metadata": {},
   "outputs": [
    {
     "data": {
      "image/png": "[encoded data removed]",
      "text/plain": [
       "<Figure size 640x480 with 1 Axes>"
      ]
     },
     "metadata": {},
     "output_type": "display_data"
    }
   ],
   "source": [
    "plt.hist(data_scaled.Amount)\n",
    "plt.yscale('log')"
   ]
  },
  {
   "cell_type": "code",
   "execution_count": 18,
   "metadata": {},
   "outputs": [
    {
     "data": {
      "image/png": "[encoded data removed]",
      "text/plain": [
       "<Figure size 640x480 with 1 Axes>"
      ]
     },
     "metadata": {},
     "output_type": "display_data"
    }
   ],
   "source": [
    "plt.hist(data_scaled.V1)\n",
    "plt.yscale(\"log\")"
   ]
  },
  {
   "cell_type": "code",
   "execution_count": 19,
   "metadata": {},
   "outputs": [],
   "source": [
    "# # in our case we may want to have detecting fraud as TP for confusion Matrix, this will allow that to happen\n",
    "data_scaled[\"Class\"] = data_scaled[\"Class\"].apply(lambda x: 1 if x == 0 else 0)"
   ]
  },
  {
   "cell_type": "code",
   "execution_count": 20,
   "metadata": {},
   "outputs": [
    {
     "data": {
      "image/png": "[encoded data removed]",
      "text/plain": [
       "<Figure size 640x480 with 1 Axes>"
      ]
     },
     "metadata": {},
     "output_type": "display_data"
    }
   ],
   "source": [
    "#data imbalance\n",
    "sns.histplot(data_scaled['Class'])\n",
    "plt.yscale('log')\n",
    "plt.show()"
   ]
  },
  {
   "cell_type": "code",
   "execution_count": 21,
   "metadata": {},
   "outputs": [],
   "source": [
    "X = data_scaled.drop('Class', axis=1)\n",
    "y = data_scaled['Class']\n",
    "X_train, X_test, y_train, y_test = train_test_split(X, y, test_size=0.2, random_state=42)"
   ]
  },
  {
   "cell_type": "code",
   "execution_count": 22,
   "metadata": {},
   "outputs": [
    {
     "data": {
      "text/plain": [
       "0         1\n",
       "1         1\n",
       "2         1\n",
       "3         1\n",
       "4         1\n",
       "         ..\n",
       "284802    1\n",
       "284803    1\n",
       "284804    1\n",
       "284805    1\n",
       "284806    1\n",
       "Name: Class, Length: 284807, dtype: int64"
      ]
     },
     "execution_count": 22,
     "metadata": {},
     "output_type": "execute_result"
    }
   ],
   "source": [
    "y"
   ]
  },
  {
   "cell_type": "code",
   "execution_count": 23,
   "metadata": {},
   "outputs": [
    {
     "data": {
      "text/plain": [
       "1    227451\n",
       "0       394\n",
       "Name: Class, dtype: int64"
      ]
     },
     "execution_count": 23,
     "metadata": {},
     "output_type": "execute_result"
    }
   ],
   "source": [
    "y_train.value_counts()"
   ]
  },
  {
   "cell_type": "code",
   "execution_count": 24,
   "metadata": {},
   "outputs": [
    {
     "data": {
      "text/plain": [
       "1    56864\n",
       "0       98\n",
       "Name: Class, dtype: int64"
      ]
     },
     "execution_count": 24,
     "metadata": {},
     "output_type": "execute_result"
    }
   ],
   "source": [
    "y_test.value_counts()"
   ]
  },
  {
   "cell_type": "code",
   "execution_count": 25,
   "metadata": {},
   "outputs": [
    {
     "name": "stdout",
     "output_type": "stream",
     "text": [
      "X_train shape: (227845, 30)\n",
      "y_train shape: (227845,)\n",
      "X_train type: <class 'pandas.core.frame.DataFrame'>\n",
      "y_train type: <class 'pandas.core.series.Series'>\n"
     ]
    }
   ],
   "source": [
    "print(\"X_train shape:\", X_train.shape)\n",
    "print(\"y_train shape:\", y_train.shape)\n",
    "print(\"X_train type:\", type(X_train))\n",
    "print(\"y_train type:\", type(y_train))"
   ]
  },
  {
   "cell_type": "markdown",
   "metadata": {},
   "source": [
    "# Confusion Matrix Overview\n",
    "\n",
    "TP  FN \n",
    "\n",
    "FP  TN\n",
    "\n",
    "*TP:* Transaction is truly fraud\n",
    "\n",
    "*FP:* Transcation flagged as fraud when it actually wasn't\n",
    "\n",
    "*TN:* Transaction was not flagged for fraud and it is not a fradulent transaction\n",
    "\n",
    "*FN:* Transaction was not flagged for fraud but it is fraulent"
   ]
  },
  {
   "cell_type": "markdown",
   "metadata": {},
   "source": [
    "# Supervised Learning Model"
   ]
  },
  {
   "cell_type": "code",
   "execution_count": 38,
   "metadata": {},
   "outputs": [],
   "source": [
    "from sklearn.metrics import classification_report, confusion_matrix"
   ]
  },
  {
   "cell_type": "code",
   "execution_count": 39,
   "metadata": {},
   "outputs": [],
   "source": [
    "def report(y_test, mod):\n",
    "    # Evaluate performance using classification report\n",
    "    print(classification_report(y_test, mod))\n",
    "\n",
    "    # Evaluate performance using confusion matrix\n",
    "    print(confusion_matrix(y_test, mod))\n",
    "\n",
    "    "
   ]
  },
  {
   "cell_type": "markdown",
   "metadata": {},
   "source": [
    "True:    284315\n",
    "\n",
    "Fraudulent:       492"
   ]
  },
  {
   "cell_type": "markdown",
   "metadata": {},
   "source": [
    "# Logistic Regression"
   ]
  },
  {
   "cell_type": "code",
   "execution_count": 40,
   "metadata": {},
   "outputs": [
    {
     "name": "stdout",
     "output_type": "stream",
     "text": [
      "              precision    recall  f1-score   support\n",
      "\n",
      "           0       0.86      0.57      0.69        98\n",
      "           1       1.00      1.00      1.00     56864\n",
      "\n",
      "    accuracy                           1.00     56962\n",
      "   macro avg       0.93      0.79      0.84     56962\n",
      "weighted avg       1.00      1.00      1.00     56962\n",
      "\n",
      "[[   56    42]\n",
      " [    9 56855]]\n"
     ]
    }
   ],
   "source": [
    "from sklearn.linear_model import LogisticRegression\n",
    "\n",
    "from imblearn.over_sampling import SMOTE\n",
    "from sklearn.metrics import classification_report, confusion_matrix\n",
    "lgm = LogisticRegression()\n",
    "\n",
    "# Train the classifier\n",
    "lgm.fit(X_train, y_train)\n",
    "\n",
    "# Make predictions on the test set\n",
    "y_pred = lgm.predict(X_test)\n",
    "# Evaluate the model\n",
    "print(classification_report(y_test, y_pred))\n",
    "print(confusion_matrix(y_test, y_pred))"
   ]
  },
  {
   "cell_type": "markdown",
   "metadata": {},
   "source": [
    "## SMOTE"
   ]
  },
  {
   "cell_type": "markdown",
   "metadata": {},
   "source": [
    "SMOTE(*, \n",
    "\n",
    "*sampling_strategy*= float (only for binary), str (in our casue will use either auto or minority), dict or callable, default=’auto’,  \n",
    "\n",
    "*random_state*= controls randomization, \n",
    "\n",
    "*k_neighbors*= define the neighborhood of samples\n",
    ")"
   ]
  },
  {
   "cell_type": "code",
   "execution_count": 28,
   "metadata": {},
   "outputs": [],
   "source": [
    "from sklearn.linear_model import LogisticRegression\n",
    "from sklearn.model_selection import GridSearchCV\n",
    "\n",
    "# lgm = LogisticRegression()\n",
    "\n",
    "# param_grid = {\n",
    "#     'C': [0.01, 0.1, 1],\n",
    "#     \"penalty\": ['l2', \"l2\", \"elasticnet\"]\n",
    "# }\n",
    "\n",
    "# grid_search = GridSearchCV(estimator=lgm, param_grid=param_grid, cv=3, scoring='recall')\n",
    "# grid_search.fit(X_train, y_train)\n",
    "\n",
    "# # Get the best hyperparameters\n",
    "# best_params = grid_search.best_params_\n",
    "# print(\"Best Hyperparameters:\", best_params)\n",
    "\n",
    "# # Evaluate the model with the best hyperparameters on the test set\n",
    "# model = LogisticRegression(**best_params)\n",
    "# model.fit(X_train, y_train)\n",
    "# recall = model.score(X_test, y_test)\n",
    "# print(\"Test Recall with Best Hyperparameters:\", recall)"
   ]
  },
  {
   "cell_type": "markdown",
   "metadata": {},
   "source": [
    "Best Hyperparameters: {'C': 0.01, 'penalty': 'l2', 'verbose': 0}\n",
    "\n",
    "Test Recall with Best Hyperparameters: 0.9990695551420246"
   ]
  },
  {
   "cell_type": "code",
   "execution_count": 29,
   "metadata": {},
   "outputs": [],
   "source": [
    "# Import necessary libraries\n",
    "from sklearn.model_selection import train_test_split\n",
    "from sklearn.linear_model import LogisticRegression\n",
    "from imblearn.over_sampling import SMOTE\n",
    "from sklearn.metrics import classification_report, confusion_matrix\n",
    "\n",
    "# Apply SMOTE for oversampling\n",
    "smote = SMOTE(random_state=42)\n",
    "X_train_resampled, y_train_resampled = smote.fit_resample(X_train, y_train)"
   ]
  },
  {
   "cell_type": "markdown",
   "metadata": {},
   "source": [
    "### baseline"
   ]
  },
  {
   "cell_type": "code",
   "execution_count": 30,
   "metadata": {},
   "outputs": [
    {
     "name": "stdout",
     "output_type": "stream",
     "text": [
      "              precision    recall  f1-score   support\n",
      "\n",
      "           0       0.06      0.92      0.11        98\n",
      "           1       1.00      0.97      0.99     56864\n",
      "\n",
      "    accuracy                           0.97     56962\n",
      "   macro avg       0.53      0.95      0.55     56962\n",
      "weighted avg       1.00      0.97      0.99     56962\n",
      "\n",
      "[[   90     8]\n",
      " [ 1432 55432]]\n"
     ]
    }
   ],
   "source": [
    "lgm = LogisticRegression()\n",
    "\n",
    "# Train the classifier\n",
    "lgm.fit(X_train_resampled, y_train_resampled)\n",
    "\n",
    "# Make predictions on the test set\n",
    "y_pred = lgm.predict(X_test)\n",
    "\n",
    "# Evaluate the model\n",
    "print(classification_report(y_test, y_pred))\n",
    "print(confusion_matrix(y_test, y_pred))\n"
   ]
  },
  {
   "cell_type": "markdown",
   "metadata": {},
   "source": [
    "### fine tuned"
   ]
  },
  {
   "cell_type": "code",
   "execution_count": 31,
   "metadata": {},
   "outputs": [
    {
     "name": "stdout",
     "output_type": "stream",
     "text": [
      "              precision    recall  f1-score   support\n",
      "\n",
      "           0       0.06      0.92      0.11        98\n",
      "           1       1.00      0.98      0.99     56864\n",
      "\n",
      "    accuracy                           0.98     56962\n",
      "   macro avg       0.53      0.95      0.55     56962\n",
      "weighted avg       1.00      0.98      0.99     56962\n",
      "\n",
      "[[   90     8]\n",
      " [ 1398 55466]]\n"
     ]
    }
   ],
   "source": [
    "\n",
    "# Initialize the KNN classifier\n",
    "lgm = LogisticRegression(C=0.01, penalty=\"l2\")\n",
    "\n",
    "# Train the classifier\n",
    "lgm.fit(X_train_resampled, y_train_resampled)\n",
    "\n",
    "# Make predictions on the test set\n",
    "y_pred = lgm.predict(X_test)\n",
    "\n",
    "# Evaluate the model\n",
    "print(classification_report(y_test, y_pred))\n",
    "print(confusion_matrix(y_test, y_pred))\n"
   ]
  },
  {
   "cell_type": "markdown",
   "metadata": {},
   "source": [
    "### Adjusted Threshold"
   ]
  },
  {
   "cell_type": "code",
   "execution_count": 32,
   "metadata": {},
   "outputs": [
    {
     "data": {
      "image/png": "[encoded data removed]",
      "text/plain": [
       "<Figure size 800x600 with 1 Axes>"
      ]
     },
     "metadata": {},
     "output_type": "display_data"
    }
   ],
   "source": [
    "from sklearn.metrics import roc_curve, roc_auc_score\n",
    "import matplotlib.pyplot as plt\n",
    "\n",
    "# Predict probabilities for the positive class (fraud)\n",
    "y_probs = lgm.predict_proba(X_test)[:, 1]\n",
    "\n",
    "# Compute ROC curve\n",
    "fpr, tpr, thresholds = roc_curve(y_test, y_probs)\n",
    "\n",
    "# Compute AUC score\n",
    "auc_score = roc_auc_score(y_test, y_probs)\n",
    "\n",
    "# Plot ROC curve\n",
    "plt.figure(figsize=(8, 6))\n",
    "plt.plot(fpr, tpr, color='blue', lw=2, label=f'ROC Curve (AUC = {auc_score:.2f})')\n",
    "plt.plot([0, 1], [0, 1], color='gray', linestyle='--', lw=1)\n",
    "plt.xlabel('False Positive Rate')\n",
    "plt.ylabel('True Positive Rate')\n",
    "plt.title('Receiver Operating Characteristic (ROC) Curve')\n",
    "plt.legend(loc='lower right')\n",
    "plt.grid(True)\n",
    "plt.show()\n"
   ]
  },
  {
   "cell_type": "code",
   "execution_count": 37,
   "metadata": {},
   "outputs": [
    {
     "name": "stdout",
     "output_type": "stream",
     "text": [
      "              precision    recall  f1-score   support\n",
      "\n",
      "           0       0.00      0.98      0.01        98\n",
      "           1       1.00      0.65      0.79     56864\n",
      "\n",
      "    accuracy                           0.65     56962\n",
      "   macro avg       0.50      0.82      0.40     56962\n",
      "weighted avg       1.00      0.65      0.79     56962\n",
      "\n",
      "[[   96     2]\n",
      " [19802 37062]]\n"
     ]
    }
   ],
   "source": [
    "# Initialize the KNN classifier\n",
    "lgm = LogisticRegression(C=0.01, penalty=\"l2\")\n",
    "\n",
    "# Train the classifier\n",
    "lgm.fit(X_train_resampled, y_train_resampled)\n",
    "\n",
    "# Make predictions on the test set\n",
    "y_pred_proba = lgm.predict_proba(X_test)[:, 1]  # Probability of class 0 (fraud)\n",
    "y_pred = (y_pred_proba > 0.95).astype(int)  # Applying the threshold\n",
    "\n",
    "# Evaluate the model\n",
    "print(classification_report(y_test, y_pred))\n",
    "print(confusion_matrix(y_test, y_pred))\n"
   ]
  },
  {
   "cell_type": "markdown",
   "metadata": {},
   "source": [
    "### ROC curve"
   ]
  },
  {
   "cell_type": "markdown",
   "metadata": {},
   "source": [
    "## boarderlineSMOTE"
   ]
  },
  {
   "cell_type": "code",
   "execution_count": 39,
   "metadata": {},
   "outputs": [],
   "source": [
    "# Import necessary libraries\n",
    "from sklearn.model_selection import train_test_split\n",
    "from sklearn.linear_model import LogisticRegression\n",
    "from imblearn.over_sampling import BorderlineSMOTE\n",
    "from sklearn.metrics import classification_report, confusion_matrix\n",
    "\n",
    "# Apply SMOTE for oversampling\n",
    "borderline = BorderlineSMOTE(random_state=42)\n",
    "X_train_resampled, y_train_resampled = borderline.fit_resample(X_train, y_train)"
   ]
  },
  {
   "cell_type": "markdown",
   "metadata": {},
   "source": [
    "### baseline"
   ]
  },
  {
   "cell_type": "code",
   "execution_count": 40,
   "metadata": {},
   "outputs": [],
   "source": [
    "from imblearn.over_sampling import BorderlineSMOTE\n",
    "\n",
    "boarderline = BorderlineSMOTE(random_state=42, kind= 'borderline-2')\n",
    "X_train_resampled, y_train_resampled = boarderline.fit_resample(X_train, y_train)"
   ]
  },
  {
   "cell_type": "code",
   "execution_count": 41,
   "metadata": {},
   "outputs": [
    {
     "name": "stdout",
     "output_type": "stream",
     "text": [
      "              precision    recall  f1-score   support\n",
      "\n",
      "           0       0.18      0.87      0.30        98\n",
      "           1       1.00      0.99      1.00     56864\n",
      "\n",
      "    accuracy                           0.99     56962\n",
      "   macro avg       0.59      0.93      0.65     56962\n",
      "weighted avg       1.00      0.99      1.00     56962\n",
      "\n",
      "[[   85    13]\n",
      " [  383 56481]]\n"
     ]
    }
   ],
   "source": [
    "lgm = LogisticRegression()\n",
    "\n",
    "# Train the classifier\n",
    "lgm.fit(X_train_resampled, y_train_resampled)\n",
    "\n",
    "# Make predictions on the test set\n",
    "y_pred = lgm.predict(X_test)\n",
    "\n",
    "# Evaluate the model\n",
    "print(classification_report(y_test, y_pred))\n",
    "print(confusion_matrix(y_test, y_pred))\n"
   ]
  },
  {
   "cell_type": "markdown",
   "metadata": {},
   "source": [
    "### fine tuned"
   ]
  },
  {
   "cell_type": "code",
   "execution_count": 43,
   "metadata": {},
   "outputs": [
    {
     "name": "stdout",
     "output_type": "stream",
     "text": [
      "              precision    recall  f1-score   support\n",
      "\n",
      "           0       0.17      0.87      0.28        98\n",
      "           1       1.00      0.99      1.00     56864\n",
      "\n",
      "    accuracy                           0.99     56962\n",
      "   macro avg       0.58      0.93      0.64     56962\n",
      "weighted avg       1.00      0.99      0.99     56962\n",
      "\n",
      "[[   85    13]\n",
      " [  423 56441]]\n"
     ]
    }
   ],
   "source": [
    "\n",
    "# Initialize the KNN classifier\n",
    "lgm = LogisticRegression(C=0.01, penalty=\"l2\")\n",
    "\n",
    "# Train the classifier\n",
    "lgm.fit(X_train_resampled, y_train_resampled)\n",
    "\n",
    "# Make predictions on the test set\n",
    "y_pred = lgm.predict(X_test)\n",
    "\n",
    "# Evaluate the model\n",
    "print(classification_report(y_test, y_pred))\n",
    "print(confusion_matrix(y_test, y_pred))\n"
   ]
  },
  {
   "cell_type": "markdown",
   "metadata": {},
   "source": [
    "### Adjusted Threshold"
   ]
  },
  {
   "cell_type": "code",
   "execution_count": 44,
   "metadata": {},
   "outputs": [
    {
     "name": "stdout",
     "output_type": "stream",
     "text": [
      "              precision    recall  f1-score   support\n",
      "\n",
      "           0       0.04      0.89      0.08        98\n",
      "           1       1.00      0.96      0.98     56864\n",
      "\n",
      "    accuracy                           0.96     56962\n",
      "   macro avg       0.52      0.93      0.53     56962\n",
      "weighted avg       1.00      0.96      0.98     56962\n",
      "\n",
      "[[   87    11]\n",
      " [ 2105 54759]]\n"
     ]
    }
   ],
   "source": [
    "# Initialize the KNN classifier\n",
    "lgm = LogisticRegression(C=0.01, penalty=\"l2\")\n",
    "\n",
    "# Train the classifier\n",
    "lgm.fit(X_train_resampled, y_train_resampled)\n",
    "\n",
    "# Make predictions on the test set\n",
    "y_pred_proba = lgm.predict_proba(X_test)[:, 1]  # Probability of class 0 (fraud)\n",
    "y_pred = (y_pred_proba > 0.95).astype(int)  # Applying the threshold\n",
    "\n",
    "# Evaluate the model\n",
    "print(classification_report(y_test, y_pred))\n",
    "print(confusion_matrix(y_test, y_pred))\n"
   ]
  },
  {
   "cell_type": "markdown",
   "metadata": {},
   "source": [
    "# ADASYN"
   ]
  },
  {
   "cell_type": "markdown",
   "metadata": {},
   "source": [
    "### Baseline"
   ]
  },
  {
   "cell_type": "code",
   "execution_count": 45,
   "metadata": {},
   "outputs": [],
   "source": [
    "from imblearn.over_sampling import ADASYN\n",
    "from imblearn.pipeline import Pipeline\n",
    "from sklearn.model_selection import GridSearchCV\n",
    "from sklearn.linear_model import LogisticRegression\n",
    "\n",
    "# Apply SMOTE for oversampling\n",
    "adasyn = ADASYN(random_state=42)\n",
    "X_train_resampled, y_train_resampled = adasyn.fit_resample(X_train, y_train)"
   ]
  },
  {
   "cell_type": "code",
   "execution_count": 46,
   "metadata": {},
   "outputs": [
    {
     "name": "stdout",
     "output_type": "stream",
     "text": [
      "              precision    recall  f1-score   support\n",
      "\n",
      "           0       0.02      0.94      0.04        98\n",
      "           1       1.00      0.92      0.96     56864\n",
      "\n",
      "    accuracy                           0.92     56962\n",
      "   macro avg       0.51      0.93      0.50     56962\n",
      "weighted avg       1.00      0.92      0.96     56962\n",
      "\n",
      "[[   92     6]\n",
      " [ 4529 52335]]\n"
     ]
    }
   ],
   "source": [
    "lgm = LogisticRegression()\n",
    "\n",
    "# Train the classifier\n",
    "lgm.fit(X_train_resampled, y_train_resampled)\n",
    "\n",
    "# Make predictions on the test set\n",
    "y_pred = lgm.predict(X_test)\n",
    "\n",
    "# Evaluate the model\n",
    "print(classification_report(y_test, y_pred))\n",
    "print(confusion_matrix(y_test, y_pred))\n"
   ]
  },
  {
   "cell_type": "code",
   "execution_count": 53,
   "metadata": {},
   "outputs": [
    {
     "name": "stderr",
     "output_type": "stream",
     "text": [
      "/Users/yuhanburgess/anaconda3/lib/python3.11/site-packages/sklearn/linear_model/_logistic.py:469: ConvergenceWarning: lbfgs failed to converge (status=1):\n",
      "STOP: TOTAL NO. of ITERATIONS REACHED LIMIT.\n",
      "\n",
      "Increase the number of iterations (max_iter) or scale the data as shown in:\n",
      "    https://scikit-learn.org/stable/modules/preprocessing.html\n",
      "Please also refer to the documentation for alternative solver options:\n",
      "    https://scikit-learn.org/stable/modules/linear_model.html#logistic-regression\n",
      "  n_iter_i = _check_optimize_result(\n",
      "/Users/yuhanburgess/anaconda3/lib/python3.11/site-packages/sklearn/model_selection/_validation.py:547: FitFailedWarning: \n",
      "60 fits failed out of a total of 90.\n",
      "The score on these train-test partitions for these parameters will be set to nan.\n",
      "If these failures are not expected, you can try to debug them by setting error_score='raise'.\n",
      "\n",
      "Below are more details about the failures:\n",
      "--------------------------------------------------------------------------------\n",
      "30 fits failed with the following error:\n",
      "Traceback (most recent call last):\n",
      "  File \"/Users/yuhanburgess/anaconda3/lib/python3.11/site-packages/sklearn/model_selection/_validation.py\", line 895, in _fit_and_score\n",
      "    estimator.fit(X_train, y_train, **fit_params)\n",
      "  File \"/Users/yuhanburgess/anaconda3/lib/python3.11/site-packages/sklearn/base.py\", line 1474, in wrapper\n",
      "    return fit_method(estimator, *args, **kwargs)\n",
      "           ^^^^^^^^^^^^^^^^^^^^^^^^^^^^^^^^^^^^^^\n",
      "  File \"/Users/yuhanburgess/anaconda3/lib/python3.11/site-packages/imblearn/pipeline.py\", line 326, in fit\n",
      "    self._final_estimator.fit(Xt, yt, **last_step_params[\"fit\"])\n",
      "  File \"/Users/yuhanburgess/anaconda3/lib/python3.11/site-packages/sklearn/base.py\", line 1474, in wrapper\n",
      "    return fit_method(estimator, *args, **kwargs)\n",
      "           ^^^^^^^^^^^^^^^^^^^^^^^^^^^^^^^^^^^^^^\n",
      "  File \"/Users/yuhanburgess/anaconda3/lib/python3.11/site-packages/sklearn/linear_model/_logistic.py\", line 1172, in fit\n",
      "    solver = _check_solver(self.solver, self.penalty, self.dual)\n",
      "             ^^^^^^^^^^^^^^^^^^^^^^^^^^^^^^^^^^^^^^^^^^^^^^^^^^^\n",
      "  File \"/Users/yuhanburgess/anaconda3/lib/python3.11/site-packages/sklearn/linear_model/_logistic.py\", line 67, in _check_solver\n",
      "    raise ValueError(\n",
      "ValueError: Solver lbfgs supports only 'l2' or None penalties, got l1 penalty.\n",
      "\n",
      "--------------------------------------------------------------------------------\n",
      "30 fits failed with the following error:\n",
      "Traceback (most recent call last):\n",
      "  File \"/Users/yuhanburgess/anaconda3/lib/python3.11/site-packages/sklearn/model_selection/_validation.py\", line 895, in _fit_and_score\n",
      "    estimator.fit(X_train, y_train, **fit_params)\n",
      "  File \"/Users/yuhanburgess/anaconda3/lib/python3.11/site-packages/sklearn/base.py\", line 1474, in wrapper\n",
      "    return fit_method(estimator, *args, **kwargs)\n",
      "           ^^^^^^^^^^^^^^^^^^^^^^^^^^^^^^^^^^^^^^\n",
      "  File \"/Users/yuhanburgess/anaconda3/lib/python3.11/site-packages/imblearn/pipeline.py\", line 326, in fit\n",
      "    self._final_estimator.fit(Xt, yt, **last_step_params[\"fit\"])\n",
      "  File \"/Users/yuhanburgess/anaconda3/lib/python3.11/site-packages/sklearn/base.py\", line 1474, in wrapper\n",
      "    return fit_method(estimator, *args, **kwargs)\n",
      "           ^^^^^^^^^^^^^^^^^^^^^^^^^^^^^^^^^^^^^^\n",
      "  File \"/Users/yuhanburgess/anaconda3/lib/python3.11/site-packages/sklearn/linear_model/_logistic.py\", line 1172, in fit\n",
      "    solver = _check_solver(self.solver, self.penalty, self.dual)\n",
      "             ^^^^^^^^^^^^^^^^^^^^^^^^^^^^^^^^^^^^^^^^^^^^^^^^^^^\n",
      "  File \"/Users/yuhanburgess/anaconda3/lib/python3.11/site-packages/sklearn/linear_model/_logistic.py\", line 67, in _check_solver\n",
      "    raise ValueError(\n",
      "ValueError: Solver lbfgs supports only 'l2' or None penalties, got elasticnet penalty.\n",
      "\n",
      "  warnings.warn(some_fits_failed_message, FitFailedWarning)\n",
      "/Users/yuhanburgess/anaconda3/lib/python3.11/site-packages/sklearn/model_selection/_search.py:1051: UserWarning: One or more of the test scores are non-finite: [       nan        nan 0.918378   0.92614231        nan        nan\n",
      "        nan        nan 0.91780206 0.92537291        nan        nan\n",
      "        nan        nan 0.91773611 0.92529817        nan        nan]\n",
      "  warnings.warn(\n"
     ]
    },
    {
     "name": "stdout",
     "output_type": "stream",
     "text": [
      "Best Parameters: {'model__C': 0.01, 'model__penalty': 'l2', 'sampling__n_neighbors': 5}\n"
     ]
    }
   ],
   "source": [
    "# from imblearn.over_sampling import ADASYN\n",
    "# from imblearn.pipeline import Pipeline\n",
    "# from sklearn.model_selection import GridSearchCV\n",
    "# from sklearn.linear_model import LogisticRegression\n",
    "\n",
    "# # Define the pipeline with ADASYN and model\n",
    "# pipeline = Pipeline([\n",
    "#     ('sampling', ADASYN(random_state=42)),\n",
    "#     ('model', LogisticRegression())\n",
    "# ])\n",
    "\n",
    "# # Define parameter grid for grid search\n",
    "# param_grid = {\n",
    "#     'model__C': [0.01, 0.1, 1],  \n",
    "#     'sampling__n_neighbors': [3, 5], \n",
    "#     'model__penalty': [\"l1\", \"l2\", \"elasticnet\"]  \n",
    "# }\n",
    "\n",
    "# # Perform grid search with cross-validation\n",
    "# grid_search = GridSearchCV(pipeline, param_grid, cv=5, scoring='recall', n_jobs=-1)\n",
    "# grid_search.fit(X_train, y_train)\n",
    "\n",
    "# # Print the best parameters\n",
    "# print(\"Best Parameters:\", grid_search.best_params_)\n"
   ]
  },
  {
   "cell_type": "markdown",
   "metadata": {},
   "source": [
    "Best Parameters: {'model__C': 0.01, 'model__penalty': 'l2', 'sampling__n_neighbors': 5}"
   ]
  },
  {
   "cell_type": "markdown",
   "metadata": {},
   "source": [
    "If it takes you too long to run the code above then run code below"
   ]
  },
  {
   "cell_type": "markdown",
   "metadata": {},
   "source": [
    "[[   85    13]\n",
    "\n",
    " [   67 56797]]"
   ]
  },
  {
   "cell_type": "code",
   "execution_count": 52,
   "metadata": {},
   "outputs": [
    {
     "name": "stdout",
     "output_type": "stream",
     "text": [
      "              precision    recall  f1-score   support\n",
      "\n",
      "           0       0.02      0.94      0.04        98\n",
      "           1       1.00      0.92      0.96     56864\n",
      "\n",
      "    accuracy                           0.92     56962\n",
      "   macro avg       0.51      0.93      0.50     56962\n",
      "weighted avg       1.00      0.92      0.96     56962\n",
      "\n",
      "[[   92     6]\n",
      " [ 4491 52373]]\n"
     ]
    }
   ],
   "source": [
    "adasyn = ADASYN(random_state=42, n_neighbors=5)\n",
    "X_train_resampled, y_train_resampled = adasyn.fit_resample(X_train, y_train)\n",
    "lgm = LogisticRegression(C=0.01, penalty=\"l2\")\n",
    "\n",
    "# Train the classifier\n",
    "lgm.fit(X_train_resampled, y_train_resampled)\n",
    "\n",
    "# Make predictions on the test set\n",
    "y_pred = lgm.predict(X_test)\n",
    "\n",
    "# Evaluate the model\n",
    "print(classification_report(y_test, y_pred))\n",
    "print(confusion_matrix(y_test, y_pred))"
   ]
  },
  {
   "cell_type": "code",
   "execution_count": 54,
   "metadata": {},
   "outputs": [],
   "source": [
    "# Define and initialize ADASYN with the best n_neighbors\n",
    "# best_n_neighbors = grid_search.best_params_['sampling__n_neighbors']\n",
    "# adasyn = ADASYN(random_state=42, n_neighbors= 5)\n",
    "\n",
    "# Resample the training data using ADASYN\n",
    "# X_train_resampled_ADASYN, y_train_resampled_ADASYN = adasyn.fit_resample(X_train, y_train)\n",
    "\n",
    "adasyn_knn = pd.concat([pd.DataFrame(X_train_resampled, columns=X_train.columns), pd.Series(y_train_resampled, name='target')], axis=1)"
   ]
  },
  {
   "cell_type": "markdown",
   "metadata": {},
   "source": [
    "# Anomoly Detection"
   ]
  },
  {
   "cell_type": "markdown",
   "metadata": {},
   "source": [
    "## DBSCAN\n",
    "\n",
    "*all the anomoly are the same in each file thought it might be easier not to have to switch between the three*\n",
    "**may not be best for high dimensional datasets**\n",
    "\n",
    "- eps = distance between two samples\n",
    "- min_samples = minimal sample in neigbhorhood"
   ]
  },
  {
   "cell_type": "code",
   "execution_count": 55,
   "metadata": {},
   "outputs": [
    {
     "data": {
      "text/plain": [
       "<Axes: xlabel='Time', ylabel='Count'>"
      ]
     },
     "execution_count": 55,
     "metadata": {},
     "output_type": "execute_result"
    },
    {
     "data": {
      "image/png": "[encoded data removed]",
      "text/plain": [
       "<Figure size 640x480 with 1 Axes>"
      ]
     },
     "metadata": {},
     "output_type": "display_data"
    }
   ],
   "source": [
    "sns.histplot(adasyn_knn[\"Time\"])"
   ]
  },
  {
   "cell_type": "markdown",
   "metadata": {},
   "source": [
    "### PCA Test"
   ]
  },
  {
   "cell_type": "code",
   "execution_count": 56,
   "metadata": {},
   "outputs": [
    {
     "data": {
      "image/png": "[encoded data removed]",
      "text/plain": [
       "<Figure size 640x480 with 1 Axes>"
      ]
     },
     "metadata": {},
     "output_type": "display_data"
    }
   ],
   "source": [
    "from sklearn.decomposition import PCA\n",
    "pca = PCA()\n",
    "\n",
    "# Fit PCA model to data\n",
    "pca.fit(adasyn_knn)\n",
    "\n",
    "# Plot explained variance ratio\n",
    "plt.plot(np.cumsum(pca.explained_variance_ratio_))\n",
    "plt.xlabel('Number of Components')\n",
    "plt.ylabel('Cumulative Explained Variance')\n",
    "plt.title('Explained Variance Ratio')\n",
    "plt.show()"
   ]
  },
  {
   "cell_type": "code",
   "execution_count": 57,
   "metadata": {},
   "outputs": [
    {
     "data": {
      "text/html": [
       "<div>\n",
       "<style scoped>\n",
       "    .dataframe tbody tr th:only-of-type {\n",
       "        vertical-align: middle;\n",
       "    }\n",
       "\n",
       "    .dataframe tbody tr th {\n",
       "        vertical-align: top;\n",
       "    }\n",
       "\n",
       "    .dataframe thead th {\n",
       "        text-align: right;\n",
       "    }\n",
       "</style>\n",
       "<table border=\"1\" class=\"dataframe\">\n",
       "  <thead>\n",
       "    <tr style=\"text-align: right;\">\n",
       "      <th></th>\n",
       "      <th>Time</th>\n",
       "      <th>V1</th>\n",
       "      <th>V2</th>\n",
       "      <th>V3</th>\n",
       "      <th>V4</th>\n",
       "      <th>V5</th>\n",
       "      <th>V6</th>\n",
       "      <th>V7</th>\n",
       "      <th>V8</th>\n",
       "      <th>V9</th>\n",
       "      <th>V10</th>\n",
       "      <th>V11</th>\n",
       "      <th>V12</th>\n",
       "      <th>V13</th>\n",
       "      <th>V14</th>\n",
       "      <th>V15</th>\n",
       "      <th>V16</th>\n",
       "      <th>V17</th>\n",
       "      <th>V18</th>\n",
       "      <th>V19</th>\n",
       "      <th>V20</th>\n",
       "      <th>V21</th>\n",
       "      <th>V22</th>\n",
       "      <th>V23</th>\n",
       "      <th>V24</th>\n",
       "      <th>V25</th>\n",
       "      <th>V26</th>\n",
       "      <th>V27</th>\n",
       "      <th>V28</th>\n",
       "      <th>Amount</th>\n",
       "      <th>target</th>\n",
       "    </tr>\n",
       "  </thead>\n",
       "  <tbody>\n",
       "    <tr>\n",
       "      <th>0</th>\n",
       "      <td>0.689153</td>\n",
       "      <td>0.866243</td>\n",
       "      <td>-0.318246</td>\n",
       "      <td>-0.258067</td>\n",
       "      <td>0.219853</td>\n",
       "      <td>-0.349083</td>\n",
       "      <td>0.161107</td>\n",
       "      <td>-0.594108</td>\n",
       "      <td>0.025441</td>\n",
       "      <td>0.891756</td>\n",
       "      <td>0.063149</td>\n",
       "      <td>0.437893</td>\n",
       "      <td>1.515383</td>\n",
       "      <td>0.968204</td>\n",
       "      <td>-0.330750</td>\n",
       "      <td>-0.308326</td>\n",
       "      <td>0.242945</td>\n",
       "      <td>-0.979336</td>\n",
       "      <td>0.655527</td>\n",
       "      <td>0.179461</td>\n",
       "      <td>-0.182470</td>\n",
       "      <td>0.645288</td>\n",
       "      <td>0.897861</td>\n",
       "      <td>0.208088</td>\n",
       "      <td>-0.402433</td>\n",
       "      <td>-0.092224</td>\n",
       "      <td>-0.289894</td>\n",
       "      <td>0.270724</td>\n",
       "      <td>-0.444900</td>\n",
       "      <td>-0.167819</td>\n",
       "      <td>1</td>\n",
       "    </tr>\n",
       "    <tr>\n",
       "      <th>1</th>\n",
       "      <td>0.381595</td>\n",
       "      <td>-0.187425</td>\n",
       "      <td>-0.493790</td>\n",
       "      <td>0.717314</td>\n",
       "      <td>-1.254993</td>\n",
       "      <td>-0.040991</td>\n",
       "      <td>0.379221</td>\n",
       "      <td>-0.019692</td>\n",
       "      <td>-0.791038</td>\n",
       "      <td>0.074024</td>\n",
       "      <td>0.711612</td>\n",
       "      <td>-1.273103</td>\n",
       "      <td>-0.846476</td>\n",
       "      <td>0.819542</td>\n",
       "      <td>-1.353996</td>\n",
       "      <td>0.473313</td>\n",
       "      <td>-0.228517</td>\n",
       "      <td>-1.771255</td>\n",
       "      <td>2.111227</td>\n",
       "      <td>-1.853612</td>\n",
       "      <td>-1.183107</td>\n",
       "      <td>-0.299044</td>\n",
       "      <td>0.387449</td>\n",
       "      <td>0.402712</td>\n",
       "      <td>-1.316024</td>\n",
       "      <td>-1.786733</td>\n",
       "      <td>0.729066</td>\n",
       "      <td>-2.296765</td>\n",
       "      <td>-1.188935</td>\n",
       "      <td>0.333962</td>\n",
       "      <td>1</td>\n",
       "    </tr>\n",
       "    <tr>\n",
       "      <th>2</th>\n",
       "      <td>0.762145</td>\n",
       "      <td>0.024329</td>\n",
       "      <td>0.538468</td>\n",
       "      <td>-0.386531</td>\n",
       "      <td>-0.433454</td>\n",
       "      <td>0.870514</td>\n",
       "      <td>-0.073053</td>\n",
       "      <td>0.664959</td>\n",
       "      <td>0.177093</td>\n",
       "      <td>-0.064380</td>\n",
       "      <td>-0.551175</td>\n",
       "      <td>0.369278</td>\n",
       "      <td>-0.207852</td>\n",
       "      <td>-0.758684</td>\n",
       "      <td>-0.751967</td>\n",
       "      <td>-0.690114</td>\n",
       "      <td>0.617066</td>\n",
       "      <td>0.124572</td>\n",
       "      <td>0.525736</td>\n",
       "      <td>0.213098</td>\n",
       "      <td>0.216694</td>\n",
       "      <td>-0.687578</td>\n",
       "      <td>-0.821494</td>\n",
       "      <td>0.305614</td>\n",
       "      <td>0.134996</td>\n",
       "      <td>-0.670877</td>\n",
       "      <td>0.302549</td>\n",
       "      <td>1.266659</td>\n",
       "      <td>0.449894</td>\n",
       "      <td>-0.139873</td>\n",
       "      <td>1</td>\n",
       "    </tr>\n",
       "    <tr>\n",
       "      <th>3</th>\n",
       "      <td>0.105476</td>\n",
       "      <td>-0.247384</td>\n",
       "      <td>0.676830</td>\n",
       "      <td>0.819183</td>\n",
       "      <td>1.752053</td>\n",
       "      <td>0.425328</td>\n",
       "      <td>1.093924</td>\n",
       "      <td>0.718356</td>\n",
       "      <td>-0.193443</td>\n",
       "      <td>0.341070</td>\n",
       "      <td>0.660548</td>\n",
       "      <td>-0.547691</td>\n",
       "      <td>-4.219203</td>\n",
       "      <td>0.229161</td>\n",
       "      <td>1.328640</td>\n",
       "      <td>-0.860367</td>\n",
       "      <td>1.404358</td>\n",
       "      <td>-0.619844</td>\n",
       "      <td>0.818848</td>\n",
       "      <td>-2.350028</td>\n",
       "      <td>-0.554807</td>\n",
       "      <td>0.224160</td>\n",
       "      <td>0.407738</td>\n",
       "      <td>-0.198912</td>\n",
       "      <td>0.512794</td>\n",
       "      <td>-1.005893</td>\n",
       "      <td>-0.226961</td>\n",
       "      <td>-0.582855</td>\n",
       "      <td>-0.580429</td>\n",
       "      <td>1.333613</td>\n",
       "      <td>1</td>\n",
       "    </tr>\n",
       "    <tr>\n",
       "      <th>4</th>\n",
       "      <td>-0.023931</td>\n",
       "      <td>-1.809043</td>\n",
       "      <td>1.306368</td>\n",
       "      <td>-0.317921</td>\n",
       "      <td>-0.006109</td>\n",
       "      <td>-0.614807</td>\n",
       "      <td>-0.176730</td>\n",
       "      <td>-0.423059</td>\n",
       "      <td>2.409441</td>\n",
       "      <td>0.473678</td>\n",
       "      <td>1.328816</td>\n",
       "      <td>0.336454</td>\n",
       "      <td>1.422038</td>\n",
       "      <td>0.603466</td>\n",
       "      <td>0.149211</td>\n",
       "      <td>-0.900094</td>\n",
       "      <td>0.077591</td>\n",
       "      <td>0.083175</td>\n",
       "      <td>-0.052198</td>\n",
       "      <td>0.774610</td>\n",
       "      <td>0.145495</td>\n",
       "      <td>-1.087925</td>\n",
       "      <td>-0.221450</td>\n",
       "      <td>0.846268</td>\n",
       "      <td>0.032014</td>\n",
       "      <td>0.680072</td>\n",
       "      <td>0.523781</td>\n",
       "      <td>1.763981</td>\n",
       "      <td>-2.544321</td>\n",
       "      <td>0.052540</td>\n",
       "      <td>1</td>\n",
       "    </tr>\n",
       "  </tbody>\n",
       "</table>\n",
       "</div>"
      ],
      "text/plain": [
       "       Time        V1        V2        V3        V4        V5        V6  \\\n",
       "0  0.689153  0.866243 -0.318246 -0.258067  0.219853 -0.349083  0.161107   \n",
       "1  0.381595 -0.187425 -0.493790  0.717314 -1.254993 -0.040991  0.379221   \n",
       "2  0.762145  0.024329  0.538468 -0.386531 -0.433454  0.870514 -0.073053   \n",
       "3  0.105476 -0.247384  0.676830  0.819183  1.752053  0.425328  1.093924   \n",
       "4 -0.023931 -1.809043  1.306368 -0.317921 -0.006109 -0.614807 -0.176730   \n",
       "\n",
       "         V7        V8        V9       V10       V11       V12       V13  \\\n",
       "0 -0.594108  0.025441  0.891756  0.063149  0.437893  1.515383  0.968204   \n",
       "1 -0.019692 -0.791038  0.074024  0.711612 -1.273103 -0.846476  0.819542   \n",
       "2  0.664959  0.177093 -0.064380 -0.551175  0.369278 -0.207852 -0.758684   \n",
       "3  0.718356 -0.193443  0.341070  0.660548 -0.547691 -4.219203  0.229161   \n",
       "4 -0.423059  2.409441  0.473678  1.328816  0.336454  1.422038  0.603466   \n",
       "\n",
       "        V14       V15       V16       V17       V18       V19       V20  \\\n",
       "0 -0.330750 -0.308326  0.242945 -0.979336  0.655527  0.179461 -0.182470   \n",
       "1 -1.353996  0.473313 -0.228517 -1.771255  2.111227 -1.853612 -1.183107   \n",
       "2 -0.751967 -0.690114  0.617066  0.124572  0.525736  0.213098  0.216694   \n",
       "3  1.328640 -0.860367  1.404358 -0.619844  0.818848 -2.350028 -0.554807   \n",
       "4  0.149211 -0.900094  0.077591  0.083175 -0.052198  0.774610  0.145495   \n",
       "\n",
       "        V21       V22       V23       V24       V25       V26       V27  \\\n",
       "0  0.645288  0.897861  0.208088 -0.402433 -0.092224 -0.289894  0.270724   \n",
       "1 -0.299044  0.387449  0.402712 -1.316024 -1.786733  0.729066 -2.296765   \n",
       "2 -0.687578 -0.821494  0.305614  0.134996 -0.670877  0.302549  1.266659   \n",
       "3  0.224160  0.407738 -0.198912  0.512794 -1.005893 -0.226961 -0.582855   \n",
       "4 -1.087925 -0.221450  0.846268  0.032014  0.680072  0.523781  1.763981   \n",
       "\n",
       "        V28    Amount  target  \n",
       "0 -0.444900 -0.167819       1  \n",
       "1 -1.188935  0.333962       1  \n",
       "2  0.449894 -0.139873       1  \n",
       "3 -0.580429  1.333613       1  \n",
       "4 -2.544321  0.052540       1  "
      ]
     },
     "execution_count": 57,
     "metadata": {},
     "output_type": "execute_result"
    }
   ],
   "source": [
    "adasyn_knn.head()"
   ]
  },
  {
   "cell_type": "code",
   "execution_count": 69,
   "metadata": {},
   "outputs": [
    {
     "name": "stdout",
     "output_type": "stream",
     "text": [
      "Original data shape: (1000, 30)\n",
      "Transformed data shape: (1000, 10)\n"
     ]
    }
   ],
   "source": [
    "adasyn_knn_sampled = adasyn_knn.sample(n=1000, random_state=42)\n",
    "# Assuming adasyn_knn_sampled contains the features and binary labels\n",
    "# Separate features and labels\n",
    "X = adasyn_knn_sampled.drop(columns=['target'])  # Features\n",
    "y = adasyn_knn_sampled['target']  # Binary labels\n",
    "\n",
    "# Initialize PCA with desired number of components\n",
    "pca = PCA(n_components=10)\n",
    "\n",
    "# Fit PCA to the features\n",
    "pca.fit(X)\n",
    "\n",
    "# Transform the features to their principal components\n",
    "transformed_data = pca.transform(X)\n",
    "\n",
    "# Print the shape of original data and transformed data\n",
    "print(\"Original data shape:\", X.shape)\n",
    "print(\"Transformed data shape:\", transformed_data.shape)"
   ]
  },
  {
   "cell_type": "code",
   "execution_count": 70,
   "metadata": {},
   "outputs": [
    {
     "name": "stdout",
     "output_type": "stream",
     "text": [
      "Number of anomalies detected: 271\n"
     ]
    }
   ],
   "source": [
    "from sklearn.cluster import DBSCAN\n",
    "\n",
    "# Apply DBSCAN\n",
    "dbscan = DBSCAN(eps= 3.5, min_samples=15)\n",
    "clusters = dbscan.fit_predict(transformed_data)\n",
    "\n",
    "# Identify the core samples\n",
    "core_samples_mask = np.zeros_like(dbscan.labels_, dtype=bool)\n",
    "core_samples_mask[dbscan.core_sample_indices_] = True\n",
    "\n",
    "# Label -1 is considered as noise by the DBSCAN algorithm\n",
    "# So, anomalies are the data points not part of any clusters (noise)\n",
    "anomalies = transformed_data[clusters == -1]\n",
    "\n",
    "print('Number of anomalies detected:', len(anomalies))"
   ]
  },
  {
   "cell_type": "code",
   "execution_count": 71,
   "metadata": {},
   "outputs": [
    {
     "data": {
      "text/plain": [
       "0    508\n",
       "1    492\n",
       "Name: target, dtype: int64"
      ]
     },
     "execution_count": 71,
     "metadata": {},
     "output_type": "execute_result"
    }
   ],
   "source": [
    "adasyn_knn_sampled['target'].value_counts()"
   ]
  },
  {
   "cell_type": "code",
   "execution_count": 72,
   "metadata": {},
   "outputs": [
    {
     "data": {
      "text/html": [
       "<div>\n",
       "<style scoped>\n",
       "    .dataframe tbody tr th:only-of-type {\n",
       "        vertical-align: middle;\n",
       "    }\n",
       "\n",
       "    .dataframe tbody tr th {\n",
       "        vertical-align: top;\n",
       "    }\n",
       "\n",
       "    .dataframe thead th {\n",
       "        text-align: right;\n",
       "    }\n",
       "</style>\n",
       "<table border=\"1\" class=\"dataframe\">\n",
       "  <thead>\n",
       "    <tr style=\"text-align: right;\">\n",
       "      <th></th>\n",
       "      <th>Time</th>\n",
       "      <th>V1</th>\n",
       "      <th>V2</th>\n",
       "      <th>V3</th>\n",
       "      <th>V4</th>\n",
       "      <th>V5</th>\n",
       "      <th>V6</th>\n",
       "      <th>V7</th>\n",
       "      <th>V8</th>\n",
       "      <th>V9</th>\n",
       "      <th>V10</th>\n",
       "      <th>V11</th>\n",
       "      <th>V12</th>\n",
       "      <th>V13</th>\n",
       "      <th>V14</th>\n",
       "      <th>V15</th>\n",
       "      <th>V16</th>\n",
       "      <th>V17</th>\n",
       "      <th>V18</th>\n",
       "      <th>V19</th>\n",
       "      <th>V20</th>\n",
       "      <th>V21</th>\n",
       "      <th>V22</th>\n",
       "      <th>V23</th>\n",
       "      <th>V24</th>\n",
       "      <th>V25</th>\n",
       "      <th>V26</th>\n",
       "      <th>V27</th>\n",
       "      <th>V28</th>\n",
       "      <th>Amount</th>\n",
       "      <th>target</th>\n",
       "    </tr>\n",
       "  </thead>\n",
       "  <tbody>\n",
       "    <tr>\n",
       "      <th>141117</th>\n",
       "      <td>0.807904</td>\n",
       "      <td>0.924675</td>\n",
       "      <td>0.069193</td>\n",
       "      <td>-1.014831</td>\n",
       "      <td>0.251106</td>\n",
       "      <td>0.426988</td>\n",
       "      <td>-0.441014</td>\n",
       "      <td>0.134059</td>\n",
       "      <td>-0.477555</td>\n",
       "      <td>0.433413</td>\n",
       "      <td>-0.291838</td>\n",
       "      <td>-0.435346</td>\n",
       "      <td>0.019802</td>\n",
       "      <td>0.173907</td>\n",
       "      <td>-1.010917</td>\n",
       "      <td>0.125953</td>\n",
       "      <td>0.292392</td>\n",
       "      <td>0.538059</td>\n",
       "      <td>-0.268163</td>\n",
       "      <td>0.117081</td>\n",
       "      <td>-0.232354</td>\n",
       "      <td>-0.829147</td>\n",
       "      <td>-0.906047</td>\n",
       "      <td>1.066319</td>\n",
       "      <td>0.429803</td>\n",
       "      <td>-0.373987</td>\n",
       "      <td>0.410349</td>\n",
       "      <td>-0.392150</td>\n",
       "      <td>-0.327487</td>\n",
       "      <td>-0.279746</td>\n",
       "      <td>1</td>\n",
       "    </tr>\n",
       "    <tr>\n",
       "      <th>330237</th>\n",
       "      <td>0.737960</td>\n",
       "      <td>0.186147</td>\n",
       "      <td>-0.106729</td>\n",
       "      <td>-0.860811</td>\n",
       "      <td>-0.010645</td>\n",
       "      <td>0.505334</td>\n",
       "      <td>-0.468667</td>\n",
       "      <td>0.998586</td>\n",
       "      <td>-0.582242</td>\n",
       "      <td>0.426946</td>\n",
       "      <td>-1.473515</td>\n",
       "      <td>-0.414332</td>\n",
       "      <td>0.245478</td>\n",
       "      <td>0.533226</td>\n",
       "      <td>-2.150642</td>\n",
       "      <td>-0.415711</td>\n",
       "      <td>-0.015680</td>\n",
       "      <td>1.296070</td>\n",
       "      <td>0.368375</td>\n",
       "      <td>-0.041760</td>\n",
       "      <td>1.301929</td>\n",
       "      <td>0.035357</td>\n",
       "      <td>-0.225424</td>\n",
       "      <td>0.793153</td>\n",
       "      <td>0.126435</td>\n",
       "      <td>-0.332166</td>\n",
       "      <td>-0.502000</td>\n",
       "      <td>0.046468</td>\n",
       "      <td>0.571177</td>\n",
       "      <td>2.732120</td>\n",
       "      <td>0</td>\n",
       "    </tr>\n",
       "    <tr>\n",
       "      <th>368526</th>\n",
       "      <td>0.166578</td>\n",
       "      <td>0.350388</td>\n",
       "      <td>-0.374922</td>\n",
       "      <td>-1.339315</td>\n",
       "      <td>3.041557</td>\n",
       "      <td>0.549584</td>\n",
       "      <td>-0.282393</td>\n",
       "      <td>1.158871</td>\n",
       "      <td>-0.986094</td>\n",
       "      <td>-0.137410</td>\n",
       "      <td>-0.218872</td>\n",
       "      <td>0.400258</td>\n",
       "      <td>-2.596748</td>\n",
       "      <td>1.676286</td>\n",
       "      <td>-1.403520</td>\n",
       "      <td>-1.129254</td>\n",
       "      <td>1.531352</td>\n",
       "      <td>2.440138</td>\n",
       "      <td>0.778394</td>\n",
       "      <td>-2.325864</td>\n",
       "      <td>3.026749</td>\n",
       "      <td>-0.087124</td>\n",
       "      <td>-1.118898</td>\n",
       "      <td>-1.029134</td>\n",
       "      <td>-0.487375</td>\n",
       "      <td>-0.398579</td>\n",
       "      <td>-0.377235</td>\n",
       "      <td>-0.883475</td>\n",
       "      <td>0.743674</td>\n",
       "      <td>7.908394</td>\n",
       "      <td>0</td>\n",
       "    </tr>\n",
       "    <tr>\n",
       "      <th>394542</th>\n",
       "      <td>0.555799</td>\n",
       "      <td>-0.138332</td>\n",
       "      <td>0.717663</td>\n",
       "      <td>-1.635765</td>\n",
       "      <td>-0.140571</td>\n",
       "      <td>0.321932</td>\n",
       "      <td>-0.284885</td>\n",
       "      <td>3.440892</td>\n",
       "      <td>-1.750989</td>\n",
       "      <td>-0.524881</td>\n",
       "      <td>-2.147550</td>\n",
       "      <td>-0.296697</td>\n",
       "      <td>-0.779597</td>\n",
       "      <td>0.139240</td>\n",
       "      <td>-2.627887</td>\n",
       "      <td>-0.045756</td>\n",
       "      <td>0.073098</td>\n",
       "      <td>2.066634</td>\n",
       "      <td>1.071713</td>\n",
       "      <td>-0.415492</td>\n",
       "      <td>0.148071</td>\n",
       "      <td>0.329978</td>\n",
       "      <td>0.493194</td>\n",
       "      <td>-1.264154</td>\n",
       "      <td>-1.131655</td>\n",
       "      <td>2.018720</td>\n",
       "      <td>-0.174483</td>\n",
       "      <td>-0.019305</td>\n",
       "      <td>-1.414355</td>\n",
       "      <td>6.303271</td>\n",
       "      <td>0</td>\n",
       "    </tr>\n",
       "    <tr>\n",
       "      <th>319574</th>\n",
       "      <td>-0.447782</td>\n",
       "      <td>-0.194086</td>\n",
       "      <td>-0.415654</td>\n",
       "      <td>-0.006725</td>\n",
       "      <td>1.051256</td>\n",
       "      <td>0.105668</td>\n",
       "      <td>0.182435</td>\n",
       "      <td>0.223265</td>\n",
       "      <td>-0.113079</td>\n",
       "      <td>0.518111</td>\n",
       "      <td>-0.322568</td>\n",
       "      <td>-0.653395</td>\n",
       "      <td>-0.771289</td>\n",
       "      <td>-0.967209</td>\n",
       "      <td>-1.048037</td>\n",
       "      <td>0.278504</td>\n",
       "      <td>-0.129785</td>\n",
       "      <td>1.015190</td>\n",
       "      <td>0.078272</td>\n",
       "      <td>0.364703</td>\n",
       "      <td>-1.282514</td>\n",
       "      <td>-0.787765</td>\n",
       "      <td>-0.445808</td>\n",
       "      <td>0.715668</td>\n",
       "      <td>-0.600686</td>\n",
       "      <td>0.539665</td>\n",
       "      <td>-0.512765</td>\n",
       "      <td>0.311863</td>\n",
       "      <td>1.239800</td>\n",
       "      <td>1.709517</td>\n",
       "      <td>0</td>\n",
       "    </tr>\n",
       "  </tbody>\n",
       "</table>\n",
       "</div>"
      ],
      "text/plain": [
       "            Time        V1        V2        V3        V4        V5        V6  \\\n",
       "141117  0.807904  0.924675  0.069193 -1.014831  0.251106  0.426988 -0.441014   \n",
       "330237  0.737960  0.186147 -0.106729 -0.860811 -0.010645  0.505334 -0.468667   \n",
       "368526  0.166578  0.350388 -0.374922 -1.339315  3.041557  0.549584 -0.282393   \n",
       "394542  0.555799 -0.138332  0.717663 -1.635765 -0.140571  0.321932 -0.284885   \n",
       "319574 -0.447782 -0.194086 -0.415654 -0.006725  1.051256  0.105668  0.182435   \n",
       "\n",
       "              V7        V8        V9       V10       V11       V12       V13  \\\n",
       "141117  0.134059 -0.477555  0.433413 -0.291838 -0.435346  0.019802  0.173907   \n",
       "330237  0.998586 -0.582242  0.426946 -1.473515 -0.414332  0.245478  0.533226   \n",
       "368526  1.158871 -0.986094 -0.137410 -0.218872  0.400258 -2.596748  1.676286   \n",
       "394542  3.440892 -1.750989 -0.524881 -2.147550 -0.296697 -0.779597  0.139240   \n",
       "319574  0.223265 -0.113079  0.518111 -0.322568 -0.653395 -0.771289 -0.967209   \n",
       "\n",
       "             V14       V15       V16       V17       V18       V19       V20  \\\n",
       "141117 -1.010917  0.125953  0.292392  0.538059 -0.268163  0.117081 -0.232354   \n",
       "330237 -2.150642 -0.415711 -0.015680  1.296070  0.368375 -0.041760  1.301929   \n",
       "368526 -1.403520 -1.129254  1.531352  2.440138  0.778394 -2.325864  3.026749   \n",
       "394542 -2.627887 -0.045756  0.073098  2.066634  1.071713 -0.415492  0.148071   \n",
       "319574 -1.048037  0.278504 -0.129785  1.015190  0.078272  0.364703 -1.282514   \n",
       "\n",
       "             V21       V22       V23       V24       V25       V26       V27  \\\n",
       "141117 -0.829147 -0.906047  1.066319  0.429803 -0.373987  0.410349 -0.392150   \n",
       "330237  0.035357 -0.225424  0.793153  0.126435 -0.332166 -0.502000  0.046468   \n",
       "368526 -0.087124 -1.118898 -1.029134 -0.487375 -0.398579 -0.377235 -0.883475   \n",
       "394542  0.329978  0.493194 -1.264154 -1.131655  2.018720 -0.174483 -0.019305   \n",
       "319574 -0.787765 -0.445808  0.715668 -0.600686  0.539665 -0.512765  0.311863   \n",
       "\n",
       "             V28    Amount  target  \n",
       "141117 -0.327487 -0.279746       1  \n",
       "330237  0.571177  2.732120       0  \n",
       "368526  0.743674  7.908394       0  \n",
       "394542 -1.414355  6.303271       0  \n",
       "319574  1.239800  1.709517       0  "
      ]
     },
     "execution_count": 72,
     "metadata": {},
     "output_type": "execute_result"
    }
   ],
   "source": [
    "adasyn_knn_sampled.head()"
   ]
  },
  {
   "cell_type": "markdown",
   "metadata": {},
   "source": [
    "### Silhouette Score\n",
    "\n",
    "- measure similarity between observation to its own cluster compared to other clusters\n",
    "- ranges from -1 to 1\n",
    "- ≈ 1 : well matched to its own cluster and poorly matched to neighboring "
   ]
  },
  {
   "cell_type": "code",
   "execution_count": 73,
   "metadata": {},
   "outputs": [
    {
     "data": {
      "text/plain": [
       "0.5005452514742251"
      ]
     },
     "execution_count": 73,
     "metadata": {},
     "output_type": "execute_result"
    }
   ],
   "source": [
    "from sklearn.metrics import silhouette_score\n",
    "silhouette_score(transformed_data, clusters)"
   ]
  },
  {
   "cell_type": "markdown",
   "metadata": {},
   "source": [
    "### Adjusted Rand\n",
    "\n",
    "- similarity between two clusterings\n",
    "- ≈ 0 : random cluster assignment\n",
    "- ≈ 1 precect similarity between true and predicted cluster"
   ]
  },
  {
   "cell_type": "code",
   "execution_count": 74,
   "metadata": {},
   "outputs": [
    {
     "data": {
      "text/plain": [
       "0.10552059057453389"
      ]
     },
     "execution_count": 74,
     "metadata": {},
     "output_type": "execute_result"
    }
   ],
   "source": [
    "from sklearn.metrics import adjusted_rand_score\n",
    "\n",
    "true_labels = adasyn_knn_sampled['target']\n",
    "adjusted_rand_score(true_labels, clusters)\n"
   ]
  },
  {
   "cell_type": "markdown",
   "metadata": {},
   "source": [
    "### Calinski_harabasz_score and Davies_bouldin_score\n",
    "\n",
    "- CH meanures ration between cluster dispersion to within-cluster dispersion\n",
    "- high value = better-defined, more separate clusters\n",
    "\n",
    "- DB evalutes avg similarites between each cluster and its more similar cluster, given cluster size\n",
    "- lower value = better clustering (0 = perfectly separated clusters)"
   ]
  },
  {
   "cell_type": "code",
   "execution_count": 64,
   "metadata": {},
   "outputs": [
    {
     "name": "stdout",
     "output_type": "stream",
     "text": [
      "Calinski-Harabasz Index: 146.2499667874663\n",
      "Davies-Bouldin Index: 1.9783743445383741\n"
     ]
    }
   ],
   "source": [
    "from sklearn.metrics import calinski_harabasz_score, davies_bouldin_score\n",
    "\n",
    "# Calinski-Harabasz Index\n",
    "ch_score = calinski_harabasz_score(transformed_data, clusters)\n",
    "print(\"Calinski-Harabasz Index:\", ch_score)\n",
    "\n",
    "# Davies-Bouldin Index\n",
    "db_score = davies_bouldin_score(transformed_data, clusters)\n",
    "print(\"Davies-Bouldin Index:\", db_score)\n"
   ]
  },
  {
   "cell_type": "markdown",
   "metadata": {},
   "source": [
    "### Cluster Stability \n",
    "\n",
    "- assesses the robustness of clustering results by measuring how stable the clusters are under perturbations of the data\n",
    "- helps to determin how robust clustering algorithm is against variations \n",
    "- ≈ 0 : stability between the cluster assignments across different bootstrap sample varies a lot"
   ]
  },
  {
   "cell_type": "code",
   "execution_count": 75,
   "metadata": {},
   "outputs": [
    {
     "name": "stdout",
     "output_type": "stream",
     "text": [
      "Stability Score (Adjusted Rand Index): 0.009963611651843333\n"
     ]
    }
   ],
   "source": [
    "from sklearn.metrics import adjusted_rand_score\n",
    "import numpy as np\n",
    "num_bootstraps = 100\n",
    "cluster_assignments = np.zeros((len(adasyn_knn_sampled), num_bootstraps))\n",
    "\n",
    "# Generate bootstrap samples and perform clustering\n",
    "for i in range(num_bootstraps):\n",
    "    # Generate a bootstrap sample\n",
    "    bootstrap_sample = adasyn_knn_sampled.sample(n=len(adasyn_knn_sampled), replace=True, random_state=i)\n",
    "    \n",
    "    # Fit DBSCAN to the bootstrap sample\n",
    "    clusters = dbscan.fit_predict(bootstrap_sample)\n",
    "    \n",
    "    # Store cluster assignments\n",
    "    cluster_assignments[:, i] = clusters\n",
    "\n",
    "# Compute Adjusted Rand Index between cluster assignments\n",
    "ari_scores = np.zeros((num_bootstraps, num_bootstraps))\n",
    "for i in range(num_bootstraps):\n",
    "    for j in range(num_bootstraps):\n",
    "        ari_scores[i, j] = adjusted_rand_score(cluster_assignments[:, i], cluster_assignments[:, j])\n",
    "\n",
    "\n",
    "# Compute stability score\n",
    "stability_score = np.mean(ari_scores)\n",
    "\n",
    "print(\"Stability Score (Adjusted Rand Index):\", stability_score)\n"
   ]
  }
 ],
 "metadata": {
  "kernelspec": {
   "display_name": "Python 3",
   "language": "python",
   "name": "python3"
  },
  "language_info": {
   "codemirror_mode": {
    "name": "ipython",
    "version": 3
   },
   "file_extension": ".py",
   "mimetype": "text/x-python",
   "name": "python",
   "nbconvert_exporter": "python",
   "pygments_lexer": "ipython3",
   "version": "3.11.4"
  }
 },
 "nbformat": 4,
 "nbformat_minor": 2
}
